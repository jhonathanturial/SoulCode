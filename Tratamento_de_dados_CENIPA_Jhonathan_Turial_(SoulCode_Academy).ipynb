{
  "nbformat": 4,
  "nbformat_minor": 0,
  "metadata": {
    "colab": {
      "provenance": [],
      "collapsed_sections": [
        "XjDQ-BU6CA4A",
        "xol7_k0dMQGH",
        "yKi5lbRnOz_U"
      ],
      "toc_visible": true
    },
    "kernelspec": {
      "name": "python3",
      "display_name": "Python 3"
    },
    "language_info": {
      "name": "python"
    }
  },
  "cells": [
    {
      "cell_type": "markdown",
      "source": [
        "https://pandas.pydata.org/docs/reference/api/pandas.DataFrame.plot.html"
      ],
      "metadata": {
        "id": "gN_eAViEQuyf"
      }
    },
    {
      "cell_type": "code",
      "execution_count": null,
      "metadata": {
        "colab": {
          "base_uri": "https://localhost:8080/"
        },
        "id": "OCOlwLXN73aq",
        "outputId": "98aa8507-2987-44b2-b6dc-e39cb873f41a"
      },
      "outputs": [
        {
          "output_type": "stream",
          "name": "stdout",
          "text": [
            "Looking in indexes: https://pypi.org/simple, https://us-python.pkg.dev/colab-wheels/public/simple/\n",
            "Requirement already satisfied: pandera in /usr/local/lib/python3.8/dist-packages (0.13.4)\n",
            "Requirement already satisfied: pydantic in /usr/local/lib/python3.8/dist-packages (from pandera) (1.10.2)\n",
            "Requirement already satisfied: wrapt in /usr/local/lib/python3.8/dist-packages (from pandera) (1.14.1)\n",
            "Requirement already satisfied: numpy>=1.19.0 in /usr/local/lib/python3.8/dist-packages (from pandera) (1.21.6)\n",
            "Requirement already satisfied: packaging>=20.0 in /usr/local/lib/python3.8/dist-packages (from pandera) (21.3)\n",
            "Requirement already satisfied: typing-inspect>=0.6.0 in /usr/local/lib/python3.8/dist-packages (from pandera) (0.8.0)\n",
            "Requirement already satisfied: pandas>=1.2.0 in /usr/local/lib/python3.8/dist-packages (from pandera) (1.3.5)\n",
            "Requirement already satisfied: pyparsing!=3.0.5,>=2.0.2 in /usr/local/lib/python3.8/dist-packages (from packaging>=20.0->pandera) (3.0.9)\n",
            "Requirement already satisfied: pytz>=2017.3 in /usr/local/lib/python3.8/dist-packages (from pandas>=1.2.0->pandera) (2022.6)\n",
            "Requirement already satisfied: python-dateutil>=2.7.3 in /usr/local/lib/python3.8/dist-packages (from pandas>=1.2.0->pandera) (2.8.2)\n",
            "Requirement already satisfied: six>=1.5 in /usr/local/lib/python3.8/dist-packages (from python-dateutil>=2.7.3->pandas>=1.2.0->pandera) (1.15.0)\n",
            "Requirement already satisfied: typing-extensions>=3.7.4 in /usr/local/lib/python3.8/dist-packages (from typing-inspect>=0.6.0->pandera) (4.4.0)\n",
            "Requirement already satisfied: mypy-extensions>=0.3.0 in /usr/local/lib/python3.8/dist-packages (from typing-inspect>=0.6.0->pandera) (0.4.3)\n"
          ]
        }
      ],
      "source": [
        "pip install pandera"
      ]
    },
    {
      "cell_type": "code",
      "source": [
        "import pandas as pd\n",
        "import pandera as pa"
      ],
      "metadata": {
        "id": "KRFxkpO58M9z"
      },
      "execution_count": null,
      "outputs": []
    },
    {
      "cell_type": "code",
      "source": [
        "pd.set_option('display.max_columns', 100)"
      ],
      "metadata": {
        "id": "PgRFsXmK8YFw"
      },
      "execution_count": null,
      "outputs": []
    },
    {
      "cell_type": "markdown",
      "source": [
        "## Extract Database"
      ],
      "metadata": {
        "id": "Ua24SebG8guD"
      }
    },
    {
      "cell_type": "code",
      "source": [
        "df = pd.read_csv('https://storage.googleapis.com/bucketdopandas/Dados%20da%20alesp/ocorrencia.csv',sep=';',encoding = 'ISO-8859-1',parse_dates=['ocorrencia_dia'],dayfirst=True)\n"
      ],
      "metadata": {
        "id": "UdzIee3Z8rVG"
      },
      "execution_count": null,
      "outputs": []
    },
    {
      "cell_type": "code",
      "source": [
        "df"
      ],
      "metadata": {
        "id": "VWW1dWKq9qbW"
      },
      "execution_count": null,
      "outputs": []
    },
    {
      "cell_type": "markdown",
      "source": [
        "## Pre analysis"
      ],
      "metadata": {
        "id": "JdxXfAjw9wv9"
      }
    },
    {
      "cell_type": "code",
      "source": [
        "df.head(10)"
      ],
      "metadata": {
        "id": "0ZpAWl1m96Et"
      },
      "execution_count": null,
      "outputs": []
    },
    {
      "cell_type": "code",
      "source": [
        "df.tail(10)"
      ],
      "metadata": {
        "colab": {
          "base_uri": "https://localhost:8080/",
          "height": 363
        },
        "id": "IFxqkGeY98ot",
        "outputId": "02838270-7faa-4186-873b-4bec8746c1bb"
      },
      "execution_count": null,
      "outputs": [
        {
          "output_type": "execute_result",
          "data": {
            "text/plain": [
              "        classificacao  ocorrencia              cidade  uf    pais aerodromo  \\\n",
              "6759         ACIDENTE       40069           SÃO PAULO  SP  BRASIL      SBMT   \n",
              "6760        INCIDENTE       40414            BRASÍLIA  DF  BRASIL      SBBR   \n",
              "6761  INCIDENTE GRAVE       39707            CANUTAMA  AM  BRASIL      <NA>   \n",
              "6762        INCIDENTE       40215               COARI  AM  BRASIL      SBUY   \n",
              "6763        INCIDENTE       39807            SALVADOR  BA  BRASIL      <NA>   \n",
              "6764        INCIDENTE       40324             PELOTAS  RS  BRASIL      SBPK   \n",
              "6765         ACIDENTE       39527  LUCAS DO RIO VERDE  MT  BRASIL      <NA>   \n",
              "6766        INCIDENTE       40211      RIO DE JANEIRO  RJ  BRASIL      <NA>   \n",
              "6767        INCIDENTE       40349               BELÉM  PA  BRASIL      SBBE   \n",
              "6768        INCIDENTE       40351      RIO DE JANEIRO  RJ  BRASIL      SBRJ   \n",
              "\n",
              "            dia   horario  recomendacoes  n_aeronaves saida_pista  \n",
              "6759 2010-01-10  14:50:00              8            1         NÃO  \n",
              "6760 2010-01-10  03:00:00              0            1         NÃO  \n",
              "6761 2010-01-09  12:30:00              3            1         NÃO  \n",
              "6762 2010-01-07  18:40:00              0            1         SIM  \n",
              "6763 2010-01-06  17:53:00              0            1         NÃO  \n",
              "6764 2010-01-05  19:25:00              0            1         NÃO  \n",
              "6765 2010-01-04  17:30:00              0            1         NÃO  \n",
              "6766 2010-01-03  12:00:00              0            1         NÃO  \n",
              "6767 2010-01-03  11:05:00              0            1         NÃO  \n",
              "6768 2010-01-03  03:00:00              0            1         NÃO  "
            ],
            "text/html": [
              "\n",
              "  <div id=\"df-9d575f7f-e175-4036-b9f4-1d149738835b\">\n",
              "    <div class=\"colab-df-container\">\n",
              "      <div>\n",
              "<style scoped>\n",
              "    .dataframe tbody tr th:only-of-type {\n",
              "        vertical-align: middle;\n",
              "    }\n",
              "\n",
              "    .dataframe tbody tr th {\n",
              "        vertical-align: top;\n",
              "    }\n",
              "\n",
              "    .dataframe thead th {\n",
              "        text-align: right;\n",
              "    }\n",
              "</style>\n",
              "<table border=\"1\" class=\"dataframe\">\n",
              "  <thead>\n",
              "    <tr style=\"text-align: right;\">\n",
              "      <th></th>\n",
              "      <th>classificacao</th>\n",
              "      <th>ocorrencia</th>\n",
              "      <th>cidade</th>\n",
              "      <th>uf</th>\n",
              "      <th>pais</th>\n",
              "      <th>aerodromo</th>\n",
              "      <th>dia</th>\n",
              "      <th>horario</th>\n",
              "      <th>recomendacoes</th>\n",
              "      <th>n_aeronaves</th>\n",
              "      <th>saida_pista</th>\n",
              "    </tr>\n",
              "  </thead>\n",
              "  <tbody>\n",
              "    <tr>\n",
              "      <th>6759</th>\n",
              "      <td>ACIDENTE</td>\n",
              "      <td>40069</td>\n",
              "      <td>SÃO PAULO</td>\n",
              "      <td>SP</td>\n",
              "      <td>BRASIL</td>\n",
              "      <td>SBMT</td>\n",
              "      <td>2010-01-10</td>\n",
              "      <td>14:50:00</td>\n",
              "      <td>8</td>\n",
              "      <td>1</td>\n",
              "      <td>NÃO</td>\n",
              "    </tr>\n",
              "    <tr>\n",
              "      <th>6760</th>\n",
              "      <td>INCIDENTE</td>\n",
              "      <td>40414</td>\n",
              "      <td>BRASÍLIA</td>\n",
              "      <td>DF</td>\n",
              "      <td>BRASIL</td>\n",
              "      <td>SBBR</td>\n",
              "      <td>2010-01-10</td>\n",
              "      <td>03:00:00</td>\n",
              "      <td>0</td>\n",
              "      <td>1</td>\n",
              "      <td>NÃO</td>\n",
              "    </tr>\n",
              "    <tr>\n",
              "      <th>6761</th>\n",
              "      <td>INCIDENTE GRAVE</td>\n",
              "      <td>39707</td>\n",
              "      <td>CANUTAMA</td>\n",
              "      <td>AM</td>\n",
              "      <td>BRASIL</td>\n",
              "      <td>&lt;NA&gt;</td>\n",
              "      <td>2010-01-09</td>\n",
              "      <td>12:30:00</td>\n",
              "      <td>3</td>\n",
              "      <td>1</td>\n",
              "      <td>NÃO</td>\n",
              "    </tr>\n",
              "    <tr>\n",
              "      <th>6762</th>\n",
              "      <td>INCIDENTE</td>\n",
              "      <td>40215</td>\n",
              "      <td>COARI</td>\n",
              "      <td>AM</td>\n",
              "      <td>BRASIL</td>\n",
              "      <td>SBUY</td>\n",
              "      <td>2010-01-07</td>\n",
              "      <td>18:40:00</td>\n",
              "      <td>0</td>\n",
              "      <td>1</td>\n",
              "      <td>SIM</td>\n",
              "    </tr>\n",
              "    <tr>\n",
              "      <th>6763</th>\n",
              "      <td>INCIDENTE</td>\n",
              "      <td>39807</td>\n",
              "      <td>SALVADOR</td>\n",
              "      <td>BA</td>\n",
              "      <td>BRASIL</td>\n",
              "      <td>&lt;NA&gt;</td>\n",
              "      <td>2010-01-06</td>\n",
              "      <td>17:53:00</td>\n",
              "      <td>0</td>\n",
              "      <td>1</td>\n",
              "      <td>NÃO</td>\n",
              "    </tr>\n",
              "    <tr>\n",
              "      <th>6764</th>\n",
              "      <td>INCIDENTE</td>\n",
              "      <td>40324</td>\n",
              "      <td>PELOTAS</td>\n",
              "      <td>RS</td>\n",
              "      <td>BRASIL</td>\n",
              "      <td>SBPK</td>\n",
              "      <td>2010-01-05</td>\n",
              "      <td>19:25:00</td>\n",
              "      <td>0</td>\n",
              "      <td>1</td>\n",
              "      <td>NÃO</td>\n",
              "    </tr>\n",
              "    <tr>\n",
              "      <th>6765</th>\n",
              "      <td>ACIDENTE</td>\n",
              "      <td>39527</td>\n",
              "      <td>LUCAS DO RIO VERDE</td>\n",
              "      <td>MT</td>\n",
              "      <td>BRASIL</td>\n",
              "      <td>&lt;NA&gt;</td>\n",
              "      <td>2010-01-04</td>\n",
              "      <td>17:30:00</td>\n",
              "      <td>0</td>\n",
              "      <td>1</td>\n",
              "      <td>NÃO</td>\n",
              "    </tr>\n",
              "    <tr>\n",
              "      <th>6766</th>\n",
              "      <td>INCIDENTE</td>\n",
              "      <td>40211</td>\n",
              "      <td>RIO DE JANEIRO</td>\n",
              "      <td>RJ</td>\n",
              "      <td>BRASIL</td>\n",
              "      <td>&lt;NA&gt;</td>\n",
              "      <td>2010-01-03</td>\n",
              "      <td>12:00:00</td>\n",
              "      <td>0</td>\n",
              "      <td>1</td>\n",
              "      <td>NÃO</td>\n",
              "    </tr>\n",
              "    <tr>\n",
              "      <th>6767</th>\n",
              "      <td>INCIDENTE</td>\n",
              "      <td>40349</td>\n",
              "      <td>BELÉM</td>\n",
              "      <td>PA</td>\n",
              "      <td>BRASIL</td>\n",
              "      <td>SBBE</td>\n",
              "      <td>2010-01-03</td>\n",
              "      <td>11:05:00</td>\n",
              "      <td>0</td>\n",
              "      <td>1</td>\n",
              "      <td>NÃO</td>\n",
              "    </tr>\n",
              "    <tr>\n",
              "      <th>6768</th>\n",
              "      <td>INCIDENTE</td>\n",
              "      <td>40351</td>\n",
              "      <td>RIO DE JANEIRO</td>\n",
              "      <td>RJ</td>\n",
              "      <td>BRASIL</td>\n",
              "      <td>SBRJ</td>\n",
              "      <td>2010-01-03</td>\n",
              "      <td>03:00:00</td>\n",
              "      <td>0</td>\n",
              "      <td>1</td>\n",
              "      <td>NÃO</td>\n",
              "    </tr>\n",
              "  </tbody>\n",
              "</table>\n",
              "</div>\n",
              "      <button class=\"colab-df-convert\" onclick=\"convertToInteractive('df-9d575f7f-e175-4036-b9f4-1d149738835b')\"\n",
              "              title=\"Convert this dataframe to an interactive table.\"\n",
              "              style=\"display:none;\">\n",
              "        \n",
              "  <svg xmlns=\"http://www.w3.org/2000/svg\" height=\"24px\"viewBox=\"0 0 24 24\"\n",
              "       width=\"24px\">\n",
              "    <path d=\"M0 0h24v24H0V0z\" fill=\"none\"/>\n",
              "    <path d=\"M18.56 5.44l.94 2.06.94-2.06 2.06-.94-2.06-.94-.94-2.06-.94 2.06-2.06.94zm-11 1L8.5 8.5l.94-2.06 2.06-.94-2.06-.94L8.5 2.5l-.94 2.06-2.06.94zm10 10l.94 2.06.94-2.06 2.06-.94-2.06-.94-.94-2.06-.94 2.06-2.06.94z\"/><path d=\"M17.41 7.96l-1.37-1.37c-.4-.4-.92-.59-1.43-.59-.52 0-1.04.2-1.43.59L10.3 9.45l-7.72 7.72c-.78.78-.78 2.05 0 2.83L4 21.41c.39.39.9.59 1.41.59.51 0 1.02-.2 1.41-.59l7.78-7.78 2.81-2.81c.8-.78.8-2.07 0-2.86zM5.41 20L4 18.59l7.72-7.72 1.47 1.35L5.41 20z\"/>\n",
              "  </svg>\n",
              "      </button>\n",
              "      \n",
              "  <style>\n",
              "    .colab-df-container {\n",
              "      display:flex;\n",
              "      flex-wrap:wrap;\n",
              "      gap: 12px;\n",
              "    }\n",
              "\n",
              "    .colab-df-convert {\n",
              "      background-color: #E8F0FE;\n",
              "      border: none;\n",
              "      border-radius: 50%;\n",
              "      cursor: pointer;\n",
              "      display: none;\n",
              "      fill: #1967D2;\n",
              "      height: 32px;\n",
              "      padding: 0 0 0 0;\n",
              "      width: 32px;\n",
              "    }\n",
              "\n",
              "    .colab-df-convert:hover {\n",
              "      background-color: #E2EBFA;\n",
              "      box-shadow: 0px 1px 2px rgba(60, 64, 67, 0.3), 0px 1px 3px 1px rgba(60, 64, 67, 0.15);\n",
              "      fill: #174EA6;\n",
              "    }\n",
              "\n",
              "    [theme=dark] .colab-df-convert {\n",
              "      background-color: #3B4455;\n",
              "      fill: #D2E3FC;\n",
              "    }\n",
              "\n",
              "    [theme=dark] .colab-df-convert:hover {\n",
              "      background-color: #434B5C;\n",
              "      box-shadow: 0px 1px 3px 1px rgba(0, 0, 0, 0.15);\n",
              "      filter: drop-shadow(0px 1px 2px rgba(0, 0, 0, 0.3));\n",
              "      fill: #FFFFFF;\n",
              "    }\n",
              "  </style>\n",
              "\n",
              "      <script>\n",
              "        const buttonEl =\n",
              "          document.querySelector('#df-9d575f7f-e175-4036-b9f4-1d149738835b button.colab-df-convert');\n",
              "        buttonEl.style.display =\n",
              "          google.colab.kernel.accessAllowed ? 'block' : 'none';\n",
              "\n",
              "        async function convertToInteractive(key) {\n",
              "          const element = document.querySelector('#df-9d575f7f-e175-4036-b9f4-1d149738835b');\n",
              "          const dataTable =\n",
              "            await google.colab.kernel.invokeFunction('convertToInteractive',\n",
              "                                                     [key], {});\n",
              "          if (!dataTable) return;\n",
              "\n",
              "          const docLinkHtml = 'Like what you see? Visit the ' +\n",
              "            '<a target=\"_blank\" href=https://colab.research.google.com/notebooks/data_table.ipynb>data table notebook</a>'\n",
              "            + ' to learn more about interactive tables.';\n",
              "          element.innerHTML = '';\n",
              "          dataTable['output_type'] = 'display_data';\n",
              "          await google.colab.output.renderOutput(dataTable, element);\n",
              "          const docLink = document.createElement('div');\n",
              "          docLink.innerHTML = docLinkHtml;\n",
              "          element.appendChild(docLink);\n",
              "        }\n",
              "      </script>\n",
              "    </div>\n",
              "  </div>\n",
              "  "
            ]
          },
          "metadata": {},
          "execution_count": 31
        }
      ]
    },
    {
      "cell_type": "code",
      "source": [
        "df.dtypes"
      ],
      "metadata": {
        "id": "xj9byrLf-CU-"
      },
      "execution_count": null,
      "outputs": []
    },
    {
      "cell_type": "markdown",
      "source": [
        "## Verify databases is unique"
      ],
      "metadata": {
        "id": "s_aWOzIL9oVd"
      }
    },
    {
      "cell_type": "code",
      "source": [
        "df.codigo_ocorrencia.is_unique"
      ],
      "metadata": {
        "colab": {
          "base_uri": "https://localhost:8080/"
        },
        "id": "PJ3lglR9-SgG",
        "outputId": "d5f08a84-7911-4f30-d915-d3353e45f941"
      },
      "execution_count": null,
      "outputs": [
        {
          "output_type": "execute_result",
          "data": {
            "text/plain": [
              "True"
            ]
          },
          "metadata": {},
          "execution_count": 14
        }
      ]
    },
    {
      "cell_type": "markdown",
      "source": [
        "## Set Libray"
      ],
      "metadata": {
        "id": "H44hm2n8-gON"
      }
    },
    {
      "cell_type": "code",
      "source": [
        "# Setar novo rótulo para o DF\n",
        "df.set_index('ocorrencia_classificacao',inplace=True)"
      ],
      "metadata": {
        "id": "1iLgFXZ_-cXF"
      },
      "execution_count": null,
      "outputs": []
    },
    {
      "cell_type": "code",
      "source": [
        "# Resetar o rotulo\n",
        "df.reset_index(inplace=True)"
      ],
      "metadata": {
        "id": "uIzhqJuL-eGt"
      },
      "execution_count": null,
      "outputs": []
    },
    {
      "cell_type": "code",
      "source": [
        "df"
      ],
      "metadata": {
        "id": "rrLli_p3-8fQ",
        "colab": {
          "base_uri": "https://localhost:8080/",
          "height": 505
        },
        "outputId": "f17bfd74-ab94-4277-dfd6-fec6893b2ae0"
      },
      "execution_count": null,
      "outputs": [
        {
          "output_type": "execute_result",
          "data": {
            "text/plain": [
              "     ocorrencia_classificacao  codigo_ocorrencia  codigo_ocorrencia1  \\\n",
              "0             INCIDENTE GRAVE              81027               81027   \n",
              "1                   INCIDENTE              81030               81030   \n",
              "2             INCIDENTE GRAVE              81023               81023   \n",
              "3                   INCIDENTE              81029               81029   \n",
              "4                   INCIDENTE              81025               81025   \n",
              "...                       ...                ...                 ...   \n",
              "6764                INCIDENTE              40324               40324   \n",
              "6765                 ACIDENTE              39527               39527   \n",
              "6766                INCIDENTE              40211               40211   \n",
              "6767                INCIDENTE              40349               40349   \n",
              "6768                INCIDENTE              40351               40351   \n",
              "\n",
              "      codigo_ocorrencia2  codigo_ocorrencia3  codigo_ocorrencia4  \\\n",
              "0                  81027               81027               81027   \n",
              "1                  81030               81030               81030   \n",
              "2                  81023               81023               81023   \n",
              "3                  81029               81029               81029   \n",
              "4                  81025               81025               81025   \n",
              "...                  ...                 ...                 ...   \n",
              "6764               40324               40324               40324   \n",
              "6765               39527               39527               39527   \n",
              "6766               40211               40211               40211   \n",
              "6767               40349               40349               40349   \n",
              "6768               40351               40351               40351   \n",
              "\n",
              "     ocorrencia_latitude ocorrencia_longitude   ocorrencia_cidade  \\\n",
              "0                    NaN                  NaN           SÃO PAULO   \n",
              "1                    NaN                  NaN             VITÓRIA   \n",
              "2                    NaN                  NaN           AMERICANA   \n",
              "3                    NaN                  NaN      BELO HORIZONTE   \n",
              "4                    NaN                  NaN              MANAUS   \n",
              "...                  ...                  ...                 ...   \n",
              "6764                 NaN                  NaN             PELOTAS   \n",
              "6765      -13.1066666667       -55.9930555556  LUCAS DO RIO VERDE   \n",
              "6766                 ***                  ***      RIO DE JANEIRO   \n",
              "6767                 NaN                  NaN               BELÉM   \n",
              "6768                 NaN                  NaN      RIO DE JANEIRO   \n",
              "\n",
              "     ocorrencia_uf ocorrencia_pais ocorrencia_aerodromo ocorrencia_dia  \\\n",
              "0               SP          BRASIL                 SBSP     2022-10-09   \n",
              "1               ES          BRASIL                 SBVT     2022-10-09   \n",
              "2               SP          BRASIL                 SDAI     2022-10-06   \n",
              "3               MG          BRASIL                 SBBH     2022-10-06   \n",
              "4               AM          BRASIL                 SBEG     2022-10-05   \n",
              "...            ...             ...                  ...            ...   \n",
              "6764            RS          BRASIL                 SBPK     2010-01-05   \n",
              "6765            MT          BRASIL                  ***     2010-01-04   \n",
              "6766            RJ          BRASIL                  ***     2010-01-03   \n",
              "6767            PA          BRASIL                 SBBE     2010-01-03   \n",
              "6768            RJ          BRASIL                 SBRJ     2010-01-03   \n",
              "\n",
              "     ocorrencia_hora investigacao_aeronave_liberada investigacao_status  \\\n",
              "0           16:30:00                            SIM               ATIVA   \n",
              "1           16:20:00                            SIM               ATIVA   \n",
              "2           15:30:00                            SIM          FINALIZADA   \n",
              "3           00:44:00                            SIM          FINALIZADA   \n",
              "4           20:56:00                            SIM          FINALIZADA   \n",
              "...              ...                            ...                 ...   \n",
              "6764        19:25:00                            SIM          FINALIZADA   \n",
              "6765        17:30:00                            SIM          FINALIZADA   \n",
              "6766        12:00:00                            SIM          FINALIZADA   \n",
              "6767        11:05:00                            SIM          FINALIZADA   \n",
              "6768        03:00:00                            SIM          FINALIZADA   \n",
              "\n",
              "     divulgacao_relatorio_numero divulgacao_relatorio_publicado  \\\n",
              "0                      A DEFINIR                            NÃO   \n",
              "1                      A DEFINIR                            NÃO   \n",
              "2                            ***                            NÃO   \n",
              "3                            ***                            NÃO   \n",
              "4                            ***                            NÃO   \n",
              "...                          ...                            ...   \n",
              "6764                         NaN                            NÃO   \n",
              "6765           A-539/CENIPA/2018                            SIM   \n",
              "6766                         ***                            NÃO   \n",
              "6767                         NaN                            NÃO   \n",
              "6768                         NaN                            NÃO   \n",
              "\n",
              "     divulgacao_dia_publicacao  total_recomendacoes  \\\n",
              "0                          NaN                    0   \n",
              "1                          NaN                    0   \n",
              "2                          NaN                    0   \n",
              "3                          NaN                    0   \n",
              "4                          NaN                    0   \n",
              "...                        ...                  ...   \n",
              "6764                       NaN                    0   \n",
              "6765                2019-10-28                    0   \n",
              "6766                       NaN                    0   \n",
              "6767                       NaN                    0   \n",
              "6768                       NaN                    0   \n",
              "\n",
              "      total_aeronaves_envolvidas ocorrencia_saida_pista  \n",
              "0                              1                    SIM  \n",
              "1                              1                    NÃO  \n",
              "2                              1                    SIM  \n",
              "3                              1                    NÃO  \n",
              "4                              1                    NÃO  \n",
              "...                          ...                    ...  \n",
              "6764                           1                    NÃO  \n",
              "6765                           1                    NÃO  \n",
              "6766                           1                    NÃO  \n",
              "6767                           1                    NÃO  \n",
              "6768                           1                    NÃO  \n",
              "\n",
              "[6769 rows x 22 columns]"
            ],
            "text/html": [
              "\n",
              "  <div id=\"df-9436f815-f2f2-4e29-8f0c-0ec34a02c963\">\n",
              "    <div class=\"colab-df-container\">\n",
              "      <div>\n",
              "<style scoped>\n",
              "    .dataframe tbody tr th:only-of-type {\n",
              "        vertical-align: middle;\n",
              "    }\n",
              "\n",
              "    .dataframe tbody tr th {\n",
              "        vertical-align: top;\n",
              "    }\n",
              "\n",
              "    .dataframe thead th {\n",
              "        text-align: right;\n",
              "    }\n",
              "</style>\n",
              "<table border=\"1\" class=\"dataframe\">\n",
              "  <thead>\n",
              "    <tr style=\"text-align: right;\">\n",
              "      <th></th>\n",
              "      <th>ocorrencia_classificacao</th>\n",
              "      <th>codigo_ocorrencia</th>\n",
              "      <th>codigo_ocorrencia1</th>\n",
              "      <th>codigo_ocorrencia2</th>\n",
              "      <th>codigo_ocorrencia3</th>\n",
              "      <th>codigo_ocorrencia4</th>\n",
              "      <th>ocorrencia_latitude</th>\n",
              "      <th>ocorrencia_longitude</th>\n",
              "      <th>ocorrencia_cidade</th>\n",
              "      <th>ocorrencia_uf</th>\n",
              "      <th>ocorrencia_pais</th>\n",
              "      <th>ocorrencia_aerodromo</th>\n",
              "      <th>ocorrencia_dia</th>\n",
              "      <th>ocorrencia_hora</th>\n",
              "      <th>investigacao_aeronave_liberada</th>\n",
              "      <th>investigacao_status</th>\n",
              "      <th>divulgacao_relatorio_numero</th>\n",
              "      <th>divulgacao_relatorio_publicado</th>\n",
              "      <th>divulgacao_dia_publicacao</th>\n",
              "      <th>total_recomendacoes</th>\n",
              "      <th>total_aeronaves_envolvidas</th>\n",
              "      <th>ocorrencia_saida_pista</th>\n",
              "    </tr>\n",
              "  </thead>\n",
              "  <tbody>\n",
              "    <tr>\n",
              "      <th>0</th>\n",
              "      <td>INCIDENTE GRAVE</td>\n",
              "      <td>81027</td>\n",
              "      <td>81027</td>\n",
              "      <td>81027</td>\n",
              "      <td>81027</td>\n",
              "      <td>81027</td>\n",
              "      <td>NaN</td>\n",
              "      <td>NaN</td>\n",
              "      <td>SÃO PAULO</td>\n",
              "      <td>SP</td>\n",
              "      <td>BRASIL</td>\n",
              "      <td>SBSP</td>\n",
              "      <td>2022-10-09</td>\n",
              "      <td>16:30:00</td>\n",
              "      <td>SIM</td>\n",
              "      <td>ATIVA</td>\n",
              "      <td>A DEFINIR</td>\n",
              "      <td>NÃO</td>\n",
              "      <td>NaN</td>\n",
              "      <td>0</td>\n",
              "      <td>1</td>\n",
              "      <td>SIM</td>\n",
              "    </tr>\n",
              "    <tr>\n",
              "      <th>1</th>\n",
              "      <td>INCIDENTE</td>\n",
              "      <td>81030</td>\n",
              "      <td>81030</td>\n",
              "      <td>81030</td>\n",
              "      <td>81030</td>\n",
              "      <td>81030</td>\n",
              "      <td>NaN</td>\n",
              "      <td>NaN</td>\n",
              "      <td>VITÓRIA</td>\n",
              "      <td>ES</td>\n",
              "      <td>BRASIL</td>\n",
              "      <td>SBVT</td>\n",
              "      <td>2022-10-09</td>\n",
              "      <td>16:20:00</td>\n",
              "      <td>SIM</td>\n",
              "      <td>ATIVA</td>\n",
              "      <td>A DEFINIR</td>\n",
              "      <td>NÃO</td>\n",
              "      <td>NaN</td>\n",
              "      <td>0</td>\n",
              "      <td>1</td>\n",
              "      <td>NÃO</td>\n",
              "    </tr>\n",
              "    <tr>\n",
              "      <th>2</th>\n",
              "      <td>INCIDENTE GRAVE</td>\n",
              "      <td>81023</td>\n",
              "      <td>81023</td>\n",
              "      <td>81023</td>\n",
              "      <td>81023</td>\n",
              "      <td>81023</td>\n",
              "      <td>NaN</td>\n",
              "      <td>NaN</td>\n",
              "      <td>AMERICANA</td>\n",
              "      <td>SP</td>\n",
              "      <td>BRASIL</td>\n",
              "      <td>SDAI</td>\n",
              "      <td>2022-10-06</td>\n",
              "      <td>15:30:00</td>\n",
              "      <td>SIM</td>\n",
              "      <td>FINALIZADA</td>\n",
              "      <td>***</td>\n",
              "      <td>NÃO</td>\n",
              "      <td>NaN</td>\n",
              "      <td>0</td>\n",
              "      <td>1</td>\n",
              "      <td>SIM</td>\n",
              "    </tr>\n",
              "    <tr>\n",
              "      <th>3</th>\n",
              "      <td>INCIDENTE</td>\n",
              "      <td>81029</td>\n",
              "      <td>81029</td>\n",
              "      <td>81029</td>\n",
              "      <td>81029</td>\n",
              "      <td>81029</td>\n",
              "      <td>NaN</td>\n",
              "      <td>NaN</td>\n",
              "      <td>BELO HORIZONTE</td>\n",
              "      <td>MG</td>\n",
              "      <td>BRASIL</td>\n",
              "      <td>SBBH</td>\n",
              "      <td>2022-10-06</td>\n",
              "      <td>00:44:00</td>\n",
              "      <td>SIM</td>\n",
              "      <td>FINALIZADA</td>\n",
              "      <td>***</td>\n",
              "      <td>NÃO</td>\n",
              "      <td>NaN</td>\n",
              "      <td>0</td>\n",
              "      <td>1</td>\n",
              "      <td>NÃO</td>\n",
              "    </tr>\n",
              "    <tr>\n",
              "      <th>4</th>\n",
              "      <td>INCIDENTE</td>\n",
              "      <td>81025</td>\n",
              "      <td>81025</td>\n",
              "      <td>81025</td>\n",
              "      <td>81025</td>\n",
              "      <td>81025</td>\n",
              "      <td>NaN</td>\n",
              "      <td>NaN</td>\n",
              "      <td>MANAUS</td>\n",
              "      <td>AM</td>\n",
              "      <td>BRASIL</td>\n",
              "      <td>SBEG</td>\n",
              "      <td>2022-10-05</td>\n",
              "      <td>20:56:00</td>\n",
              "      <td>SIM</td>\n",
              "      <td>FINALIZADA</td>\n",
              "      <td>***</td>\n",
              "      <td>NÃO</td>\n",
              "      <td>NaN</td>\n",
              "      <td>0</td>\n",
              "      <td>1</td>\n",
              "      <td>NÃO</td>\n",
              "    </tr>\n",
              "    <tr>\n",
              "      <th>...</th>\n",
              "      <td>...</td>\n",
              "      <td>...</td>\n",
              "      <td>...</td>\n",
              "      <td>...</td>\n",
              "      <td>...</td>\n",
              "      <td>...</td>\n",
              "      <td>...</td>\n",
              "      <td>...</td>\n",
              "      <td>...</td>\n",
              "      <td>...</td>\n",
              "      <td>...</td>\n",
              "      <td>...</td>\n",
              "      <td>...</td>\n",
              "      <td>...</td>\n",
              "      <td>...</td>\n",
              "      <td>...</td>\n",
              "      <td>...</td>\n",
              "      <td>...</td>\n",
              "      <td>...</td>\n",
              "      <td>...</td>\n",
              "      <td>...</td>\n",
              "      <td>...</td>\n",
              "    </tr>\n",
              "    <tr>\n",
              "      <th>6764</th>\n",
              "      <td>INCIDENTE</td>\n",
              "      <td>40324</td>\n",
              "      <td>40324</td>\n",
              "      <td>40324</td>\n",
              "      <td>40324</td>\n",
              "      <td>40324</td>\n",
              "      <td>NaN</td>\n",
              "      <td>NaN</td>\n",
              "      <td>PELOTAS</td>\n",
              "      <td>RS</td>\n",
              "      <td>BRASIL</td>\n",
              "      <td>SBPK</td>\n",
              "      <td>2010-01-05</td>\n",
              "      <td>19:25:00</td>\n",
              "      <td>SIM</td>\n",
              "      <td>FINALIZADA</td>\n",
              "      <td>NaN</td>\n",
              "      <td>NÃO</td>\n",
              "      <td>NaN</td>\n",
              "      <td>0</td>\n",
              "      <td>1</td>\n",
              "      <td>NÃO</td>\n",
              "    </tr>\n",
              "    <tr>\n",
              "      <th>6765</th>\n",
              "      <td>ACIDENTE</td>\n",
              "      <td>39527</td>\n",
              "      <td>39527</td>\n",
              "      <td>39527</td>\n",
              "      <td>39527</td>\n",
              "      <td>39527</td>\n",
              "      <td>-13.1066666667</td>\n",
              "      <td>-55.9930555556</td>\n",
              "      <td>LUCAS DO RIO VERDE</td>\n",
              "      <td>MT</td>\n",
              "      <td>BRASIL</td>\n",
              "      <td>***</td>\n",
              "      <td>2010-01-04</td>\n",
              "      <td>17:30:00</td>\n",
              "      <td>SIM</td>\n",
              "      <td>FINALIZADA</td>\n",
              "      <td>A-539/CENIPA/2018</td>\n",
              "      <td>SIM</td>\n",
              "      <td>2019-10-28</td>\n",
              "      <td>0</td>\n",
              "      <td>1</td>\n",
              "      <td>NÃO</td>\n",
              "    </tr>\n",
              "    <tr>\n",
              "      <th>6766</th>\n",
              "      <td>INCIDENTE</td>\n",
              "      <td>40211</td>\n",
              "      <td>40211</td>\n",
              "      <td>40211</td>\n",
              "      <td>40211</td>\n",
              "      <td>40211</td>\n",
              "      <td>***</td>\n",
              "      <td>***</td>\n",
              "      <td>RIO DE JANEIRO</td>\n",
              "      <td>RJ</td>\n",
              "      <td>BRASIL</td>\n",
              "      <td>***</td>\n",
              "      <td>2010-01-03</td>\n",
              "      <td>12:00:00</td>\n",
              "      <td>SIM</td>\n",
              "      <td>FINALIZADA</td>\n",
              "      <td>***</td>\n",
              "      <td>NÃO</td>\n",
              "      <td>NaN</td>\n",
              "      <td>0</td>\n",
              "      <td>1</td>\n",
              "      <td>NÃO</td>\n",
              "    </tr>\n",
              "    <tr>\n",
              "      <th>6767</th>\n",
              "      <td>INCIDENTE</td>\n",
              "      <td>40349</td>\n",
              "      <td>40349</td>\n",
              "      <td>40349</td>\n",
              "      <td>40349</td>\n",
              "      <td>40349</td>\n",
              "      <td>NaN</td>\n",
              "      <td>NaN</td>\n",
              "      <td>BELÉM</td>\n",
              "      <td>PA</td>\n",
              "      <td>BRASIL</td>\n",
              "      <td>SBBE</td>\n",
              "      <td>2010-01-03</td>\n",
              "      <td>11:05:00</td>\n",
              "      <td>SIM</td>\n",
              "      <td>FINALIZADA</td>\n",
              "      <td>NaN</td>\n",
              "      <td>NÃO</td>\n",
              "      <td>NaN</td>\n",
              "      <td>0</td>\n",
              "      <td>1</td>\n",
              "      <td>NÃO</td>\n",
              "    </tr>\n",
              "    <tr>\n",
              "      <th>6768</th>\n",
              "      <td>INCIDENTE</td>\n",
              "      <td>40351</td>\n",
              "      <td>40351</td>\n",
              "      <td>40351</td>\n",
              "      <td>40351</td>\n",
              "      <td>40351</td>\n",
              "      <td>NaN</td>\n",
              "      <td>NaN</td>\n",
              "      <td>RIO DE JANEIRO</td>\n",
              "      <td>RJ</td>\n",
              "      <td>BRASIL</td>\n",
              "      <td>SBRJ</td>\n",
              "      <td>2010-01-03</td>\n",
              "      <td>03:00:00</td>\n",
              "      <td>SIM</td>\n",
              "      <td>FINALIZADA</td>\n",
              "      <td>NaN</td>\n",
              "      <td>NÃO</td>\n",
              "      <td>NaN</td>\n",
              "      <td>0</td>\n",
              "      <td>1</td>\n",
              "      <td>NÃO</td>\n",
              "    </tr>\n",
              "  </tbody>\n",
              "</table>\n",
              "<p>6769 rows × 22 columns</p>\n",
              "</div>\n",
              "      <button class=\"colab-df-convert\" onclick=\"convertToInteractive('df-9436f815-f2f2-4e29-8f0c-0ec34a02c963')\"\n",
              "              title=\"Convert this dataframe to an interactive table.\"\n",
              "              style=\"display:none;\">\n",
              "        \n",
              "  <svg xmlns=\"http://www.w3.org/2000/svg\" height=\"24px\"viewBox=\"0 0 24 24\"\n",
              "       width=\"24px\">\n",
              "    <path d=\"M0 0h24v24H0V0z\" fill=\"none\"/>\n",
              "    <path d=\"M18.56 5.44l.94 2.06.94-2.06 2.06-.94-2.06-.94-.94-2.06-.94 2.06-2.06.94zm-11 1L8.5 8.5l.94-2.06 2.06-.94-2.06-.94L8.5 2.5l-.94 2.06-2.06.94zm10 10l.94 2.06.94-2.06 2.06-.94-2.06-.94-.94-2.06-.94 2.06-2.06.94z\"/><path d=\"M17.41 7.96l-1.37-1.37c-.4-.4-.92-.59-1.43-.59-.52 0-1.04.2-1.43.59L10.3 9.45l-7.72 7.72c-.78.78-.78 2.05 0 2.83L4 21.41c.39.39.9.59 1.41.59.51 0 1.02-.2 1.41-.59l7.78-7.78 2.81-2.81c.8-.78.8-2.07 0-2.86zM5.41 20L4 18.59l7.72-7.72 1.47 1.35L5.41 20z\"/>\n",
              "  </svg>\n",
              "      </button>\n",
              "      \n",
              "  <style>\n",
              "    .colab-df-container {\n",
              "      display:flex;\n",
              "      flex-wrap:wrap;\n",
              "      gap: 12px;\n",
              "    }\n",
              "\n",
              "    .colab-df-convert {\n",
              "      background-color: #E8F0FE;\n",
              "      border: none;\n",
              "      border-radius: 50%;\n",
              "      cursor: pointer;\n",
              "      display: none;\n",
              "      fill: #1967D2;\n",
              "      height: 32px;\n",
              "      padding: 0 0 0 0;\n",
              "      width: 32px;\n",
              "    }\n",
              "\n",
              "    .colab-df-convert:hover {\n",
              "      background-color: #E2EBFA;\n",
              "      box-shadow: 0px 1px 2px rgba(60, 64, 67, 0.3), 0px 1px 3px 1px rgba(60, 64, 67, 0.15);\n",
              "      fill: #174EA6;\n",
              "    }\n",
              "\n",
              "    [theme=dark] .colab-df-convert {\n",
              "      background-color: #3B4455;\n",
              "      fill: #D2E3FC;\n",
              "    }\n",
              "\n",
              "    [theme=dark] .colab-df-convert:hover {\n",
              "      background-color: #434B5C;\n",
              "      box-shadow: 0px 1px 3px 1px rgba(0, 0, 0, 0.15);\n",
              "      filter: drop-shadow(0px 1px 2px rgba(0, 0, 0, 0.3));\n",
              "      fill: #FFFFFF;\n",
              "    }\n",
              "  </style>\n",
              "\n",
              "      <script>\n",
              "        const buttonEl =\n",
              "          document.querySelector('#df-9436f815-f2f2-4e29-8f0c-0ec34a02c963 button.colab-df-convert');\n",
              "        buttonEl.style.display =\n",
              "          google.colab.kernel.accessAllowed ? 'block' : 'none';\n",
              "\n",
              "        async function convertToInteractive(key) {\n",
              "          const element = document.querySelector('#df-9436f815-f2f2-4e29-8f0c-0ec34a02c963');\n",
              "          const dataTable =\n",
              "            await google.colab.kernel.invokeFunction('convertToInteractive',\n",
              "                                                     [key], {});\n",
              "          if (!dataTable) return;\n",
              "\n",
              "          const docLinkHtml = 'Like what you see? Visit the ' +\n",
              "            '<a target=\"_blank\" href=https://colab.research.google.com/notebooks/data_table.ipynb>data table notebook</a>'\n",
              "            + ' to learn more about interactive tables.';\n",
              "          element.innerHTML = '';\n",
              "          dataTable['output_type'] = 'display_data';\n",
              "          await google.colab.output.renderOutput(dataTable, element);\n",
              "          const docLink = document.createElement('div');\n",
              "          docLink.innerHTML = docLinkHtml;\n",
              "          element.appendChild(docLink);\n",
              "        }\n",
              "      </script>\n",
              "    </div>\n",
              "  </div>\n",
              "  "
            ]
          },
          "metadata": {},
          "execution_count": 7
        }
      ]
    },
    {
      "cell_type": "markdown",
      "source": [
        "## Backup"
      ],
      "metadata": {
        "id": "fG_5cCHd_CJP"
      }
    },
    {
      "cell_type": "code",
      "source": [
        "dfback = df.copy()"
      ],
      "metadata": {
        "id": "uLn2JjGV_FjW"
      },
      "execution_count": null,
      "outputs": []
    },
    {
      "cell_type": "markdown",
      "source": [
        "## Clear of Data"
      ],
      "metadata": {
        "id": "e5rRqJuJ_Mbl"
      }
    },
    {
      "cell_type": "code",
      "source": [
        "#Dropagem das colunas que tinham dados repetidos\n",
        "df.drop(['codigo_ocorrencia1','codigo_ocorrencia2','codigo_ocorrencia3','codigo_ocorrencia4'],axis=1,inplace=True)"
      ],
      "metadata": {
        "id": "Qb2170Mb_ShN"
      },
      "execution_count": null,
      "outputs": []
    },
    {
      "cell_type": "code",
      "source": [
        "#Drop de colunas que não serão utilizadas\n",
        "df.drop(['ocorrencia_latitude','ocorrencia_longitude','investigacao_aeronave_liberada','investigacao_status','divulgacao_relatorio_numero','divulgacao_relatorio_publicado','divulgacao_dia_publicacao'],axis=1,inplace=True)"
      ],
      "metadata": {
        "id": "zFT0EIMR_X4Y"
      },
      "execution_count": null,
      "outputs": []
    },
    {
      "cell_type": "code",
      "source": [
        "#Renomear as colunas\n",
        "df.rename(columns={'codigo_ocorrencia':'ocorrencia','ocorrencia_classificacao':'classificacao','ocorrencia_cidade':'cidade','ocorrencia_uf':'uf','ocorrencia_pais':'pais','ocorrencia_aerodromo':'aerodromo'},inplace=True)\n",
        "df.rename(columns={'ocorrencia_dia':'data','ocorrencia_hora':'horario','total_recomendacoes':'recomendacoes','total_aeronaves_envolvidas':'n_aeronaves','ocorrencia_saida_pista':'saida_pista'},inplace=True)"
      ],
      "metadata": {
        "id": "8tQBwv8J_a0d"
      },
      "execution_count": null,
      "outputs": []
    },
    {
      "cell_type": "code",
      "source": [
        "df.dtypes"
      ],
      "metadata": {
        "colab": {
          "base_uri": "https://localhost:8080/"
        },
        "id": "jkqGwpr5_lLY",
        "outputId": "ffe766bc-1a3f-4e90-c624-b3570eb75c7e"
      },
      "execution_count": null,
      "outputs": [
        {
          "output_type": "execute_result",
          "data": {
            "text/plain": [
              "classificacao            object\n",
              "ocorrencia                int64\n",
              "cidade                   object\n",
              "uf                       object\n",
              "pais                     object\n",
              "aerodromo                object\n",
              "dia              datetime64[ns]\n",
              "horario                  object\n",
              "recomendacoes             int64\n",
              "n_aeronaves               int64\n",
              "saida_pista              object\n",
              "dtype: object"
            ]
          },
          "metadata": {},
          "execution_count": 12
        }
      ]
    },
    {
      "cell_type": "code",
      "source": [
        "pd.unique(df['aerodromo'])"
      ],
      "metadata": {
        "id": "r7Zt8MSU_qG3",
        "colab": {
          "base_uri": "https://localhost:8080/"
        },
        "outputId": "71d5c284-151c-434c-d224-bebd9e23caf6"
      },
      "execution_count": null,
      "outputs": [
        {
          "output_type": "execute_result",
          "data": {
            "text/plain": [
              "array(['SBSP', 'SBVT', 'SDAI', 'SBBH', 'SBEG', '***', '**NI', 'SBNV',\n",
              "       'SBUL', 'SBAU', 'SBBP', 'SBTE', 'SBGR', 'SBMT', 'SBCT', 'SBCF',\n",
              "       'SIEK', 'SBRJ', 'SDLP', 'SWPD', 'SBMA', 'SNYP', 'SNHH', 'SBJF',\n",
              "       'SBCY', 'SBPS', 'SBMK', 'SBNF', 'SBTF', 'SSMK', 'SNAX', 'SBKP',\n",
              "       'SBFZ', 'SNPA', 'SBIZ', 'SNFX', 'SDRK', 'SBRF', 'SSBN', 'SBPR',\n",
              "       'SBSJ', 'SBST', 'SBGO', 'SDCO', 'SBSV', 'SBPJ', 'SBGL', 'SBRD',\n",
              "       'SBBE', 'SBCH', 'SBLO', 'SBPL', 'SWGW', 'SWLB', 'SBBU', 'SBMQ',\n",
              "       'SIPO', 'SIAN', 'SBJV', 'SNDC', 'SBBI', 'SBSC', 'SSKG', 'SBBR',\n",
              "       'SSBG', 'SBIL', 'SBPO', 'SDAM', 'SSOG', 'SBPV', 'SBSR', 'SBBV',\n",
              "       'SBSN', 'SBFI', 'SDFD', 'SJEH', 'SBSI', 'SWFN', 'SDIG', 'SNHS',\n",
              "       'SBJP', 'SBPA', 'SBJA', 'SBJR', 'SBRP', 'SISN', 'SBMO', 'SNRU',\n",
              "       'SNQV', 'SNCP', 'SDIH', 'SBTG', 'SIVU', 'SWMV', 'SIRI', 'SNIT',\n",
              "       'SBRB', 'SSPI', 'SWCA', 'SBJI', 'SBFL', 'SDRC', 'SNMH', 'SNBS',\n",
              "       'SWLW', 'SSOT', 'SNPO', 'SBCG', 'SBJD', 'SDEN', 'APUA', 'SDAG',\n",
              "       'SIUD', 'SDBB', 'SBMS', 'SDDR', 'SDVH', 'SSKK', 'SJVX', 'SBVH',\n",
              "       'SDRV', 'SBML', 'SSGP', 'SD6Y', 'SNJL', 'SDZS', 'SIBK', 'SNDV',\n",
              "       'SBJH', 'SBCZ', 'SSNH', 'SBMG', 'SSZR', 'SDAE', 'SSOL', 'SIFQ',\n",
              "       'SSWF', 'SBPP', 'SBAX', 'SJLJ', 'SDPW', 'SSFB', 'SBSG', 'SDTB',\n",
              "       'SSCE', 'SSBL', 'SNCT', 'SILQ', 'SSQZ', 'SILT', 'SBIH', 'SIFW',\n",
              "       'SBDN', 'SWHP', 'SNGW', 'SBPG', 'SJOG', 'SJPT', 'SWPI', 'SWNG',\n",
              "       'SSKT', 'SJNC', 'SBEK', 'SWON', 'SIZM', 'SWME', 'SJOD', 'SBCB',\n",
              "       'SDVG', 'SSPO', 'SBCR', 'SBCX', 'SSCD', 'SIXE', 'SNLM', 'SDIP',\n",
              "       'SBTV', 'SWNH', 'SSCL', 'SJBX', 'SNGA', 'SIMQ', 'SIQE', 'SWXV',\n",
              "       'SWXQ', '9PBS', 'SISY', 'SDLL', 'SNCJ', 'SBGP', 'SDUL', 'SIVB',\n",
              "       'SWNS', 'SDRS', 'SSNG', 'SBZM', 'SSRA', 'SWLC', 'SWTS', 'SWEN',\n",
              "       'SBNM', 'SBAT', 'SBMD', 'SJIJ', 'SBSL', 'SDAA', 'SBCP', 'SWRW',\n",
              "       'SWVW', 'SJYG', 'SBVG', 'SJGL', 'SSFE', 'SSIE', 'SJLY', 'SWEK',\n",
              "       'SSCK', 'SBGV', 'SNDT', 'SIMB', 'SNRP', 'SSXO', 'SSUL', '9PAA',\n",
              "       'SDCD', 'SNAS', 'SWEJ', 'SIFC', 'SSDK', 'SBJC', 'SBTT', 'SSKZ',\n",
              "       'SBCA', 'SWPY', 'SSOK', 'SDYJ', 'SWFR', '9PSD', 'SNAL', 'SDOI',\n",
              "       'SBGW', 'SDJA', 'SSSC', 'SWGI', 'SNPC', 'SDEM', 'SJIF', 'SSGG',\n",
              "       'SIVQ', 'SBIT', 'SDLY', 'SJVL', 'SDET', 'SBUY', 'SDJO', 'SNLF',\n",
              "       'SDIO', 'SDVO', 'SNIZ', 'SDVK', 'SIBO', 'SWFX', 'SSVA', 'SWMZ',\n",
              "       'SSER', 'SNEJ', 'SNQX', 'SDGR', 'SILC', 'SWUZ', 'SDSC', 'SBTA',\n",
              "       'SWEW', 'SBJU', 'SSGA', 'SDUB', 'SSCN', 'SSUB', 'SNWC', 'SWYV',\n",
              "       'SBLJ', 'SJBH', 'SBFS', 'SNJK', 'SNME', 'SWVC', 'SJNP', 'SNOF',\n",
              "       'SWFV', 'SDQG', 'SJBY', 'SNCV', 'SNBR', 'SJQN', 'SSRS', 'SWJP',\n",
              "       'SNMA', 'SSMW', 'SIJY', 'SNJR', 'SNGX', 'SNMD', 'SNDU', 'SDDN',\n",
              "       'SNJI', 'SDTK', 'SSMH', '9PHD', 'SDPA', 'SNGS', 'SBUR', 'SBPF',\n",
              "       'SIPB', 'SBLE', 'SNSH', 'SNDH', 'SWSI', 'SNPY', 'SSOS', 'SWEF',\n",
              "       'SJBM', 'SSGB', 'SDGX', 'SIXD', 'SNGQ', 'SWUV', 'SBAE', 'SBTR',\n",
              "       'SSZL', 'SJWQ', 'SNBA', 'SBPB', 'SNDP', 'SWPM', 'SDOW', 'SSNV',\n",
              "       'SWVI', 'SSGX', 'SNKH', 'SWVR', 'SDTF', 'SSKW', 'SWVZ', 'SNJO',\n",
              "       'SNTO', 'SJXM', 'SDNH', '5JTI', 'SNFS', 'SSFC', 'SWGN', 'SIBH',\n",
              "       'SJFM', 'SBQV', 'SDTO', 'SDKH', 'SDXF', 'SWGC', 'SWSL', 'SBAQ',\n",
              "       'SWLV', 'SNMU', 'SNPD', 'SWKT', 'SDEE', 'SWGL', 'SDNB', 'SWNK',\n",
              "       'SDNI', 'SSKM', 'SSJL', 'SJLU', 'SBCJ', 'SDIM', 'SJAH', 'SNNL',\n",
              "       'SWIN', '9PFX', 'SSBR', 'SBPC', 'SNZA', 'SJVO', 'SDLZ', 'SBSM',\n",
              "       'SSSE', 'SBHT', 'SIQH', 'SSLT', 'SWPQ', '9PFC', 'SWRZ', 'SNCX',\n",
              "       'SJNQ', 'SSSZ', 'SBME', 'SBAR', 'SDMJ', 'SNLO', 'SDVI', 'SNYR',\n",
              "       'SSPB', 'SSJA', 'SWJW', 'SING', 'SIQK', 'SD4V', 'SIFV', 'SBBQ',\n",
              "       'SSAK', 'SSQI', 'SNJN', 'SDPG', 'SDZX', 'SNPX', 'SNVS', 'SWIT',\n",
              "       'SNYS', 'SJLO', 'SWAQ', 'SDYF', 'SDBN', 'SBFE', 'SWQI', 'SIKC',\n",
              "       'SNSG', 'SDWU', 'SWPA', 'SSPV', 'SJDU', 'SWRD', 'SSSS', 'SWMO',\n",
              "       'SDJL', 'SDMH', 'SWRO', 'SDWC', 'SSJI', 'SNJD', 'SNOG', 'SNHB',\n",
              "       'SBPK', 'SWKO', 'SNKF', 'SIPY', 'SNVC', 'SDMM', 'SDVE', 'SWBE',\n",
              "       'SWMW', 'SDEH', 'SNXW', 'SJYR', 'SNCW', 'SSAU', 'SDJC', 'SBTD',\n",
              "       'SNHE', 'SBUA', 'SSAC', 'SNMX', 'SSCP', 'SSPX', 'SNBO', 'SDWV',\n",
              "       'SWEI', 'SBKG', 'SNFE', 'SDED', 'SDRE', 'SWUQ', 'SWBB', 'SIJG',\n",
              "       'SNAU', 'SSIJ', 'SBAN', 'SNTY', 'SNKK', 'SNPJ', 'SJRG', 'SBIP',\n",
              "       'SIFH', 'SDBK', 'SNVB', 'SSPQ', 'SDBA', 'SNUN', 'SSKS', 'SNXR',\n",
              "       'SNGG', 'SSIQ', 'SSPG', 'SNBG', 'SDTI', 'SWJN', 'SDYW', 'SBBW',\n",
              "       'SSPL', 'SDHP', 'SSCT', 'SBFN', 'SSDO', 'SSAY', 'SSAQ', 'SDJB',\n",
              "       'SDMC', 'SJCY', 'SJFU', 'SNKI', 'SSQT', 'SWOB', 'SDPY', 'SBMY',\n",
              "       'SDVL', 'SDPN', 'SSTL', 'SWGP', 'SION', 'SDHU', 'SWNB', 'SNXI',\n",
              "       'SSRZ', 'SDDQ', 'SSDP', 'SIPU', 'SNAG', 'SWCZ', 'SNEM', 'SDNE',\n",
              "       'SNGU', 'SNSW', 'SDMV', 'SNYE', 'SWYH', 'SNGV', 'SNKE', 'SSSB',\n",
              "       'SSHS', 'SNKB', 'SWUI', 'SSNB', 'SJHR', 'SNAZ', 'SBNT', 'SSCR',\n",
              "       'SNTF', 'SBBZ', 'SNOD', 'SNCL', 'SJTO', 'SDBV', 'SIRS', 'SJHG',\n",
              "       'SNDR', 'SIBX', 'SDOR', 'SWNO', 'SNIG', 'SWKC', 'SBTK', 'SSTH',\n",
              "       'SBUF', 'SNFJ', 'SDKE', 'SWDC', 'SDLO', 'SNWS', 'SSCF', 'SNXT',\n",
              "       'SSPS', 'SSVN', 'SNUZ', 'SBPN', 'SWOZ', 'SSUV', 'SNVR'],\n",
              "      dtype=object)"
            ]
          },
          "metadata": {},
          "execution_count": 13
        }
      ]
    },
    {
      "cell_type": "markdown",
      "source": [
        "`Inconsistencias encontradas *** ,**NI`\n",
        "\n",
        "\n"
      ],
      "metadata": {
        "id": "zmm3CAUb_yjC"
      }
    },
    {
      "cell_type": "code",
      "source": [
        "df.replace(['***','**NI'],pd.NA,inplace=True)"
      ],
      "metadata": {
        "id": "n5RtEOSl_-dH"
      },
      "execution_count": null,
      "outputs": []
    },
    {
      "cell_type": "code",
      "source": [
        "#converter coluna dia\n",
        "df['dia'] = df['dia'].astype(str)"
      ],
      "metadata": {
        "id": "isclrjFEygCQ"
      },
      "execution_count": null,
      "outputs": []
    },
    {
      "cell_type": "markdown",
      "source": [
        "## Validation of data"
      ],
      "metadata": {
        "id": "oePD_EsLAB0V"
      }
    },
    {
      "cell_type": "code",
      "source": [
        "# Criação do schema de validação dos dados\n",
        "\n",
        "schema = pa.DataFrameSchema(\n",
        "      columns = {\n",
        "          'classificacao':pa.Column(pa.String),\n",
        "          'ocorrencia':pa.Column(pa.Int),\n",
        "          'cidade':pa.Column(pa.String),\n",
        "          'uf':pa.Column(pa.String,pa.Check.str_length(2,2),nullable=True),\n",
        "          'pais':pa.Column(pa.String),\n",
        "          'aerodromo':pa.Column(pa.String,pa.Check.str_length(4,4),nullable=True),\n",
        "          'data':pa.Column(pa.DateTime),\n",
        "          'horario':pa.Column(pa.String,pa.Check.str_matches(r'^([0-1]?[0-9]|[2][0-3]):([0-5][0-9]):([0-5][0-9])?$'),nullable=True),\n",
        "          'recomendacoes':pa.Column(pa.Int),\n",
        "          'n_aeronaves':pa.Column(pa.Int),\n",
        "          'saida_pista':pa.Column(pa.String,pa.Check.str_length(3,3)),\n",
        "      }\n",
        "  )"
      ],
      "metadata": {
        "id": "mlv9fqujAPYt"
      },
      "execution_count": null,
      "outputs": []
    },
    {
      "cell_type": "code",
      "source": [
        "#validador do DF\n",
        "schema.validate(df)"
      ],
      "metadata": {
        "colab": {
          "base_uri": "https://localhost:8080/",
          "height": 449
        },
        "id": "l0kfw2_kAT_9",
        "outputId": "ff33d281-f7ba-41d5-ff42-5115f469d144"
      },
      "execution_count": null,
      "outputs": [
        {
          "output_type": "error",
          "ename": "SchemaError",
          "evalue": "ignored",
          "traceback": [
            "\u001b[0;31m---------------------------------------------------------------------------\u001b[0m",
            "\u001b[0;31mSchemaError\u001b[0m                               Traceback (most recent call last)",
            "\u001b[0;32m<ipython-input-51-8b99901a5edb>\u001b[0m in \u001b[0;36m<module>\u001b[0;34m\u001b[0m\n\u001b[1;32m      1\u001b[0m \u001b[0;31m#validador do DF\u001b[0m\u001b[0;34m\u001b[0m\u001b[0;34m\u001b[0m\u001b[0;34m\u001b[0m\u001b[0m\n\u001b[0;32m----> 2\u001b[0;31m \u001b[0mschema\u001b[0m\u001b[0;34m.\u001b[0m\u001b[0mvalidate\u001b[0m\u001b[0;34m(\u001b[0m\u001b[0mdf\u001b[0m\u001b[0;34m)\u001b[0m\u001b[0;34m\u001b[0m\u001b[0;34m\u001b[0m\u001b[0m\n\u001b[0m",
            "\u001b[0;32m/usr/local/lib/python3.8/dist-packages/pandera/schemas.py\u001b[0m in \u001b[0;36mvalidate\u001b[0;34m(self, check_obj, head, tail, sample, random_state, lazy, inplace)\u001b[0m\n\u001b[1;32m    532\u001b[0m             \u001b[0;32mreturn\u001b[0m \u001b[0mcheck_obj\u001b[0m\u001b[0;34m.\u001b[0m\u001b[0mpandera\u001b[0m\u001b[0;34m.\u001b[0m\u001b[0madd_schema\u001b[0m\u001b[0;34m(\u001b[0m\u001b[0mself\u001b[0m\u001b[0;34m)\u001b[0m\u001b[0;34m\u001b[0m\u001b[0;34m\u001b[0m\u001b[0m\n\u001b[1;32m    533\u001b[0m \u001b[0;34m\u001b[0m\u001b[0m\n\u001b[0;32m--> 534\u001b[0;31m         return self._validate(\n\u001b[0m\u001b[1;32m    535\u001b[0m             \u001b[0mcheck_obj\u001b[0m\u001b[0;34m=\u001b[0m\u001b[0mcheck_obj\u001b[0m\u001b[0;34m,\u001b[0m\u001b[0;34m\u001b[0m\u001b[0;34m\u001b[0m\u001b[0m\n\u001b[1;32m    536\u001b[0m             \u001b[0mhead\u001b[0m\u001b[0;34m=\u001b[0m\u001b[0mhead\u001b[0m\u001b[0;34m,\u001b[0m\u001b[0;34m\u001b[0m\u001b[0;34m\u001b[0m\u001b[0m\n",
            "\u001b[0;32m/usr/local/lib/python3.8/dist-packages/pandera/schemas.py\u001b[0m in \u001b[0;36m_validate\u001b[0;34m(self, check_obj, head, tail, sample, random_state, lazy, inplace)\u001b[0m\n\u001b[1;32m    730\u001b[0m                 \u001b[0mcheck_results\u001b[0m\u001b[0;34m.\u001b[0m\u001b[0mappend\u001b[0m\u001b[0;34m(\u001b[0m\u001b[0mcheck_utils\u001b[0m\u001b[0;34m.\u001b[0m\u001b[0mis_table\u001b[0m\u001b[0;34m(\u001b[0m\u001b[0mresult\u001b[0m\u001b[0;34m)\u001b[0m\u001b[0;34m)\u001b[0m\u001b[0;34m\u001b[0m\u001b[0;34m\u001b[0m\u001b[0m\n\u001b[1;32m    731\u001b[0m             \u001b[0;32mexcept\u001b[0m \u001b[0merrors\u001b[0m\u001b[0;34m.\u001b[0m\u001b[0mSchemaError\u001b[0m \u001b[0;32mas\u001b[0m \u001b[0merr\u001b[0m\u001b[0;34m:\u001b[0m\u001b[0;34m\u001b[0m\u001b[0;34m\u001b[0m\u001b[0m\n\u001b[0;32m--> 732\u001b[0;31m                 \u001b[0merror_handler\u001b[0m\u001b[0;34m.\u001b[0m\u001b[0mcollect_error\u001b[0m\u001b[0;34m(\u001b[0m\u001b[0;34m\"schema_component_check\"\u001b[0m\u001b[0;34m,\u001b[0m \u001b[0merr\u001b[0m\u001b[0;34m)\u001b[0m\u001b[0;34m\u001b[0m\u001b[0;34m\u001b[0m\u001b[0m\n\u001b[0m\u001b[1;32m    733\u001b[0m             \u001b[0;32mexcept\u001b[0m \u001b[0merrors\u001b[0m\u001b[0;34m.\u001b[0m\u001b[0mSchemaErrors\u001b[0m \u001b[0;32mas\u001b[0m \u001b[0merr\u001b[0m\u001b[0;34m:\u001b[0m\u001b[0;34m\u001b[0m\u001b[0;34m\u001b[0m\u001b[0m\n\u001b[1;32m    734\u001b[0m                 \u001b[0;32mfor\u001b[0m \u001b[0mschema_error_dict\u001b[0m \u001b[0;32min\u001b[0m \u001b[0merr\u001b[0m\u001b[0;34m.\u001b[0m\u001b[0mschema_errors\u001b[0m\u001b[0;34m:\u001b[0m\u001b[0;34m\u001b[0m\u001b[0;34m\u001b[0m\u001b[0m\n",
            "\u001b[0;32m/usr/local/lib/python3.8/dist-packages/pandera/error_handlers.py\u001b[0m in \u001b[0;36mcollect_error\u001b[0;34m(self, reason_code, schema_error, original_exc)\u001b[0m\n\u001b[1;32m     30\u001b[0m         \"\"\"\n\u001b[1;32m     31\u001b[0m         \u001b[0;32mif\u001b[0m \u001b[0;32mnot\u001b[0m \u001b[0mself\u001b[0m\u001b[0;34m.\u001b[0m\u001b[0m_lazy\u001b[0m\u001b[0;34m:\u001b[0m\u001b[0;34m\u001b[0m\u001b[0;34m\u001b[0m\u001b[0m\n\u001b[0;32m---> 32\u001b[0;31m             \u001b[0;32mraise\u001b[0m \u001b[0mschema_error\u001b[0m \u001b[0;32mfrom\u001b[0m \u001b[0moriginal_exc\u001b[0m\u001b[0;34m\u001b[0m\u001b[0;34m\u001b[0m\u001b[0m\n\u001b[0m\u001b[1;32m     33\u001b[0m \u001b[0;34m\u001b[0m\u001b[0m\n\u001b[1;32m     34\u001b[0m         \u001b[0;31m# delete data of validated object from SchemaError object to prevent\u001b[0m\u001b[0;34m\u001b[0m\u001b[0;34m\u001b[0m\u001b[0;34m\u001b[0m\u001b[0m\n",
            "\u001b[0;32m/usr/local/lib/python3.8/dist-packages/pandera/schemas.py\u001b[0m in \u001b[0;36m_validate\u001b[0;34m(self, check_obj, head, tail, sample, random_state, lazy, inplace)\u001b[0m\n\u001b[1;32m    722\u001b[0m         \u001b[0;32mfor\u001b[0m \u001b[0mschema_component\u001b[0m \u001b[0;32min\u001b[0m \u001b[0mschema_components\u001b[0m\u001b[0;34m:\u001b[0m\u001b[0;34m\u001b[0m\u001b[0;34m\u001b[0m\u001b[0m\n\u001b[1;32m    723\u001b[0m             \u001b[0;32mtry\u001b[0m\u001b[0;34m:\u001b[0m\u001b[0;34m\u001b[0m\u001b[0;34m\u001b[0m\u001b[0m\n\u001b[0;32m--> 724\u001b[0;31m                 result = schema_component(\n\u001b[0m\u001b[1;32m    725\u001b[0m                     \u001b[0mdf_to_validate\u001b[0m\u001b[0;34m,\u001b[0m\u001b[0;34m\u001b[0m\u001b[0;34m\u001b[0m\u001b[0m\n\u001b[1;32m    726\u001b[0m                     \u001b[0mlazy\u001b[0m\u001b[0;34m=\u001b[0m\u001b[0mlazy\u001b[0m\u001b[0;34m,\u001b[0m\u001b[0;34m\u001b[0m\u001b[0;34m\u001b[0m\u001b[0m\n",
            "\u001b[0;32m/usr/local/lib/python3.8/dist-packages/pandera/schemas.py\u001b[0m in \u001b[0;36m__call__\u001b[0;34m(self, check_obj, head, tail, sample, random_state, lazy, inplace)\u001b[0m\n\u001b[1;32m   2136\u001b[0m     ) -> Union[pd.DataFrame, pd.Series]:\n\u001b[1;32m   2137\u001b[0m         \u001b[0;34m\"\"\"Alias for ``validate`` method.\"\"\"\u001b[0m\u001b[0;34m\u001b[0m\u001b[0;34m\u001b[0m\u001b[0m\n\u001b[0;32m-> 2138\u001b[0;31m         return self.validate(\n\u001b[0m\u001b[1;32m   2139\u001b[0m             \u001b[0mcheck_obj\u001b[0m\u001b[0;34m,\u001b[0m \u001b[0mhead\u001b[0m\u001b[0;34m,\u001b[0m \u001b[0mtail\u001b[0m\u001b[0;34m,\u001b[0m \u001b[0msample\u001b[0m\u001b[0;34m,\u001b[0m \u001b[0mrandom_state\u001b[0m\u001b[0;34m,\u001b[0m \u001b[0mlazy\u001b[0m\u001b[0;34m,\u001b[0m \u001b[0minplace\u001b[0m\u001b[0;34m\u001b[0m\u001b[0;34m\u001b[0m\u001b[0m\n\u001b[1;32m   2140\u001b[0m         )\n",
            "\u001b[0;32m/usr/local/lib/python3.8/dist-packages/pandera/schema_components.py\u001b[0m in \u001b[0;36mvalidate\u001b[0;34m(self, check_obj, head, tail, sample, random_state, lazy, inplace)\u001b[0m\n\u001b[1;32m    221\u001b[0m                     )\n\u001b[1;32m    222\u001b[0m             \u001b[0;32melse\u001b[0m\u001b[0;34m:\u001b[0m\u001b[0;34m\u001b[0m\u001b[0;34m\u001b[0m\u001b[0m\n\u001b[0;32m--> 223\u001b[0;31m                 \u001b[0mvalidate_column\u001b[0m\u001b[0;34m(\u001b[0m\u001b[0mcheck_obj\u001b[0m\u001b[0;34m,\u001b[0m \u001b[0mcolumn_name\u001b[0m\u001b[0;34m)\u001b[0m\u001b[0;34m\u001b[0m\u001b[0;34m\u001b[0m\u001b[0m\n\u001b[0m\u001b[1;32m    224\u001b[0m \u001b[0;34m\u001b[0m\u001b[0m\n\u001b[1;32m    225\u001b[0m         \u001b[0;32mreturn\u001b[0m \u001b[0mcheck_obj\u001b[0m\u001b[0;34m\u001b[0m\u001b[0;34m\u001b[0m\u001b[0m\n",
            "\u001b[0;32m/usr/local/lib/python3.8/dist-packages/pandera/schema_components.py\u001b[0m in \u001b[0;36mvalidate_column\u001b[0;34m(check_obj, column_name)\u001b[0m\n\u001b[1;32m    194\u001b[0m \u001b[0;34m\u001b[0m\u001b[0m\n\u001b[1;32m    195\u001b[0m         \u001b[0;32mdef\u001b[0m \u001b[0mvalidate_column\u001b[0m\u001b[0;34m(\u001b[0m\u001b[0mcheck_obj\u001b[0m\u001b[0;34m,\u001b[0m \u001b[0mcolumn_name\u001b[0m\u001b[0;34m)\u001b[0m\u001b[0;34m:\u001b[0m\u001b[0;34m\u001b[0m\u001b[0;34m\u001b[0m\u001b[0m\n\u001b[0;32m--> 196\u001b[0;31m             super(Column, copy(self).set_name(column_name)).validate(\n\u001b[0m\u001b[1;32m    197\u001b[0m                 \u001b[0mcheck_obj\u001b[0m\u001b[0;34m,\u001b[0m\u001b[0;34m\u001b[0m\u001b[0;34m\u001b[0m\u001b[0m\n\u001b[1;32m    198\u001b[0m                 \u001b[0mhead\u001b[0m\u001b[0;34m,\u001b[0m\u001b[0;34m\u001b[0m\u001b[0;34m\u001b[0m\u001b[0m\n",
            "\u001b[0;32m/usr/local/lib/python3.8/dist-packages/pandera/schemas.py\u001b[0m in \u001b[0;36mvalidate\u001b[0;34m(self, check_obj, head, tail, sample, random_state, lazy, inplace)\u001b[0m\n\u001b[1;32m   2094\u001b[0m                 )\n\u001b[1;32m   2095\u001b[0m             \u001b[0;32mexcept\u001b[0m \u001b[0merrors\u001b[0m\u001b[0;34m.\u001b[0m\u001b[0mSchemaError\u001b[0m \u001b[0;32mas\u001b[0m \u001b[0merr\u001b[0m\u001b[0;34m:\u001b[0m\u001b[0;34m\u001b[0m\u001b[0;34m\u001b[0m\u001b[0m\n\u001b[0;32m-> 2096\u001b[0;31m                 \u001b[0merror_handler\u001b[0m\u001b[0;34m.\u001b[0m\u001b[0mcollect_error\u001b[0m\u001b[0;34m(\u001b[0m\u001b[0;34m\"dataframe_check\"\u001b[0m\u001b[0;34m,\u001b[0m \u001b[0merr\u001b[0m\u001b[0;34m)\u001b[0m\u001b[0;34m\u001b[0m\u001b[0;34m\u001b[0m\u001b[0m\n\u001b[0m\u001b[1;32m   2097\u001b[0m             \u001b[0;32mexcept\u001b[0m \u001b[0mException\u001b[0m \u001b[0;32mas\u001b[0m \u001b[0merr\u001b[0m\u001b[0;34m:\u001b[0m  \u001b[0;31m# pylint: disable=broad-except\u001b[0m\u001b[0;34m\u001b[0m\u001b[0;34m\u001b[0m\u001b[0m\n\u001b[1;32m   2098\u001b[0m                 \u001b[0;31m# catch other exceptions that may occur when executing the\u001b[0m\u001b[0;34m\u001b[0m\u001b[0;34m\u001b[0m\u001b[0;34m\u001b[0m\u001b[0m\n",
            "\u001b[0;32m/usr/local/lib/python3.8/dist-packages/pandera/error_handlers.py\u001b[0m in \u001b[0;36mcollect_error\u001b[0;34m(self, reason_code, schema_error, original_exc)\u001b[0m\n\u001b[1;32m     30\u001b[0m         \"\"\"\n\u001b[1;32m     31\u001b[0m         \u001b[0;32mif\u001b[0m \u001b[0;32mnot\u001b[0m \u001b[0mself\u001b[0m\u001b[0;34m.\u001b[0m\u001b[0m_lazy\u001b[0m\u001b[0;34m:\u001b[0m\u001b[0;34m\u001b[0m\u001b[0;34m\u001b[0m\u001b[0m\n\u001b[0;32m---> 32\u001b[0;31m             \u001b[0;32mraise\u001b[0m \u001b[0mschema_error\u001b[0m \u001b[0;32mfrom\u001b[0m \u001b[0moriginal_exc\u001b[0m\u001b[0;34m\u001b[0m\u001b[0;34m\u001b[0m\u001b[0m\n\u001b[0m\u001b[1;32m     33\u001b[0m \u001b[0;34m\u001b[0m\u001b[0m\n\u001b[1;32m     34\u001b[0m         \u001b[0;31m# delete data of validated object from SchemaError object to prevent\u001b[0m\u001b[0;34m\u001b[0m\u001b[0;34m\u001b[0m\u001b[0;34m\u001b[0m\u001b[0m\n",
            "\u001b[0;32m/usr/local/lib/python3.8/dist-packages/pandera/schemas.py\u001b[0m in \u001b[0;36mvalidate\u001b[0;34m(self, check_obj, head, tail, sample, random_state, lazy, inplace)\u001b[0m\n\u001b[1;32m   2089\u001b[0m             \u001b[0;32mtry\u001b[0m\u001b[0;34m:\u001b[0m\u001b[0;34m\u001b[0m\u001b[0;34m\u001b[0m\u001b[0m\n\u001b[1;32m   2090\u001b[0m                 check_results.append(\n\u001b[0;32m-> 2091\u001b[0;31m                     _handle_check_results(\n\u001b[0m\u001b[1;32m   2092\u001b[0m                         \u001b[0mself\u001b[0m\u001b[0;34m,\u001b[0m \u001b[0mcheck_index\u001b[0m\u001b[0;34m,\u001b[0m \u001b[0mcheck\u001b[0m\u001b[0;34m,\u001b[0m \u001b[0mcheck_obj\u001b[0m\u001b[0;34m,\u001b[0m \u001b[0;34m*\u001b[0m\u001b[0mcheck_args\u001b[0m\u001b[0;34m\u001b[0m\u001b[0;34m\u001b[0m\u001b[0m\n\u001b[1;32m   2093\u001b[0m                     )\n",
            "\u001b[0;32m/usr/local/lib/python3.8/dist-packages/pandera/schemas.py\u001b[0m in \u001b[0;36m_handle_check_results\u001b[0;34m(schema, check_index, check, check_obj, *check_args)\u001b[0m\n\u001b[1;32m   2480\u001b[0m             \u001b[0mwarnings\u001b[0m\u001b[0;34m.\u001b[0m\u001b[0mwarn\u001b[0m\u001b[0;34m(\u001b[0m\u001b[0merror_msg\u001b[0m\u001b[0;34m,\u001b[0m \u001b[0mUserWarning\u001b[0m\u001b[0;34m)\u001b[0m\u001b[0;34m\u001b[0m\u001b[0;34m\u001b[0m\u001b[0m\n\u001b[1;32m   2481\u001b[0m             \u001b[0;32mreturn\u001b[0m \u001b[0;32mTrue\u001b[0m\u001b[0;34m\u001b[0m\u001b[0;34m\u001b[0m\u001b[0m\n\u001b[0;32m-> 2482\u001b[0;31m         raise errors.SchemaError(\n\u001b[0m\u001b[1;32m   2483\u001b[0m             \u001b[0mschema\u001b[0m\u001b[0;34m,\u001b[0m\u001b[0;34m\u001b[0m\u001b[0;34m\u001b[0m\u001b[0m\n\u001b[1;32m   2484\u001b[0m             \u001b[0mcheck_obj\u001b[0m\u001b[0;34m,\u001b[0m\u001b[0;34m\u001b[0m\u001b[0;34m\u001b[0m\u001b[0m\n",
            "\u001b[0;31mSchemaError\u001b[0m: <Schema Column(name=uf, type=DataType(str))> failed element-wise validator 0:\n<Check str_length: str_length(2, 2)>\nfailure cases:\n   index failure_case\n0    283          ***\n1    320          ***\n2    912          ***\n3   4541          ***"
          ]
        }
      ]
    },
    {
      "cell_type": "code",
      "source": [
        "df.loc[0,'uf'] = 'SP'"
      ],
      "metadata": {
        "id": "K9CSEptFAxB1"
      },
      "execution_count": null,
      "outputs": []
    },
    {
      "cell_type": "code",
      "source": [
        "df.loc[0]"
      ],
      "metadata": {
        "id": "d55L3LRHBk82"
      },
      "execution_count": null,
      "outputs": []
    },
    {
      "cell_type": "code",
      "source": [
        "#Somar e exibir os valores ausentes no DF\n",
        "df.isna().sum()"
      ],
      "metadata": {
        "colab": {
          "base_uri": "https://localhost:8080/"
        },
        "id": "Z3C6DG0HB4vZ",
        "outputId": "ad312359-ad18-4836-dade-8439afccdf6d"
      },
      "execution_count": null,
      "outputs": [
        {
          "output_type": "execute_result",
          "data": {
            "text/plain": [
              "classificacao       0\n",
              "ocorrencia          0\n",
              "cidade              0\n",
              "uf                  4\n",
              "pais                0\n",
              "aerodromo        2618\n",
              "dia                 0\n",
              "horario             2\n",
              "recomendacoes       0\n",
              "n_aeronaves         0\n",
              "saida_pista         0\n",
              "dtype: int64"
            ]
          },
          "metadata": {},
          "execution_count": 37
        }
      ]
    },
    {
      "cell_type": "code",
      "source": [
        "pd.unique(df['saida_pista'])"
      ],
      "metadata": {
        "colab": {
          "base_uri": "https://localhost:8080/"
        },
        "id": "a3R8ne9pB7yG",
        "outputId": "be080ee0-400b-4ece-fc22-7d4811228055"
      },
      "execution_count": null,
      "outputs": [
        {
          "output_type": "execute_result",
          "data": {
            "text/plain": [
              "array(['SIM', 'NÃO'], dtype=object)"
            ]
          },
          "metadata": {},
          "execution_count": 38
        }
      ]
    },
    {
      "cell_type": "markdown",
      "source": [
        "# Filters"
      ],
      "metadata": {
        "id": "XjDQ-BU6CA4A"
      }
    },
    {
      "cell_type": "code",
      "source": [
        "# New column\n",
        "df['aeroback'] = df.aerodromo"
      ],
      "metadata": {
        "id": "WaqwYD13Ld3G"
      },
      "execution_count": null,
      "outputs": []
    },
    {
      "cell_type": "code",
      "source": [
        "# Filters out null or missing values | NA , NULL , NaN , NaT e etc\n",
        "filtronulo = df.aerodromo.isna()\n",
        "df.loc[filtronulo]"
      ],
      "metadata": {
        "colab": {
          "base_uri": "https://localhost:8080/"
        },
        "id": "awVUDeBbLoP-",
        "outputId": "b51716da-595c-4224-8866-8544816383a3"
      },
      "execution_count": null,
      "outputs": [
        {
          "output_type": "execute_result",
          "data": {
            "text/plain": [
              "        classificacao  ocorrencia              cidade  uf    pais aerodromo  \\\n",
              "5            ACIDENTE       81019        PORTO ALEGRE  RS  BRASIL      <NA>   \n",
              "6           INCIDENTE       81022              LOBATO  PR  BRASIL      <NA>   \n",
              "7            ACIDENTE       81021   NOVA BANDEIRANTES  MT  BRASIL      <NA>   \n",
              "8     INCIDENTE GRAVE       81009             NAVIRAÍ  MS  BRASIL      <NA>   \n",
              "9           INCIDENTE       81012            LINHARES  ES  BRASIL      <NA>   \n",
              "...               ...         ...                 ...  ..     ...       ...   \n",
              "6758        INCIDENTE       39789    SÃO PEDRO DO SUL  RS  BRASIL      <NA>   \n",
              "6761  INCIDENTE GRAVE       39707            CANUTAMA  AM  BRASIL      <NA>   \n",
              "6763        INCIDENTE       39807            SALVADOR  BA  BRASIL      <NA>   \n",
              "6765         ACIDENTE       39527  LUCAS DO RIO VERDE  MT  BRASIL      <NA>   \n",
              "6766        INCIDENTE       40211      RIO DE JANEIRO  RJ  BRASIL      <NA>   \n",
              "\n",
              "            dia   horario  recomendacoes  n_aeronaves saida_pista aeroback  \n",
              "5    2022-10-03  20:50:00              0            1         NÃO     <NA>  \n",
              "6    2022-10-03  15:38:00              0            1         NÃO     <NA>  \n",
              "7    2022-10-02  19:00:00              0            1         SIM     <NA>  \n",
              "8    2022-10-01  10:10:00              0            1         SIM     <NA>  \n",
              "9    2022-09-30  12:20:00              0            1         NÃO     <NA>  \n",
              "...         ...       ...            ...          ...         ...      ...  \n",
              "6758 2010-01-10  21:30:00              0            1         NÃO     <NA>  \n",
              "6761 2010-01-09  12:30:00              3            1         NÃO     <NA>  \n",
              "6763 2010-01-06  17:53:00              0            1         NÃO     <NA>  \n",
              "6765 2010-01-04  17:30:00              0            1         NÃO     <NA>  \n",
              "6766 2010-01-03  12:00:00              0            1         NÃO     <NA>  \n",
              "\n",
              "[2618 rows x 12 columns]"
            ],
            "text/html": [
              "\n",
              "  <div id=\"df-30babf55-dada-43dd-a856-013b4f9e190b\">\n",
              "    <div class=\"colab-df-container\">\n",
              "      <div>\n",
              "<style scoped>\n",
              "    .dataframe tbody tr th:only-of-type {\n",
              "        vertical-align: middle;\n",
              "    }\n",
              "\n",
              "    .dataframe tbody tr th {\n",
              "        vertical-align: top;\n",
              "    }\n",
              "\n",
              "    .dataframe thead th {\n",
              "        text-align: right;\n",
              "    }\n",
              "</style>\n",
              "<table border=\"1\" class=\"dataframe\">\n",
              "  <thead>\n",
              "    <tr style=\"text-align: right;\">\n",
              "      <th></th>\n",
              "      <th>classificacao</th>\n",
              "      <th>ocorrencia</th>\n",
              "      <th>cidade</th>\n",
              "      <th>uf</th>\n",
              "      <th>pais</th>\n",
              "      <th>aerodromo</th>\n",
              "      <th>dia</th>\n",
              "      <th>horario</th>\n",
              "      <th>recomendacoes</th>\n",
              "      <th>n_aeronaves</th>\n",
              "      <th>saida_pista</th>\n",
              "      <th>aeroback</th>\n",
              "    </tr>\n",
              "  </thead>\n",
              "  <tbody>\n",
              "    <tr>\n",
              "      <th>5</th>\n",
              "      <td>ACIDENTE</td>\n",
              "      <td>81019</td>\n",
              "      <td>PORTO ALEGRE</td>\n",
              "      <td>RS</td>\n",
              "      <td>BRASIL</td>\n",
              "      <td>&lt;NA&gt;</td>\n",
              "      <td>2022-10-03</td>\n",
              "      <td>20:50:00</td>\n",
              "      <td>0</td>\n",
              "      <td>1</td>\n",
              "      <td>NÃO</td>\n",
              "      <td>&lt;NA&gt;</td>\n",
              "    </tr>\n",
              "    <tr>\n",
              "      <th>6</th>\n",
              "      <td>INCIDENTE</td>\n",
              "      <td>81022</td>\n",
              "      <td>LOBATO</td>\n",
              "      <td>PR</td>\n",
              "      <td>BRASIL</td>\n",
              "      <td>&lt;NA&gt;</td>\n",
              "      <td>2022-10-03</td>\n",
              "      <td>15:38:00</td>\n",
              "      <td>0</td>\n",
              "      <td>1</td>\n",
              "      <td>NÃO</td>\n",
              "      <td>&lt;NA&gt;</td>\n",
              "    </tr>\n",
              "    <tr>\n",
              "      <th>7</th>\n",
              "      <td>ACIDENTE</td>\n",
              "      <td>81021</td>\n",
              "      <td>NOVA BANDEIRANTES</td>\n",
              "      <td>MT</td>\n",
              "      <td>BRASIL</td>\n",
              "      <td>&lt;NA&gt;</td>\n",
              "      <td>2022-10-02</td>\n",
              "      <td>19:00:00</td>\n",
              "      <td>0</td>\n",
              "      <td>1</td>\n",
              "      <td>SIM</td>\n",
              "      <td>&lt;NA&gt;</td>\n",
              "    </tr>\n",
              "    <tr>\n",
              "      <th>8</th>\n",
              "      <td>INCIDENTE GRAVE</td>\n",
              "      <td>81009</td>\n",
              "      <td>NAVIRAÍ</td>\n",
              "      <td>MS</td>\n",
              "      <td>BRASIL</td>\n",
              "      <td>&lt;NA&gt;</td>\n",
              "      <td>2022-10-01</td>\n",
              "      <td>10:10:00</td>\n",
              "      <td>0</td>\n",
              "      <td>1</td>\n",
              "      <td>SIM</td>\n",
              "      <td>&lt;NA&gt;</td>\n",
              "    </tr>\n",
              "    <tr>\n",
              "      <th>9</th>\n",
              "      <td>INCIDENTE</td>\n",
              "      <td>81012</td>\n",
              "      <td>LINHARES</td>\n",
              "      <td>ES</td>\n",
              "      <td>BRASIL</td>\n",
              "      <td>&lt;NA&gt;</td>\n",
              "      <td>2022-09-30</td>\n",
              "      <td>12:20:00</td>\n",
              "      <td>0</td>\n",
              "      <td>1</td>\n",
              "      <td>NÃO</td>\n",
              "      <td>&lt;NA&gt;</td>\n",
              "    </tr>\n",
              "    <tr>\n",
              "      <th>...</th>\n",
              "      <td>...</td>\n",
              "      <td>...</td>\n",
              "      <td>...</td>\n",
              "      <td>...</td>\n",
              "      <td>...</td>\n",
              "      <td>...</td>\n",
              "      <td>...</td>\n",
              "      <td>...</td>\n",
              "      <td>...</td>\n",
              "      <td>...</td>\n",
              "      <td>...</td>\n",
              "      <td>...</td>\n",
              "    </tr>\n",
              "    <tr>\n",
              "      <th>6758</th>\n",
              "      <td>INCIDENTE</td>\n",
              "      <td>39789</td>\n",
              "      <td>SÃO PEDRO DO SUL</td>\n",
              "      <td>RS</td>\n",
              "      <td>BRASIL</td>\n",
              "      <td>&lt;NA&gt;</td>\n",
              "      <td>2010-01-10</td>\n",
              "      <td>21:30:00</td>\n",
              "      <td>0</td>\n",
              "      <td>1</td>\n",
              "      <td>NÃO</td>\n",
              "      <td>&lt;NA&gt;</td>\n",
              "    </tr>\n",
              "    <tr>\n",
              "      <th>6761</th>\n",
              "      <td>INCIDENTE GRAVE</td>\n",
              "      <td>39707</td>\n",
              "      <td>CANUTAMA</td>\n",
              "      <td>AM</td>\n",
              "      <td>BRASIL</td>\n",
              "      <td>&lt;NA&gt;</td>\n",
              "      <td>2010-01-09</td>\n",
              "      <td>12:30:00</td>\n",
              "      <td>3</td>\n",
              "      <td>1</td>\n",
              "      <td>NÃO</td>\n",
              "      <td>&lt;NA&gt;</td>\n",
              "    </tr>\n",
              "    <tr>\n",
              "      <th>6763</th>\n",
              "      <td>INCIDENTE</td>\n",
              "      <td>39807</td>\n",
              "      <td>SALVADOR</td>\n",
              "      <td>BA</td>\n",
              "      <td>BRASIL</td>\n",
              "      <td>&lt;NA&gt;</td>\n",
              "      <td>2010-01-06</td>\n",
              "      <td>17:53:00</td>\n",
              "      <td>0</td>\n",
              "      <td>1</td>\n",
              "      <td>NÃO</td>\n",
              "      <td>&lt;NA&gt;</td>\n",
              "    </tr>\n",
              "    <tr>\n",
              "      <th>6765</th>\n",
              "      <td>ACIDENTE</td>\n",
              "      <td>39527</td>\n",
              "      <td>LUCAS DO RIO VERDE</td>\n",
              "      <td>MT</td>\n",
              "      <td>BRASIL</td>\n",
              "      <td>&lt;NA&gt;</td>\n",
              "      <td>2010-01-04</td>\n",
              "      <td>17:30:00</td>\n",
              "      <td>0</td>\n",
              "      <td>1</td>\n",
              "      <td>NÃO</td>\n",
              "      <td>&lt;NA&gt;</td>\n",
              "    </tr>\n",
              "    <tr>\n",
              "      <th>6766</th>\n",
              "      <td>INCIDENTE</td>\n",
              "      <td>40211</td>\n",
              "      <td>RIO DE JANEIRO</td>\n",
              "      <td>RJ</td>\n",
              "      <td>BRASIL</td>\n",
              "      <td>&lt;NA&gt;</td>\n",
              "      <td>2010-01-03</td>\n",
              "      <td>12:00:00</td>\n",
              "      <td>0</td>\n",
              "      <td>1</td>\n",
              "      <td>NÃO</td>\n",
              "      <td>&lt;NA&gt;</td>\n",
              "    </tr>\n",
              "  </tbody>\n",
              "</table>\n",
              "<p>2618 rows × 12 columns</p>\n",
              "</div>\n",
              "      <button class=\"colab-df-convert\" onclick=\"convertToInteractive('df-30babf55-dada-43dd-a856-013b4f9e190b')\"\n",
              "              title=\"Convert this dataframe to an interactive table.\"\n",
              "              style=\"display:none;\">\n",
              "        \n",
              "  <svg xmlns=\"http://www.w3.org/2000/svg\" height=\"24px\"viewBox=\"0 0 24 24\"\n",
              "       width=\"24px\">\n",
              "    <path d=\"M0 0h24v24H0V0z\" fill=\"none\"/>\n",
              "    <path d=\"M18.56 5.44l.94 2.06.94-2.06 2.06-.94-2.06-.94-.94-2.06-.94 2.06-2.06.94zm-11 1L8.5 8.5l.94-2.06 2.06-.94-2.06-.94L8.5 2.5l-.94 2.06-2.06.94zm10 10l.94 2.06.94-2.06 2.06-.94-2.06-.94-.94-2.06-.94 2.06-2.06.94z\"/><path d=\"M17.41 7.96l-1.37-1.37c-.4-.4-.92-.59-1.43-.59-.52 0-1.04.2-1.43.59L10.3 9.45l-7.72 7.72c-.78.78-.78 2.05 0 2.83L4 21.41c.39.39.9.59 1.41.59.51 0 1.02-.2 1.41-.59l7.78-7.78 2.81-2.81c.8-.78.8-2.07 0-2.86zM5.41 20L4 18.59l7.72-7.72 1.47 1.35L5.41 20z\"/>\n",
              "  </svg>\n",
              "      </button>\n",
              "      \n",
              "  <style>\n",
              "    .colab-df-container {\n",
              "      display:flex;\n",
              "      flex-wrap:wrap;\n",
              "      gap: 12px;\n",
              "    }\n",
              "\n",
              "    .colab-df-convert {\n",
              "      background-color: #E8F0FE;\n",
              "      border: none;\n",
              "      border-radius: 50%;\n",
              "      cursor: pointer;\n",
              "      display: none;\n",
              "      fill: #1967D2;\n",
              "      height: 32px;\n",
              "      padding: 0 0 0 0;\n",
              "      width: 32px;\n",
              "    }\n",
              "\n",
              "    .colab-df-convert:hover {\n",
              "      background-color: #E2EBFA;\n",
              "      box-shadow: 0px 1px 2px rgba(60, 64, 67, 0.3), 0px 1px 3px 1px rgba(60, 64, 67, 0.15);\n",
              "      fill: #174EA6;\n",
              "    }\n",
              "\n",
              "    [theme=dark] .colab-df-convert {\n",
              "      background-color: #3B4455;\n",
              "      fill: #D2E3FC;\n",
              "    }\n",
              "\n",
              "    [theme=dark] .colab-df-convert:hover {\n",
              "      background-color: #434B5C;\n",
              "      box-shadow: 0px 1px 3px 1px rgba(0, 0, 0, 0.15);\n",
              "      filter: drop-shadow(0px 1px 2px rgba(0, 0, 0, 0.3));\n",
              "      fill: #FFFFFF;\n",
              "    }\n",
              "  </style>\n",
              "\n",
              "      <script>\n",
              "        const buttonEl =\n",
              "          document.querySelector('#df-30babf55-dada-43dd-a856-013b4f9e190b button.colab-df-convert');\n",
              "        buttonEl.style.display =\n",
              "          google.colab.kernel.accessAllowed ? 'block' : 'none';\n",
              "\n",
              "        async function convertToInteractive(key) {\n",
              "          const element = document.querySelector('#df-30babf55-dada-43dd-a856-013b4f9e190b');\n",
              "          const dataTable =\n",
              "            await google.colab.kernel.invokeFunction('convertToInteractive',\n",
              "                                                     [key], {});\n",
              "          if (!dataTable) return;\n",
              "\n",
              "          const docLinkHtml = 'Like what you see? Visit the ' +\n",
              "            '<a target=\"_blank\" href=https://colab.research.google.com/notebooks/data_table.ipynb>data table notebook</a>'\n",
              "            + ' to learn more about interactive tables.';\n",
              "          element.innerHTML = '';\n",
              "          dataTable['output_type'] = 'display_data';\n",
              "          await google.colab.output.renderOutput(dataTable, element);\n",
              "          const docLink = document.createElement('div');\n",
              "          docLink.innerHTML = docLinkHtml;\n",
              "          element.appendChild(docLink);\n",
              "        }\n",
              "      </script>\n",
              "    </div>\n",
              "  </div>\n",
              "  "
            ]
          },
          "metadata": {},
          "execution_count": 19
        }
      ]
    },
    {
      "cell_type": "code",
      "source": [
        "#rating filter\n",
        "filtroacidente = df.classificacao == 'ACIDENTE'\n",
        "dfacidente = df.loc[filtroacidente]\n",
        "dfacidente"
      ],
      "metadata": {
        "colab": {
          "base_uri": "https://localhost:8080/"
        },
        "id": "c9zLZShXL1mN",
        "outputId": "151656d1-d7e0-4e74-e8a6-7fffe2c4590b"
      },
      "execution_count": null,
      "outputs": [
        {
          "output_type": "execute_result",
          "data": {
            "text/plain": [
              "     classificacao  ocorrencia              cidade  uf    pais aerodromo  \\\n",
              "5         ACIDENTE       81019        PORTO ALEGRE  RS  BRASIL      <NA>   \n",
              "7         ACIDENTE       81021   NOVA BANDEIRANTES  MT  BRASIL      <NA>   \n",
              "12        ACIDENTE       81014           BOA VISTA  RR  BRASIL      <NA>   \n",
              "15        ACIDENTE       81018             LONTRAS  SC  BRASIL      <NA>   \n",
              "19        ACIDENTE       80998   ENGENHEIRO CALDAS  MG  BRASIL      <NA>   \n",
              "...            ...         ...                 ...  ..     ...       ...   \n",
              "6750      ACIDENTE       39315            CANUTAMA  AM  BRASIL      <NA>   \n",
              "6754      ACIDENTE       40107              GURUPÁ  PA  BRASIL      SNGU   \n",
              "6755      ACIDENTE       39507  PRIMAVERA DO LESTE  MT  BRASIL      <NA>   \n",
              "6759      ACIDENTE       40069           SÃO PAULO  SP  BRASIL      SBMT   \n",
              "6765      ACIDENTE       39527  LUCAS DO RIO VERDE  MT  BRASIL      <NA>   \n",
              "\n",
              "            dia   horario  recomendacoes  n_aeronaves saida_pista aeroback  \n",
              "5    2022-10-03  20:50:00              0            1         NÃO     <NA>  \n",
              "7    2022-10-02  19:00:00              0            1         SIM     <NA>  \n",
              "12   2022-09-27  00:00:00              0            1         NÃO     <NA>  \n",
              "15   2022-09-24  20:05:00              0            1         NÃO     <NA>  \n",
              "19   2022-09-21  17:51:00              0            1         NÃO     <NA>  \n",
              "...         ...       ...            ...          ...         ...      ...  \n",
              "6750 2010-01-15  21:22:00              0            1         NÃO     <NA>  \n",
              "6754 2010-01-12  14:30:00              0            1         NÃO     SNGU  \n",
              "6755 2010-01-11  17:00:00              2            1         NÃO     <NA>  \n",
              "6759 2010-01-10  14:50:00              8            1         NÃO     SBMT  \n",
              "6765 2010-01-04  17:30:00              0            1         NÃO     <NA>  \n",
              "\n",
              "[2090 rows x 12 columns]"
            ],
            "text/html": [
              "\n",
              "  <div id=\"df-beca8816-79d0-45a3-9639-877679e85950\">\n",
              "    <div class=\"colab-df-container\">\n",
              "      <div>\n",
              "<style scoped>\n",
              "    .dataframe tbody tr th:only-of-type {\n",
              "        vertical-align: middle;\n",
              "    }\n",
              "\n",
              "    .dataframe tbody tr th {\n",
              "        vertical-align: top;\n",
              "    }\n",
              "\n",
              "    .dataframe thead th {\n",
              "        text-align: right;\n",
              "    }\n",
              "</style>\n",
              "<table border=\"1\" class=\"dataframe\">\n",
              "  <thead>\n",
              "    <tr style=\"text-align: right;\">\n",
              "      <th></th>\n",
              "      <th>classificacao</th>\n",
              "      <th>ocorrencia</th>\n",
              "      <th>cidade</th>\n",
              "      <th>uf</th>\n",
              "      <th>pais</th>\n",
              "      <th>aerodromo</th>\n",
              "      <th>dia</th>\n",
              "      <th>horario</th>\n",
              "      <th>recomendacoes</th>\n",
              "      <th>n_aeronaves</th>\n",
              "      <th>saida_pista</th>\n",
              "      <th>aeroback</th>\n",
              "    </tr>\n",
              "  </thead>\n",
              "  <tbody>\n",
              "    <tr>\n",
              "      <th>5</th>\n",
              "      <td>ACIDENTE</td>\n",
              "      <td>81019</td>\n",
              "      <td>PORTO ALEGRE</td>\n",
              "      <td>RS</td>\n",
              "      <td>BRASIL</td>\n",
              "      <td>&lt;NA&gt;</td>\n",
              "      <td>2022-10-03</td>\n",
              "      <td>20:50:00</td>\n",
              "      <td>0</td>\n",
              "      <td>1</td>\n",
              "      <td>NÃO</td>\n",
              "      <td>&lt;NA&gt;</td>\n",
              "    </tr>\n",
              "    <tr>\n",
              "      <th>7</th>\n",
              "      <td>ACIDENTE</td>\n",
              "      <td>81021</td>\n",
              "      <td>NOVA BANDEIRANTES</td>\n",
              "      <td>MT</td>\n",
              "      <td>BRASIL</td>\n",
              "      <td>&lt;NA&gt;</td>\n",
              "      <td>2022-10-02</td>\n",
              "      <td>19:00:00</td>\n",
              "      <td>0</td>\n",
              "      <td>1</td>\n",
              "      <td>SIM</td>\n",
              "      <td>&lt;NA&gt;</td>\n",
              "    </tr>\n",
              "    <tr>\n",
              "      <th>12</th>\n",
              "      <td>ACIDENTE</td>\n",
              "      <td>81014</td>\n",
              "      <td>BOA VISTA</td>\n",
              "      <td>RR</td>\n",
              "      <td>BRASIL</td>\n",
              "      <td>&lt;NA&gt;</td>\n",
              "      <td>2022-09-27</td>\n",
              "      <td>00:00:00</td>\n",
              "      <td>0</td>\n",
              "      <td>1</td>\n",
              "      <td>NÃO</td>\n",
              "      <td>&lt;NA&gt;</td>\n",
              "    </tr>\n",
              "    <tr>\n",
              "      <th>15</th>\n",
              "      <td>ACIDENTE</td>\n",
              "      <td>81018</td>\n",
              "      <td>LONTRAS</td>\n",
              "      <td>SC</td>\n",
              "      <td>BRASIL</td>\n",
              "      <td>&lt;NA&gt;</td>\n",
              "      <td>2022-09-24</td>\n",
              "      <td>20:05:00</td>\n",
              "      <td>0</td>\n",
              "      <td>1</td>\n",
              "      <td>NÃO</td>\n",
              "      <td>&lt;NA&gt;</td>\n",
              "    </tr>\n",
              "    <tr>\n",
              "      <th>19</th>\n",
              "      <td>ACIDENTE</td>\n",
              "      <td>80998</td>\n",
              "      <td>ENGENHEIRO CALDAS</td>\n",
              "      <td>MG</td>\n",
              "      <td>BRASIL</td>\n",
              "      <td>&lt;NA&gt;</td>\n",
              "      <td>2022-09-21</td>\n",
              "      <td>17:51:00</td>\n",
              "      <td>0</td>\n",
              "      <td>1</td>\n",
              "      <td>NÃO</td>\n",
              "      <td>&lt;NA&gt;</td>\n",
              "    </tr>\n",
              "    <tr>\n",
              "      <th>...</th>\n",
              "      <td>...</td>\n",
              "      <td>...</td>\n",
              "      <td>...</td>\n",
              "      <td>...</td>\n",
              "      <td>...</td>\n",
              "      <td>...</td>\n",
              "      <td>...</td>\n",
              "      <td>...</td>\n",
              "      <td>...</td>\n",
              "      <td>...</td>\n",
              "      <td>...</td>\n",
              "      <td>...</td>\n",
              "    </tr>\n",
              "    <tr>\n",
              "      <th>6750</th>\n",
              "      <td>ACIDENTE</td>\n",
              "      <td>39315</td>\n",
              "      <td>CANUTAMA</td>\n",
              "      <td>AM</td>\n",
              "      <td>BRASIL</td>\n",
              "      <td>&lt;NA&gt;</td>\n",
              "      <td>2010-01-15</td>\n",
              "      <td>21:22:00</td>\n",
              "      <td>0</td>\n",
              "      <td>1</td>\n",
              "      <td>NÃO</td>\n",
              "      <td>&lt;NA&gt;</td>\n",
              "    </tr>\n",
              "    <tr>\n",
              "      <th>6754</th>\n",
              "      <td>ACIDENTE</td>\n",
              "      <td>40107</td>\n",
              "      <td>GURUPÁ</td>\n",
              "      <td>PA</td>\n",
              "      <td>BRASIL</td>\n",
              "      <td>SNGU</td>\n",
              "      <td>2010-01-12</td>\n",
              "      <td>14:30:00</td>\n",
              "      <td>0</td>\n",
              "      <td>1</td>\n",
              "      <td>NÃO</td>\n",
              "      <td>SNGU</td>\n",
              "    </tr>\n",
              "    <tr>\n",
              "      <th>6755</th>\n",
              "      <td>ACIDENTE</td>\n",
              "      <td>39507</td>\n",
              "      <td>PRIMAVERA DO LESTE</td>\n",
              "      <td>MT</td>\n",
              "      <td>BRASIL</td>\n",
              "      <td>&lt;NA&gt;</td>\n",
              "      <td>2010-01-11</td>\n",
              "      <td>17:00:00</td>\n",
              "      <td>2</td>\n",
              "      <td>1</td>\n",
              "      <td>NÃO</td>\n",
              "      <td>&lt;NA&gt;</td>\n",
              "    </tr>\n",
              "    <tr>\n",
              "      <th>6759</th>\n",
              "      <td>ACIDENTE</td>\n",
              "      <td>40069</td>\n",
              "      <td>SÃO PAULO</td>\n",
              "      <td>SP</td>\n",
              "      <td>BRASIL</td>\n",
              "      <td>SBMT</td>\n",
              "      <td>2010-01-10</td>\n",
              "      <td>14:50:00</td>\n",
              "      <td>8</td>\n",
              "      <td>1</td>\n",
              "      <td>NÃO</td>\n",
              "      <td>SBMT</td>\n",
              "    </tr>\n",
              "    <tr>\n",
              "      <th>6765</th>\n",
              "      <td>ACIDENTE</td>\n",
              "      <td>39527</td>\n",
              "      <td>LUCAS DO RIO VERDE</td>\n",
              "      <td>MT</td>\n",
              "      <td>BRASIL</td>\n",
              "      <td>&lt;NA&gt;</td>\n",
              "      <td>2010-01-04</td>\n",
              "      <td>17:30:00</td>\n",
              "      <td>0</td>\n",
              "      <td>1</td>\n",
              "      <td>NÃO</td>\n",
              "      <td>&lt;NA&gt;</td>\n",
              "    </tr>\n",
              "  </tbody>\n",
              "</table>\n",
              "<p>2090 rows × 12 columns</p>\n",
              "</div>\n",
              "      <button class=\"colab-df-convert\" onclick=\"convertToInteractive('df-beca8816-79d0-45a3-9639-877679e85950')\"\n",
              "              title=\"Convert this dataframe to an interactive table.\"\n",
              "              style=\"display:none;\">\n",
              "        \n",
              "  <svg xmlns=\"http://www.w3.org/2000/svg\" height=\"24px\"viewBox=\"0 0 24 24\"\n",
              "       width=\"24px\">\n",
              "    <path d=\"M0 0h24v24H0V0z\" fill=\"none\"/>\n",
              "    <path d=\"M18.56 5.44l.94 2.06.94-2.06 2.06-.94-2.06-.94-.94-2.06-.94 2.06-2.06.94zm-11 1L8.5 8.5l.94-2.06 2.06-.94-2.06-.94L8.5 2.5l-.94 2.06-2.06.94zm10 10l.94 2.06.94-2.06 2.06-.94-2.06-.94-.94-2.06-.94 2.06-2.06.94z\"/><path d=\"M17.41 7.96l-1.37-1.37c-.4-.4-.92-.59-1.43-.59-.52 0-1.04.2-1.43.59L10.3 9.45l-7.72 7.72c-.78.78-.78 2.05 0 2.83L4 21.41c.39.39.9.59 1.41.59.51 0 1.02-.2 1.41-.59l7.78-7.78 2.81-2.81c.8-.78.8-2.07 0-2.86zM5.41 20L4 18.59l7.72-7.72 1.47 1.35L5.41 20z\"/>\n",
              "  </svg>\n",
              "      </button>\n",
              "      \n",
              "  <style>\n",
              "    .colab-df-container {\n",
              "      display:flex;\n",
              "      flex-wrap:wrap;\n",
              "      gap: 12px;\n",
              "    }\n",
              "\n",
              "    .colab-df-convert {\n",
              "      background-color: #E8F0FE;\n",
              "      border: none;\n",
              "      border-radius: 50%;\n",
              "      cursor: pointer;\n",
              "      display: none;\n",
              "      fill: #1967D2;\n",
              "      height: 32px;\n",
              "      padding: 0 0 0 0;\n",
              "      width: 32px;\n",
              "    }\n",
              "\n",
              "    .colab-df-convert:hover {\n",
              "      background-color: #E2EBFA;\n",
              "      box-shadow: 0px 1px 2px rgba(60, 64, 67, 0.3), 0px 1px 3px 1px rgba(60, 64, 67, 0.15);\n",
              "      fill: #174EA6;\n",
              "    }\n",
              "\n",
              "    [theme=dark] .colab-df-convert {\n",
              "      background-color: #3B4455;\n",
              "      fill: #D2E3FC;\n",
              "    }\n",
              "\n",
              "    [theme=dark] .colab-df-convert:hover {\n",
              "      background-color: #434B5C;\n",
              "      box-shadow: 0px 1px 3px 1px rgba(0, 0, 0, 0.15);\n",
              "      filter: drop-shadow(0px 1px 2px rgba(0, 0, 0, 0.3));\n",
              "      fill: #FFFFFF;\n",
              "    }\n",
              "  </style>\n",
              "\n",
              "      <script>\n",
              "        const buttonEl =\n",
              "          document.querySelector('#df-beca8816-79d0-45a3-9639-877679e85950 button.colab-df-convert');\n",
              "        buttonEl.style.display =\n",
              "          google.colab.kernel.accessAllowed ? 'block' : 'none';\n",
              "\n",
              "        async function convertToInteractive(key) {\n",
              "          const element = document.querySelector('#df-beca8816-79d0-45a3-9639-877679e85950');\n",
              "          const dataTable =\n",
              "            await google.colab.kernel.invokeFunction('convertToInteractive',\n",
              "                                                     [key], {});\n",
              "          if (!dataTable) return;\n",
              "\n",
              "          const docLinkHtml = 'Like what you see? Visit the ' +\n",
              "            '<a target=\"_blank\" href=https://colab.research.google.com/notebooks/data_table.ipynb>data table notebook</a>'\n",
              "            + ' to learn more about interactive tables.';\n",
              "          element.innerHTML = '';\n",
              "          dataTable['output_type'] = 'display_data';\n",
              "          await google.colab.output.renderOutput(dataTable, element);\n",
              "          const docLink = document.createElement('div');\n",
              "          docLink.innerHTML = docLinkHtml;\n",
              "          element.appendChild(docLink);\n",
              "        }\n",
              "      </script>\n",
              "    </div>\n",
              "  </div>\n",
              "  "
            ]
          },
          "metadata": {},
          "execution_count": 20
        }
      ]
    },
    {
      "cell_type": "code",
      "source": [
        "df.loc[filtroacidente,['n_aeronaves','cidade','uf']]"
      ],
      "metadata": {
        "colab": {
          "base_uri": "https://localhost:8080/"
        },
        "id": "WqZ8l8AvMHcH",
        "outputId": "ec6937b1-aa33-43b0-8201-5673f8cb72e7"
      },
      "execution_count": null,
      "outputs": [
        {
          "output_type": "execute_result",
          "data": {
            "text/plain": [
              "      n_aeronaves              cidade  uf\n",
              "5               1        PORTO ALEGRE  RS\n",
              "7               1   NOVA BANDEIRANTES  MT\n",
              "12              1           BOA VISTA  RR\n",
              "15              1             LONTRAS  SC\n",
              "19              1   ENGENHEIRO CALDAS  MG\n",
              "...           ...                 ...  ..\n",
              "6750            1            CANUTAMA  AM\n",
              "6754            1              GURUPÁ  PA\n",
              "6755            1  PRIMAVERA DO LESTE  MT\n",
              "6759            1           SÃO PAULO  SP\n",
              "6765            1  LUCAS DO RIO VERDE  MT\n",
              "\n",
              "[2090 rows x 3 columns]"
            ],
            "text/html": [
              "\n",
              "  <div id=\"df-3d876bf5-c8e8-4c20-b2f6-4312356c2947\">\n",
              "    <div class=\"colab-df-container\">\n",
              "      <div>\n",
              "<style scoped>\n",
              "    .dataframe tbody tr th:only-of-type {\n",
              "        vertical-align: middle;\n",
              "    }\n",
              "\n",
              "    .dataframe tbody tr th {\n",
              "        vertical-align: top;\n",
              "    }\n",
              "\n",
              "    .dataframe thead th {\n",
              "        text-align: right;\n",
              "    }\n",
              "</style>\n",
              "<table border=\"1\" class=\"dataframe\">\n",
              "  <thead>\n",
              "    <tr style=\"text-align: right;\">\n",
              "      <th></th>\n",
              "      <th>n_aeronaves</th>\n",
              "      <th>cidade</th>\n",
              "      <th>uf</th>\n",
              "    </tr>\n",
              "  </thead>\n",
              "  <tbody>\n",
              "    <tr>\n",
              "      <th>5</th>\n",
              "      <td>1</td>\n",
              "      <td>PORTO ALEGRE</td>\n",
              "      <td>RS</td>\n",
              "    </tr>\n",
              "    <tr>\n",
              "      <th>7</th>\n",
              "      <td>1</td>\n",
              "      <td>NOVA BANDEIRANTES</td>\n",
              "      <td>MT</td>\n",
              "    </tr>\n",
              "    <tr>\n",
              "      <th>12</th>\n",
              "      <td>1</td>\n",
              "      <td>BOA VISTA</td>\n",
              "      <td>RR</td>\n",
              "    </tr>\n",
              "    <tr>\n",
              "      <th>15</th>\n",
              "      <td>1</td>\n",
              "      <td>LONTRAS</td>\n",
              "      <td>SC</td>\n",
              "    </tr>\n",
              "    <tr>\n",
              "      <th>19</th>\n",
              "      <td>1</td>\n",
              "      <td>ENGENHEIRO CALDAS</td>\n",
              "      <td>MG</td>\n",
              "    </tr>\n",
              "    <tr>\n",
              "      <th>...</th>\n",
              "      <td>...</td>\n",
              "      <td>...</td>\n",
              "      <td>...</td>\n",
              "    </tr>\n",
              "    <tr>\n",
              "      <th>6750</th>\n",
              "      <td>1</td>\n",
              "      <td>CANUTAMA</td>\n",
              "      <td>AM</td>\n",
              "    </tr>\n",
              "    <tr>\n",
              "      <th>6754</th>\n",
              "      <td>1</td>\n",
              "      <td>GURUPÁ</td>\n",
              "      <td>PA</td>\n",
              "    </tr>\n",
              "    <tr>\n",
              "      <th>6755</th>\n",
              "      <td>1</td>\n",
              "      <td>PRIMAVERA DO LESTE</td>\n",
              "      <td>MT</td>\n",
              "    </tr>\n",
              "    <tr>\n",
              "      <th>6759</th>\n",
              "      <td>1</td>\n",
              "      <td>SÃO PAULO</td>\n",
              "      <td>SP</td>\n",
              "    </tr>\n",
              "    <tr>\n",
              "      <th>6765</th>\n",
              "      <td>1</td>\n",
              "      <td>LUCAS DO RIO VERDE</td>\n",
              "      <td>MT</td>\n",
              "    </tr>\n",
              "  </tbody>\n",
              "</table>\n",
              "<p>2090 rows × 3 columns</p>\n",
              "</div>\n",
              "      <button class=\"colab-df-convert\" onclick=\"convertToInteractive('df-3d876bf5-c8e8-4c20-b2f6-4312356c2947')\"\n",
              "              title=\"Convert this dataframe to an interactive table.\"\n",
              "              style=\"display:none;\">\n",
              "        \n",
              "  <svg xmlns=\"http://www.w3.org/2000/svg\" height=\"24px\"viewBox=\"0 0 24 24\"\n",
              "       width=\"24px\">\n",
              "    <path d=\"M0 0h24v24H0V0z\" fill=\"none\"/>\n",
              "    <path d=\"M18.56 5.44l.94 2.06.94-2.06 2.06-.94-2.06-.94-.94-2.06-.94 2.06-2.06.94zm-11 1L8.5 8.5l.94-2.06 2.06-.94-2.06-.94L8.5 2.5l-.94 2.06-2.06.94zm10 10l.94 2.06.94-2.06 2.06-.94-2.06-.94-.94-2.06-.94 2.06-2.06.94z\"/><path d=\"M17.41 7.96l-1.37-1.37c-.4-.4-.92-.59-1.43-.59-.52 0-1.04.2-1.43.59L10.3 9.45l-7.72 7.72c-.78.78-.78 2.05 0 2.83L4 21.41c.39.39.9.59 1.41.59.51 0 1.02-.2 1.41-.59l7.78-7.78 2.81-2.81c.8-.78.8-2.07 0-2.86zM5.41 20L4 18.59l7.72-7.72 1.47 1.35L5.41 20z\"/>\n",
              "  </svg>\n",
              "      </button>\n",
              "      \n",
              "  <style>\n",
              "    .colab-df-container {\n",
              "      display:flex;\n",
              "      flex-wrap:wrap;\n",
              "      gap: 12px;\n",
              "    }\n",
              "\n",
              "    .colab-df-convert {\n",
              "      background-color: #E8F0FE;\n",
              "      border: none;\n",
              "      border-radius: 50%;\n",
              "      cursor: pointer;\n",
              "      display: none;\n",
              "      fill: #1967D2;\n",
              "      height: 32px;\n",
              "      padding: 0 0 0 0;\n",
              "      width: 32px;\n",
              "    }\n",
              "\n",
              "    .colab-df-convert:hover {\n",
              "      background-color: #E2EBFA;\n",
              "      box-shadow: 0px 1px 2px rgba(60, 64, 67, 0.3), 0px 1px 3px 1px rgba(60, 64, 67, 0.15);\n",
              "      fill: #174EA6;\n",
              "    }\n",
              "\n",
              "    [theme=dark] .colab-df-convert {\n",
              "      background-color: #3B4455;\n",
              "      fill: #D2E3FC;\n",
              "    }\n",
              "\n",
              "    [theme=dark] .colab-df-convert:hover {\n",
              "      background-color: #434B5C;\n",
              "      box-shadow: 0px 1px 3px 1px rgba(0, 0, 0, 0.15);\n",
              "      filter: drop-shadow(0px 1px 2px rgba(0, 0, 0, 0.3));\n",
              "      fill: #FFFFFF;\n",
              "    }\n",
              "  </style>\n",
              "\n",
              "      <script>\n",
              "        const buttonEl =\n",
              "          document.querySelector('#df-3d876bf5-c8e8-4c20-b2f6-4312356c2947 button.colab-df-convert');\n",
              "        buttonEl.style.display =\n",
              "          google.colab.kernel.accessAllowed ? 'block' : 'none';\n",
              "\n",
              "        async function convertToInteractive(key) {\n",
              "          const element = document.querySelector('#df-3d876bf5-c8e8-4c20-b2f6-4312356c2947');\n",
              "          const dataTable =\n",
              "            await google.colab.kernel.invokeFunction('convertToInteractive',\n",
              "                                                     [key], {});\n",
              "          if (!dataTable) return;\n",
              "\n",
              "          const docLinkHtml = 'Like what you see? Visit the ' +\n",
              "            '<a target=\"_blank\" href=https://colab.research.google.com/notebooks/data_table.ipynb>data table notebook</a>'\n",
              "            + ' to learn more about interactive tables.';\n",
              "          element.innerHTML = '';\n",
              "          dataTable['output_type'] = 'display_data';\n",
              "          await google.colab.output.renderOutput(dataTable, element);\n",
              "          const docLink = document.createElement('div');\n",
              "          docLink.innerHTML = docLinkHtml;\n",
              "          element.appendChild(docLink);\n",
              "        }\n",
              "      </script>\n",
              "    </div>\n",
              "  </div>\n",
              "  "
            ]
          },
          "metadata": {},
          "execution_count": 21
        }
      ]
    },
    {
      "cell_type": "code",
      "source": [
        "#filter more details\n",
        "ftcidade = df.cidade == 'SÃO PAULO'\n",
        "ftpista = df.saida_pista == 'SIM'\n",
        "ft2020 = df.dia.dt.year == 2020\n",
        "ftuf = df.uf == 'CE'\n",
        "df.loc[ftcidade & ftpista & ft2020]"
      ],
      "metadata": {
        "colab": {
          "base_uri": "https://localhost:8080/"
        },
        "id": "WMoI48c2OoVg",
        "outputId": "713d2552-afde-42b7-c721-df48e153fbb7"
      },
      "execution_count": null,
      "outputs": [
        {
          "output_type": "execute_result",
          "data": {
            "text/plain": [
              "        classificacao  ocorrencia     cidade  uf    pais aerodromo        dia  \\\n",
              "1050  INCIDENTE GRAVE       79718  SÃO PAULO  SP  BRASIL      SBMT 2020-12-11   \n",
              "\n",
              "       horario  recomendacoes  n_aeronaves saida_pista aeroback  \n",
              "1050  13:50:00              0            1         SIM     SBMT  "
            ],
            "text/html": [
              "\n",
              "  <div id=\"df-683c3a88-f1e5-4525-a08f-890c3170db2d\">\n",
              "    <div class=\"colab-df-container\">\n",
              "      <div>\n",
              "<style scoped>\n",
              "    .dataframe tbody tr th:only-of-type {\n",
              "        vertical-align: middle;\n",
              "    }\n",
              "\n",
              "    .dataframe tbody tr th {\n",
              "        vertical-align: top;\n",
              "    }\n",
              "\n",
              "    .dataframe thead th {\n",
              "        text-align: right;\n",
              "    }\n",
              "</style>\n",
              "<table border=\"1\" class=\"dataframe\">\n",
              "  <thead>\n",
              "    <tr style=\"text-align: right;\">\n",
              "      <th></th>\n",
              "      <th>classificacao</th>\n",
              "      <th>ocorrencia</th>\n",
              "      <th>cidade</th>\n",
              "      <th>uf</th>\n",
              "      <th>pais</th>\n",
              "      <th>aerodromo</th>\n",
              "      <th>dia</th>\n",
              "      <th>horario</th>\n",
              "      <th>recomendacoes</th>\n",
              "      <th>n_aeronaves</th>\n",
              "      <th>saida_pista</th>\n",
              "      <th>aeroback</th>\n",
              "    </tr>\n",
              "  </thead>\n",
              "  <tbody>\n",
              "    <tr>\n",
              "      <th>1050</th>\n",
              "      <td>INCIDENTE GRAVE</td>\n",
              "      <td>79718</td>\n",
              "      <td>SÃO PAULO</td>\n",
              "      <td>SP</td>\n",
              "      <td>BRASIL</td>\n",
              "      <td>SBMT</td>\n",
              "      <td>2020-12-11</td>\n",
              "      <td>13:50:00</td>\n",
              "      <td>0</td>\n",
              "      <td>1</td>\n",
              "      <td>SIM</td>\n",
              "      <td>SBMT</td>\n",
              "    </tr>\n",
              "  </tbody>\n",
              "</table>\n",
              "</div>\n",
              "      <button class=\"colab-df-convert\" onclick=\"convertToInteractive('df-683c3a88-f1e5-4525-a08f-890c3170db2d')\"\n",
              "              title=\"Convert this dataframe to an interactive table.\"\n",
              "              style=\"display:none;\">\n",
              "        \n",
              "  <svg xmlns=\"http://www.w3.org/2000/svg\" height=\"24px\"viewBox=\"0 0 24 24\"\n",
              "       width=\"24px\">\n",
              "    <path d=\"M0 0h24v24H0V0z\" fill=\"none\"/>\n",
              "    <path d=\"M18.56 5.44l.94 2.06.94-2.06 2.06-.94-2.06-.94-.94-2.06-.94 2.06-2.06.94zm-11 1L8.5 8.5l.94-2.06 2.06-.94-2.06-.94L8.5 2.5l-.94 2.06-2.06.94zm10 10l.94 2.06.94-2.06 2.06-.94-2.06-.94-.94-2.06-.94 2.06-2.06.94z\"/><path d=\"M17.41 7.96l-1.37-1.37c-.4-.4-.92-.59-1.43-.59-.52 0-1.04.2-1.43.59L10.3 9.45l-7.72 7.72c-.78.78-.78 2.05 0 2.83L4 21.41c.39.39.9.59 1.41.59.51 0 1.02-.2 1.41-.59l7.78-7.78 2.81-2.81c.8-.78.8-2.07 0-2.86zM5.41 20L4 18.59l7.72-7.72 1.47 1.35L5.41 20z\"/>\n",
              "  </svg>\n",
              "      </button>\n",
              "      \n",
              "  <style>\n",
              "    .colab-df-container {\n",
              "      display:flex;\n",
              "      flex-wrap:wrap;\n",
              "      gap: 12px;\n",
              "    }\n",
              "\n",
              "    .colab-df-convert {\n",
              "      background-color: #E8F0FE;\n",
              "      border: none;\n",
              "      border-radius: 50%;\n",
              "      cursor: pointer;\n",
              "      display: none;\n",
              "      fill: #1967D2;\n",
              "      height: 32px;\n",
              "      padding: 0 0 0 0;\n",
              "      width: 32px;\n",
              "    }\n",
              "\n",
              "    .colab-df-convert:hover {\n",
              "      background-color: #E2EBFA;\n",
              "      box-shadow: 0px 1px 2px rgba(60, 64, 67, 0.3), 0px 1px 3px 1px rgba(60, 64, 67, 0.15);\n",
              "      fill: #174EA6;\n",
              "    }\n",
              "\n",
              "    [theme=dark] .colab-df-convert {\n",
              "      background-color: #3B4455;\n",
              "      fill: #D2E3FC;\n",
              "    }\n",
              "\n",
              "    [theme=dark] .colab-df-convert:hover {\n",
              "      background-color: #434B5C;\n",
              "      box-shadow: 0px 1px 3px 1px rgba(0, 0, 0, 0.15);\n",
              "      filter: drop-shadow(0px 1px 2px rgba(0, 0, 0, 0.3));\n",
              "      fill: #FFFFFF;\n",
              "    }\n",
              "  </style>\n",
              "\n",
              "      <script>\n",
              "        const buttonEl =\n",
              "          document.querySelector('#df-683c3a88-f1e5-4525-a08f-890c3170db2d button.colab-df-convert');\n",
              "        buttonEl.style.display =\n",
              "          google.colab.kernel.accessAllowed ? 'block' : 'none';\n",
              "\n",
              "        async function convertToInteractive(key) {\n",
              "          const element = document.querySelector('#df-683c3a88-f1e5-4525-a08f-890c3170db2d');\n",
              "          const dataTable =\n",
              "            await google.colab.kernel.invokeFunction('convertToInteractive',\n",
              "                                                     [key], {});\n",
              "          if (!dataTable) return;\n",
              "\n",
              "          const docLinkHtml = 'Like what you see? Visit the ' +\n",
              "            '<a target=\"_blank\" href=https://colab.research.google.com/notebooks/data_table.ipynb>data table notebook</a>'\n",
              "            + ' to learn more about interactive tables.';\n",
              "          element.innerHTML = '';\n",
              "          dataTable['output_type'] = 'display_data';\n",
              "          await google.colab.output.renderOutput(dataTable, element);\n",
              "          const docLink = document.createElement('div');\n",
              "          docLink.innerHTML = docLinkHtml;\n",
              "          element.appendChild(docLink);\n",
              "        }\n",
              "      </script>\n",
              "    </div>\n",
              "  </div>\n",
              "  "
            ]
          },
          "metadata": {},
          "execution_count": 22
        }
      ]
    },
    {
      "cell_type": "markdown",
      "source": [
        "## Region filters"
      ],
      "metadata": {
        "id": "xol7_k0dMQGH"
      }
    },
    {
      "cell_type": "code",
      "source": [
        "# region filters\n",
        "\n",
        "ftsul = df.uf.isin(['RS','PR', 'SC'])\n",
        "ftsudeste = df.uf.isin(['ES','MG', 'RJ', 'SP'])\n",
        "ftco = df.uf.isin(['DF','GO', 'MT', 'MS'])\n",
        "ftnordeste = df.uf.isin(['AL','BA', 'CE', 'MA', 'PB', 'PI', 'PE', 'RN', 'SE'])\n",
        "ftnorte = df.uf.isin(['AC','AP', 'AM', 'PA', 'RO', 'RR', 'TO'])"
      ],
      "metadata": {
        "id": "b6c230PJMMQ-"
      },
      "execution_count": null,
      "outputs": []
    },
    {
      "cell_type": "markdown",
      "source": [
        "## Filter for date"
      ],
      "metadata": {
        "id": "yKi5lbRnOz_U"
      }
    },
    {
      "cell_type": "code",
      "source": [
        "ftagosto = df.dia.dt.month == 8\n",
        "ftquinz = (df.dia.dt.day > 0) & (df.dia.dt.day < 16) \n",
        "dfdata = df.loc[ftagosto & ftquinz]"
      ],
      "metadata": {
        "id": "PULVLGhzO3l9"
      },
      "execution_count": null,
      "outputs": []
    },
    {
      "cell_type": "code",
      "source": [
        "dfsul = df.loc[ftsul & ft2020]"
      ],
      "metadata": {
        "id": "Oa-JOf7XlBIM"
      },
      "execution_count": null,
      "outputs": []
    },
    {
      "cell_type": "markdown",
      "source": [
        "# GROUPBY"
      ],
      "metadata": {
        "id": "YFUhHlSGfkQp"
      }
    },
    {
      "cell_type": "code",
      "source": [
        "df.groupby(['classificacao']).size().sort_values(ascending=False)"
      ],
      "metadata": {
        "colab": {
          "base_uri": "https://localhost:8080/"
        },
        "id": "gJ81f-jhfpAe",
        "outputId": "54b03c2d-4e0e-4629-cc1f-db536b00fa3c"
      },
      "execution_count": null,
      "outputs": [
        {
          "output_type": "execute_result",
          "data": {
            "text/plain": [
              "classificacao\n",
              "INCIDENTE          3795\n",
              "ACIDENTE           2090\n",
              "INCIDENTE GRAVE     884\n",
              "dtype: int64"
            ]
          },
          "metadata": {},
          "execution_count": 26
        }
      ]
    },
    {
      "cell_type": "code",
      "source": [
        "dfsul.groupby(['classificacao']).size().sort_values(ascending=False)"
      ],
      "metadata": {
        "colab": {
          "base_uri": "https://localhost:8080/"
        },
        "id": "Yjg5Iu3Ufqsm",
        "outputId": "bb19e505-19b5-4cd7-8354-78122c6dfbd8"
      },
      "execution_count": null,
      "outputs": [
        {
          "output_type": "execute_result",
          "data": {
            "text/plain": [
              "classificacao\n",
              "INCIDENTE          45\n",
              "ACIDENTE           29\n",
              "INCIDENTE GRAVE    11\n",
              "dtype: int64"
            ]
          },
          "metadata": {},
          "execution_count": 27
        }
      ]
    },
    {
      "cell_type": "code",
      "source": [
        "df.groupby(['uf'],dropna=False).size().sort_values(ascending=False)"
      ],
      "metadata": {
        "colab": {
          "base_uri": "https://localhost:8080/"
        },
        "id": "WD29IWbYfsGU",
        "outputId": "f1d11806-ab8e-4b57-c0df-5c90574f9287"
      },
      "execution_count": null,
      "outputs": [
        {
          "output_type": "execute_result",
          "data": {
            "text/plain": [
              "uf\n",
              "SP     1625\n",
              "MG      638\n",
              "RJ      578\n",
              "PR      548\n",
              "RS      395\n",
              "GO      359\n",
              "MT      359\n",
              "PA      344\n",
              "AM      279\n",
              "BA      253\n",
              "SC      223\n",
              "MS      191\n",
              "DF      156\n",
              "PE      126\n",
              "CE       95\n",
              "ES       91\n",
              "MA       86\n",
              "RR       73\n",
              "AC       66\n",
              "TO       60\n",
              "RO       54\n",
              "PI       45\n",
              "AL       34\n",
              "PB       28\n",
              "SE       22\n",
              "RN       22\n",
              "AP       15\n",
              "NaN       4\n",
              "dtype: int64"
            ]
          },
          "metadata": {},
          "execution_count": 28
        }
      ]
    },
    {
      "cell_type": "code",
      "source": [
        "df.groupby(['aerodromo'],dropna=False).size().sort_values(ascending=False)"
      ],
      "metadata": {
        "colab": {
          "base_uri": "https://localhost:8080/"
        },
        "id": "MassRtZNfwAW",
        "outputId": "020c42bc-6482-43a1-8152-738ec1e307dc"
      },
      "execution_count": null,
      "outputs": [
        {
          "output_type": "execute_result",
          "data": {
            "text/plain": [
              "aerodromo\n",
              "NaN     2618\n",
              "SBGR     173\n",
              "SBMT     150\n",
              "SBKP     128\n",
              "SBBH     124\n",
              "        ... \n",
              "SJVL       1\n",
              "SJTO       1\n",
              "SJOD       1\n",
              "SJNQ       1\n",
              "SJNC       1\n",
              "Length: 574, dtype: int64"
            ]
          },
          "metadata": {},
          "execution_count": 29
        }
      ]
    },
    {
      "cell_type": "markdown",
      "source": [
        "#Plotting"
      ],
      "metadata": {
        "id": "S9-UzqUwf0jM"
      }
    },
    {
      "cell_type": "code",
      "source": [
        "#Plotting bar graphics\n",
        "df.groupby(['uf'],dropna=False).size().sort_values(ascending=False).head(5).plot.bar(figsize=(12,8),xlabel='ESTADO',ylabel='Qtd. Ocorrencias')"
      ],
      "metadata": {
        "id": "6F5-H0sUf_9M"
      },
      "execution_count": null,
      "outputs": []
    },
    {
      "cell_type": "code",
      "source": [
        "#Plotting line graphics\n",
        "df.groupby(['classificacao'],dropna=False).size().sort_values(ascending=False).plot.line()"
      ],
      "metadata": {
        "id": "KwuF1S4ngOAC"
      },
      "execution_count": null,
      "outputs": []
    },
    {
      "cell_type": "code",
      "source": [
        "#Plotting circle graphics\n",
        "df.groupby(['saida_pista'],dropna=False).size().sort_values(ascending=False).plot.pie(figsize=(8,8))"
      ],
      "metadata": {
        "id": "9Ratr06FgTyM"
      },
      "execution_count": null,
      "outputs": []
    },
    {
      "cell_type": "code",
      "source": [
        "df.dtypes\n"
      ],
      "metadata": {
        "colab": {
          "base_uri": "https://localhost:8080/"
        },
        "id": "BFu9uzAmxDEB",
        "outputId": "5d59d447-1c83-40d9-d201-ef842f647b49"
      },
      "execution_count": null,
      "outputs": [
        {
          "output_type": "execute_result",
          "data": {
            "text/plain": [
              "classificacao            object\n",
              "ocorrencia                int64\n",
              "cidade                   object\n",
              "uf                       object\n",
              "pais                     object\n",
              "aerodromo                object\n",
              "dia              datetime64[ns]\n",
              "horario                  object\n",
              "recomendacoes             int64\n",
              "n_aeronaves               int64\n",
              "saida_pista              object\n",
              "aeroback                 object\n",
              "dtype: object"
            ]
          },
          "metadata": {},
          "execution_count": 30
        }
      ]
    },
    {
      "cell_type": "markdown",
      "source": [
        "## DF2"
      ],
      "metadata": {
        "id": "bip6TMiRxUDo"
      }
    },
    {
      "cell_type": "code",
      "source": [
        "df2 = df[['ocorrencia','data','aerodromo','cidade','uf','classificacao','n_aeronaves','saida_pista','recomendacoes']]"
      ],
      "metadata": {
        "id": "ttb0BHxZxTx4"
      },
      "execution_count": null,
      "outputs": []
    },
    {
      "cell_type": "code",
      "source": [
        "# Criação do schema2 de validação dos dados df2\n",
        "\n",
        "schema2 = pa.DataFrameSchema(\n",
        "      columns = {\n",
        "          'ocorrencia':pa.Column(pa.Int),\n",
        "          'data':pa.Column(pa.DateTime,nullable=True),\n",
        "          'aerodromo':pa.Column(pa.String,pa.Check.str_length(4,4),nullable=True),\n",
        "          'cidade':pa.Column(pa.String),\n",
        "          'uf':pa.Column(pa.String,pa.Check.str_length(2,2),nullable=True),\n",
        "          'classificacao':pa.Column(pa.String),\n",
        "          'n_aeronaves':pa.Column(pa.Int),\n",
        "          'saida_pista':pa.Column(pa.String,pa.Check.str_length(3,3)),\n",
        "          'recomendacoes':pa.Column(pa.Int),\n",
        "          \n",
        "      }\n",
        "  )"
      ],
      "metadata": {
        "id": "jYZ3TyRax0gK"
      },
      "execution_count": null,
      "outputs": []
    },
    {
      "cell_type": "code",
      "source": [
        "#validador do DF\n",
        "schema2.validate(df2)"
      ],
      "metadata": {
        "colab": {
          "base_uri": "https://localhost:8080/",
          "height": 606
        },
        "id": "Hx93oXxsx7EW",
        "outputId": "0156e167-6b81-42d2-f84d-339e630958a0"
      },
      "execution_count": null,
      "outputs": [
        {
          "output_type": "error",
          "ename": "SchemaError",
          "evalue": "ignored",
          "traceback": [
            "\u001b[0;31m---------------------------------------------------------------------------\u001b[0m",
            "\u001b[0;31mSchemaError\u001b[0m                               Traceback (most recent call last)",
            "\u001b[0;32m<ipython-input-46-b15380865483>\u001b[0m in \u001b[0;36m<module>\u001b[0;34m\u001b[0m\n\u001b[1;32m      1\u001b[0m \u001b[0;31m#validador do DF\u001b[0m\u001b[0;34m\u001b[0m\u001b[0;34m\u001b[0m\u001b[0;34m\u001b[0m\u001b[0m\n\u001b[0;32m----> 2\u001b[0;31m \u001b[0mschema2\u001b[0m\u001b[0;34m.\u001b[0m\u001b[0mvalidate\u001b[0m\u001b[0;34m(\u001b[0m\u001b[0mdf2\u001b[0m\u001b[0;34m)\u001b[0m\u001b[0;34m\u001b[0m\u001b[0;34m\u001b[0m\u001b[0m\n\u001b[0m",
            "\u001b[0;32m/usr/local/lib/python3.8/dist-packages/pandera/schemas.py\u001b[0m in \u001b[0;36mvalidate\u001b[0;34m(self, check_obj, head, tail, sample, random_state, lazy, inplace)\u001b[0m\n\u001b[1;32m    532\u001b[0m             \u001b[0;32mreturn\u001b[0m \u001b[0mcheck_obj\u001b[0m\u001b[0;34m.\u001b[0m\u001b[0mpandera\u001b[0m\u001b[0;34m.\u001b[0m\u001b[0madd_schema\u001b[0m\u001b[0;34m(\u001b[0m\u001b[0mself\u001b[0m\u001b[0;34m)\u001b[0m\u001b[0;34m\u001b[0m\u001b[0;34m\u001b[0m\u001b[0m\n\u001b[1;32m    533\u001b[0m \u001b[0;34m\u001b[0m\u001b[0m\n\u001b[0;32m--> 534\u001b[0;31m         return self._validate(\n\u001b[0m\u001b[1;32m    535\u001b[0m             \u001b[0mcheck_obj\u001b[0m\u001b[0;34m=\u001b[0m\u001b[0mcheck_obj\u001b[0m\u001b[0;34m,\u001b[0m\u001b[0;34m\u001b[0m\u001b[0;34m\u001b[0m\u001b[0m\n\u001b[1;32m    536\u001b[0m             \u001b[0mhead\u001b[0m\u001b[0;34m=\u001b[0m\u001b[0mhead\u001b[0m\u001b[0;34m,\u001b[0m\u001b[0;34m\u001b[0m\u001b[0;34m\u001b[0m\u001b[0m\n",
            "\u001b[0;32m/usr/local/lib/python3.8/dist-packages/pandera/schemas.py\u001b[0m in \u001b[0;36m_validate\u001b[0;34m(self, check_obj, head, tail, sample, random_state, lazy, inplace)\u001b[0m\n\u001b[1;32m    730\u001b[0m                 \u001b[0mcheck_results\u001b[0m\u001b[0;34m.\u001b[0m\u001b[0mappend\u001b[0m\u001b[0;34m(\u001b[0m\u001b[0mcheck_utils\u001b[0m\u001b[0;34m.\u001b[0m\u001b[0mis_table\u001b[0m\u001b[0;34m(\u001b[0m\u001b[0mresult\u001b[0m\u001b[0;34m)\u001b[0m\u001b[0;34m)\u001b[0m\u001b[0;34m\u001b[0m\u001b[0;34m\u001b[0m\u001b[0m\n\u001b[1;32m    731\u001b[0m             \u001b[0;32mexcept\u001b[0m \u001b[0merrors\u001b[0m\u001b[0;34m.\u001b[0m\u001b[0mSchemaError\u001b[0m \u001b[0;32mas\u001b[0m \u001b[0merr\u001b[0m\u001b[0;34m:\u001b[0m\u001b[0;34m\u001b[0m\u001b[0;34m\u001b[0m\u001b[0m\n\u001b[0;32m--> 732\u001b[0;31m                 \u001b[0merror_handler\u001b[0m\u001b[0;34m.\u001b[0m\u001b[0mcollect_error\u001b[0m\u001b[0;34m(\u001b[0m\u001b[0;34m\"schema_component_check\"\u001b[0m\u001b[0;34m,\u001b[0m \u001b[0merr\u001b[0m\u001b[0;34m)\u001b[0m\u001b[0;34m\u001b[0m\u001b[0;34m\u001b[0m\u001b[0m\n\u001b[0m\u001b[1;32m    733\u001b[0m             \u001b[0;32mexcept\u001b[0m \u001b[0merrors\u001b[0m\u001b[0;34m.\u001b[0m\u001b[0mSchemaErrors\u001b[0m \u001b[0;32mas\u001b[0m \u001b[0merr\u001b[0m\u001b[0;34m:\u001b[0m\u001b[0;34m\u001b[0m\u001b[0;34m\u001b[0m\u001b[0m\n\u001b[1;32m    734\u001b[0m                 \u001b[0;32mfor\u001b[0m \u001b[0mschema_error_dict\u001b[0m \u001b[0;32min\u001b[0m \u001b[0merr\u001b[0m\u001b[0;34m.\u001b[0m\u001b[0mschema_errors\u001b[0m\u001b[0;34m:\u001b[0m\u001b[0;34m\u001b[0m\u001b[0;34m\u001b[0m\u001b[0m\n",
            "\u001b[0;32m/usr/local/lib/python3.8/dist-packages/pandera/error_handlers.py\u001b[0m in \u001b[0;36mcollect_error\u001b[0;34m(self, reason_code, schema_error, original_exc)\u001b[0m\n\u001b[1;32m     30\u001b[0m         \"\"\"\n\u001b[1;32m     31\u001b[0m         \u001b[0;32mif\u001b[0m \u001b[0;32mnot\u001b[0m \u001b[0mself\u001b[0m\u001b[0;34m.\u001b[0m\u001b[0m_lazy\u001b[0m\u001b[0;34m:\u001b[0m\u001b[0;34m\u001b[0m\u001b[0;34m\u001b[0m\u001b[0m\n\u001b[0;32m---> 32\u001b[0;31m             \u001b[0;32mraise\u001b[0m \u001b[0mschema_error\u001b[0m \u001b[0;32mfrom\u001b[0m \u001b[0moriginal_exc\u001b[0m\u001b[0;34m\u001b[0m\u001b[0;34m\u001b[0m\u001b[0m\n\u001b[0m\u001b[1;32m     33\u001b[0m \u001b[0;34m\u001b[0m\u001b[0m\n\u001b[1;32m     34\u001b[0m         \u001b[0;31m# delete data of validated object from SchemaError object to prevent\u001b[0m\u001b[0;34m\u001b[0m\u001b[0;34m\u001b[0m\u001b[0;34m\u001b[0m\u001b[0m\n",
            "\u001b[0;32m/usr/local/lib/python3.8/dist-packages/pandera/schemas.py\u001b[0m in \u001b[0;36m_validate\u001b[0;34m(self, check_obj, head, tail, sample, random_state, lazy, inplace)\u001b[0m\n\u001b[1;32m    722\u001b[0m         \u001b[0;32mfor\u001b[0m \u001b[0mschema_component\u001b[0m \u001b[0;32min\u001b[0m \u001b[0mschema_components\u001b[0m\u001b[0;34m:\u001b[0m\u001b[0;34m\u001b[0m\u001b[0;34m\u001b[0m\u001b[0m\n\u001b[1;32m    723\u001b[0m             \u001b[0;32mtry\u001b[0m\u001b[0;34m:\u001b[0m\u001b[0;34m\u001b[0m\u001b[0;34m\u001b[0m\u001b[0m\n\u001b[0;32m--> 724\u001b[0;31m                 result = schema_component(\n\u001b[0m\u001b[1;32m    725\u001b[0m                     \u001b[0mdf_to_validate\u001b[0m\u001b[0;34m,\u001b[0m\u001b[0;34m\u001b[0m\u001b[0;34m\u001b[0m\u001b[0m\n\u001b[1;32m    726\u001b[0m                     \u001b[0mlazy\u001b[0m\u001b[0;34m=\u001b[0m\u001b[0mlazy\u001b[0m\u001b[0;34m,\u001b[0m\u001b[0;34m\u001b[0m\u001b[0;34m\u001b[0m\u001b[0m\n",
            "\u001b[0;32m/usr/local/lib/python3.8/dist-packages/pandera/schemas.py\u001b[0m in \u001b[0;36m__call__\u001b[0;34m(self, check_obj, head, tail, sample, random_state, lazy, inplace)\u001b[0m\n\u001b[1;32m   2136\u001b[0m     ) -> Union[pd.DataFrame, pd.Series]:\n\u001b[1;32m   2137\u001b[0m         \u001b[0;34m\"\"\"Alias for ``validate`` method.\"\"\"\u001b[0m\u001b[0;34m\u001b[0m\u001b[0;34m\u001b[0m\u001b[0m\n\u001b[0;32m-> 2138\u001b[0;31m         return self.validate(\n\u001b[0m\u001b[1;32m   2139\u001b[0m             \u001b[0mcheck_obj\u001b[0m\u001b[0;34m,\u001b[0m \u001b[0mhead\u001b[0m\u001b[0;34m,\u001b[0m \u001b[0mtail\u001b[0m\u001b[0;34m,\u001b[0m \u001b[0msample\u001b[0m\u001b[0;34m,\u001b[0m \u001b[0mrandom_state\u001b[0m\u001b[0;34m,\u001b[0m \u001b[0mlazy\u001b[0m\u001b[0;34m,\u001b[0m \u001b[0minplace\u001b[0m\u001b[0;34m\u001b[0m\u001b[0;34m\u001b[0m\u001b[0m\n\u001b[1;32m   2140\u001b[0m         )\n",
            "\u001b[0;32m/usr/local/lib/python3.8/dist-packages/pandera/schema_components.py\u001b[0m in \u001b[0;36mvalidate\u001b[0;34m(self, check_obj, head, tail, sample, random_state, lazy, inplace)\u001b[0m\n\u001b[1;32m    221\u001b[0m                     )\n\u001b[1;32m    222\u001b[0m             \u001b[0;32melse\u001b[0m\u001b[0;34m:\u001b[0m\u001b[0;34m\u001b[0m\u001b[0;34m\u001b[0m\u001b[0m\n\u001b[0;32m--> 223\u001b[0;31m                 \u001b[0mvalidate_column\u001b[0m\u001b[0;34m(\u001b[0m\u001b[0mcheck_obj\u001b[0m\u001b[0;34m,\u001b[0m \u001b[0mcolumn_name\u001b[0m\u001b[0;34m)\u001b[0m\u001b[0;34m\u001b[0m\u001b[0;34m\u001b[0m\u001b[0m\n\u001b[0m\u001b[1;32m    224\u001b[0m \u001b[0;34m\u001b[0m\u001b[0m\n\u001b[1;32m    225\u001b[0m         \u001b[0;32mreturn\u001b[0m \u001b[0mcheck_obj\u001b[0m\u001b[0;34m\u001b[0m\u001b[0;34m\u001b[0m\u001b[0m\n",
            "\u001b[0;32m/usr/local/lib/python3.8/dist-packages/pandera/schema_components.py\u001b[0m in \u001b[0;36mvalidate_column\u001b[0;34m(check_obj, column_name)\u001b[0m\n\u001b[1;32m    194\u001b[0m \u001b[0;34m\u001b[0m\u001b[0m\n\u001b[1;32m    195\u001b[0m         \u001b[0;32mdef\u001b[0m \u001b[0mvalidate_column\u001b[0m\u001b[0;34m(\u001b[0m\u001b[0mcheck_obj\u001b[0m\u001b[0;34m,\u001b[0m \u001b[0mcolumn_name\u001b[0m\u001b[0;34m)\u001b[0m\u001b[0;34m:\u001b[0m\u001b[0;34m\u001b[0m\u001b[0;34m\u001b[0m\u001b[0m\n\u001b[0;32m--> 196\u001b[0;31m             super(Column, copy(self).set_name(column_name)).validate(\n\u001b[0m\u001b[1;32m    197\u001b[0m                 \u001b[0mcheck_obj\u001b[0m\u001b[0;34m,\u001b[0m\u001b[0;34m\u001b[0m\u001b[0;34m\u001b[0m\u001b[0m\n\u001b[1;32m    198\u001b[0m                 \u001b[0mhead\u001b[0m\u001b[0;34m,\u001b[0m\u001b[0;34m\u001b[0m\u001b[0;34m\u001b[0m\u001b[0m\n",
            "\u001b[0;32m/usr/local/lib/python3.8/dist-packages/pandera/schemas.py\u001b[0m in \u001b[0;36mvalidate\u001b[0;34m(self, check_obj, head, tail, sample, random_state, lazy, inplace)\u001b[0m\n\u001b[1;32m   2094\u001b[0m                 )\n\u001b[1;32m   2095\u001b[0m             \u001b[0;32mexcept\u001b[0m \u001b[0merrors\u001b[0m\u001b[0;34m.\u001b[0m\u001b[0mSchemaError\u001b[0m \u001b[0;32mas\u001b[0m \u001b[0merr\u001b[0m\u001b[0;34m:\u001b[0m\u001b[0;34m\u001b[0m\u001b[0;34m\u001b[0m\u001b[0m\n\u001b[0;32m-> 2096\u001b[0;31m                 \u001b[0merror_handler\u001b[0m\u001b[0;34m.\u001b[0m\u001b[0mcollect_error\u001b[0m\u001b[0;34m(\u001b[0m\u001b[0;34m\"dataframe_check\"\u001b[0m\u001b[0;34m,\u001b[0m \u001b[0merr\u001b[0m\u001b[0;34m)\u001b[0m\u001b[0;34m\u001b[0m\u001b[0;34m\u001b[0m\u001b[0m\n\u001b[0m\u001b[1;32m   2097\u001b[0m             \u001b[0;32mexcept\u001b[0m \u001b[0mException\u001b[0m \u001b[0;32mas\u001b[0m \u001b[0merr\u001b[0m\u001b[0;34m:\u001b[0m  \u001b[0;31m# pylint: disable=broad-except\u001b[0m\u001b[0;34m\u001b[0m\u001b[0;34m\u001b[0m\u001b[0m\n\u001b[1;32m   2098\u001b[0m                 \u001b[0;31m# catch other exceptions that may occur when executing the\u001b[0m\u001b[0;34m\u001b[0m\u001b[0;34m\u001b[0m\u001b[0;34m\u001b[0m\u001b[0m\n",
            "\u001b[0;32m/usr/local/lib/python3.8/dist-packages/pandera/error_handlers.py\u001b[0m in \u001b[0;36mcollect_error\u001b[0;34m(self, reason_code, schema_error, original_exc)\u001b[0m\n\u001b[1;32m     30\u001b[0m         \"\"\"\n\u001b[1;32m     31\u001b[0m         \u001b[0;32mif\u001b[0m \u001b[0;32mnot\u001b[0m \u001b[0mself\u001b[0m\u001b[0;34m.\u001b[0m\u001b[0m_lazy\u001b[0m\u001b[0;34m:\u001b[0m\u001b[0;34m\u001b[0m\u001b[0;34m\u001b[0m\u001b[0m\n\u001b[0;32m---> 32\u001b[0;31m             \u001b[0;32mraise\u001b[0m \u001b[0mschema_error\u001b[0m \u001b[0;32mfrom\u001b[0m \u001b[0moriginal_exc\u001b[0m\u001b[0;34m\u001b[0m\u001b[0;34m\u001b[0m\u001b[0m\n\u001b[0m\u001b[1;32m     33\u001b[0m \u001b[0;34m\u001b[0m\u001b[0m\n\u001b[1;32m     34\u001b[0m         \u001b[0;31m# delete data of validated object from SchemaError object to prevent\u001b[0m\u001b[0;34m\u001b[0m\u001b[0;34m\u001b[0m\u001b[0;34m\u001b[0m\u001b[0m\n",
            "\u001b[0;32m/usr/local/lib/python3.8/dist-packages/pandera/schemas.py\u001b[0m in \u001b[0;36mvalidate\u001b[0;34m(self, check_obj, head, tail, sample, random_state, lazy, inplace)\u001b[0m\n\u001b[1;32m   2089\u001b[0m             \u001b[0;32mtry\u001b[0m\u001b[0;34m:\u001b[0m\u001b[0;34m\u001b[0m\u001b[0;34m\u001b[0m\u001b[0m\n\u001b[1;32m   2090\u001b[0m                 check_results.append(\n\u001b[0;32m-> 2091\u001b[0;31m                     _handle_check_results(\n\u001b[0m\u001b[1;32m   2092\u001b[0m                         \u001b[0mself\u001b[0m\u001b[0;34m,\u001b[0m \u001b[0mcheck_index\u001b[0m\u001b[0;34m,\u001b[0m \u001b[0mcheck\u001b[0m\u001b[0;34m,\u001b[0m \u001b[0mcheck_obj\u001b[0m\u001b[0;34m,\u001b[0m \u001b[0;34m*\u001b[0m\u001b[0mcheck_args\u001b[0m\u001b[0;34m\u001b[0m\u001b[0;34m\u001b[0m\u001b[0m\n\u001b[1;32m   2093\u001b[0m                     )\n",
            "\u001b[0;32m/usr/local/lib/python3.8/dist-packages/pandera/schemas.py\u001b[0m in \u001b[0;36m_handle_check_results\u001b[0;34m(schema, check_index, check, check_obj, *check_args)\u001b[0m\n\u001b[1;32m   2480\u001b[0m             \u001b[0mwarnings\u001b[0m\u001b[0;34m.\u001b[0m\u001b[0mwarn\u001b[0m\u001b[0;34m(\u001b[0m\u001b[0merror_msg\u001b[0m\u001b[0;34m,\u001b[0m \u001b[0mUserWarning\u001b[0m\u001b[0;34m)\u001b[0m\u001b[0;34m\u001b[0m\u001b[0;34m\u001b[0m\u001b[0m\n\u001b[1;32m   2481\u001b[0m             \u001b[0;32mreturn\u001b[0m \u001b[0;32mTrue\u001b[0m\u001b[0;34m\u001b[0m\u001b[0;34m\u001b[0m\u001b[0m\n\u001b[0;32m-> 2482\u001b[0;31m         raise errors.SchemaError(\n\u001b[0m\u001b[1;32m   2483\u001b[0m             \u001b[0mschema\u001b[0m\u001b[0;34m,\u001b[0m\u001b[0;34m\u001b[0m\u001b[0;34m\u001b[0m\u001b[0m\n\u001b[1;32m   2484\u001b[0m             \u001b[0mcheck_obj\u001b[0m\u001b[0;34m,\u001b[0m\u001b[0;34m\u001b[0m\u001b[0;34m\u001b[0m\u001b[0m\n",
            "\u001b[0;31mSchemaError\u001b[0m: <Schema Column(name=aerodromo, type=DataType(str))> failed element-wise validator 0:\n<Check str_length: str_length(4, 4)>\nfailure cases:\n      index failure_case\n0         5          ***\n1         6          ***\n2         7          ***\n3         9          ***\n4        12          ***\n...     ...          ...\n2412   6758          ***\n2413   6761          ***\n2414   6763          ***\n2415   6765          ***\n2416   6766          ***\n\n[2417 rows x 2 columns]"
          ]
        }
      ]
    },
    {
      "cell_type": "markdown",
      "source": [
        "#More Comands"
      ],
      "metadata": {
        "id": "TF-VICTxgkIp"
      }
    },
    {
      "cell_type": "code",
      "source": [
        "df.head(2)"
      ],
      "metadata": {
        "id": "Nn9mZ6wkgonU"
      },
      "execution_count": null,
      "outputs": []
    },
    {
      "cell_type": "code",
      "source": [
        "df.loc[80:100]"
      ],
      "metadata": {
        "id": "xN5BC_ABgp58"
      },
      "execution_count": null,
      "outputs": []
    },
    {
      "cell_type": "code",
      "source": [
        "df.loc[0,'cidade']"
      ],
      "metadata": {
        "id": "m0jGzAXIgqLO"
      },
      "execution_count": null,
      "outputs": []
    },
    {
      "cell_type": "code",
      "source": [
        "df.loc[:,'cidade'] "
      ],
      "metadata": {
        "id": "1YUhLyz2gqxN"
      },
      "execution_count": null,
      "outputs": []
    },
    {
      "cell_type": "code",
      "source": [
        "df['back_cidade'] = df.cidade"
      ],
      "metadata": {
        "id": "124aLJJugqb8"
      },
      "execution_count": null,
      "outputs": []
    },
    {
      "cell_type": "code",
      "source": [
        "df.head(5)"
      ],
      "metadata": {
        "id": "Vq2EiXVzgvrC"
      },
      "execution_count": null,
      "outputs": []
    },
    {
      "cell_type": "code",
      "source": [
        "df.loc[0,'cidade'] = 'SÃO PAULO'"
      ],
      "metadata": {
        "id": "pstF2ygSgxAW"
      },
      "execution_count": null,
      "outputs": []
    },
    {
      "cell_type": "code",
      "source": [
        "df.loc[:,'back_cidade'] = 'ANDRÉ'"
      ],
      "metadata": {
        "id": "OBaM514Wg03R"
      },
      "execution_count": null,
      "outputs": []
    },
    {
      "cell_type": "code",
      "source": [
        "df.drop(['back_cidade'],axis=1,inplace=True)"
      ],
      "metadata": {
        "id": "fVvHDtnwg1aM"
      },
      "execution_count": null,
      "outputs": []
    },
    {
      "cell_type": "code",
      "source": [
        "#Consult missing values\n",
        "df.isna().sum()"
      ],
      "metadata": {
        "id": "QiBM4Acvg2g8"
      },
      "execution_count": null,
      "outputs": []
    },
    {
      "cell_type": "code",
      "source": [
        "#Consult data 'values'\n",
        "df.count()"
      ],
      "metadata": {
        "id": "yki9nkehhBuq"
      },
      "execution_count": null,
      "outputs": []
    },
    {
      "cell_type": "code",
      "source": [
        "df.info()"
      ],
      "metadata": {
        "id": "iPJj8DmMhH1D"
      },
      "execution_count": null,
      "outputs": []
    },
    {
      "cell_type": "code",
      "source": [
        "df.shape"
      ],
      "metadata": {
        "id": "MrEhLXLXhKSk"
      },
      "execution_count": null,
      "outputs": []
    },
    {
      "cell_type": "code",
      "source": [
        "filtrouf = df.uf.isna()\n",
        "filtrohorario = df.horario.isna()"
      ],
      "metadata": {
        "id": "A8xem9dqhNl1"
      },
      "execution_count": null,
      "outputs": []
    },
    {
      "cell_type": "code",
      "source": [
        "df.loc[filtrouf]"
      ],
      "metadata": {
        "id": "HUcVoaInhPm2"
      },
      "execution_count": null,
      "outputs": []
    },
    {
      "cell_type": "code",
      "source": [
        "df.loc[filtrohorario]"
      ],
      "metadata": {
        "id": "okRmA1cjhQ0u"
      },
      "execution_count": null,
      "outputs": []
    },
    {
      "cell_type": "code",
      "source": [
        "filtrosp = df.uf == \"SP\""
      ],
      "metadata": {
        "id": "wZLCxIA9hSD8"
      },
      "execution_count": null,
      "outputs": []
    },
    {
      "cell_type": "code",
      "source": [
        "ftincidente = df.classificacao == 'INCIDENTE'\n",
        "ftano = df.dia.dt.year == 2021\n",
        "ftsp = df.uf == 'SP'"
      ],
      "metadata": {
        "id": "MFTnT7I6hUHl"
      },
      "execution_count": null,
      "outputs": []
    },
    {
      "cell_type": "code",
      "source": [
        "dfosni = df.loc[ftsp & ftano]"
      ],
      "metadata": {
        "id": "YORICYqGhVH1"
      },
      "execution_count": null,
      "outputs": []
    },
    {
      "cell_type": "code",
      "source": [
        "dfosni"
      ],
      "metadata": {
        "id": "C4m0qPsdhWi9"
      },
      "execution_count": null,
      "outputs": []
    },
    {
      "cell_type": "code",
      "source": [
        "#Add values in between of dataframes\n",
        "dffinal = df.merge(df1, how='outer')"
      ],
      "metadata": {
        "id": "bTBlb1fHha3-"
      },
      "execution_count": null,
      "outputs": []
    },
    {
      "cell_type": "code",
      "source": [
        "df.to_csv('ocerrencia_principal_tratada.csv')"
      ],
      "metadata": {
        "id": "GTsOO9F4lYky"
      },
      "execution_count": null,
      "outputs": []
    }
  ]
}