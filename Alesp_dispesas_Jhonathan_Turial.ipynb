{
  "nbformat": 4,
  "nbformat_minor": 0,
  "metadata": {
    "colab": {
      "provenance": [],
      "toc_visible": true
    },
    "kernelspec": {
      "name": "python3",
      "display_name": "Python 3"
    },
    "language_info": {
      "name": "python"
    }
  },
  "cells": [
    {
      "cell_type": "markdown",
      "source": [
        "## Library of Pandas"
      ],
      "metadata": {
        "id": "QORDqKWPVIbH"
      }
    },
    {
      "cell_type": "markdown",
      "source": [
        "https://pandas.pydata.org/docs/reference/api/pandas.DataFrame.plot.html"
      ],
      "metadata": {
        "id": "S7vNZ4_0USTz"
      }
    },
    {
      "cell_type": "markdown",
      "source": [
        "## Install Pandera"
      ],
      "metadata": {
        "id": "qVI1ufOZ44qJ"
      }
    },
    {
      "cell_type": "code",
      "source": [
        "!pip install pandera"
      ],
      "metadata": {
        "id": "z5YHwNG5ar7T",
        "colab": {
          "base_uri": "https://localhost:8080/"
        },
        "outputId": "8cbcbbff-8f96-49bf-dd0e-b204b68f81c3"
      },
      "execution_count": null,
      "outputs": [
        {
          "output_type": "stream",
          "name": "stdout",
          "text": [
            "Looking in indexes: https://pypi.org/simple, https://us-python.pkg.dev/colab-wheels/public/simple/\n",
            "Requirement already satisfied: pandera in /usr/local/lib/python3.7/dist-packages (0.13.4)\n",
            "Requirement already satisfied: wrapt in /usr/local/lib/python3.7/dist-packages (from pandera) (1.14.1)\n",
            "Requirement already satisfied: typing-extensions>=3.7.4.3 in /usr/local/lib/python3.7/dist-packages (from pandera) (4.1.1)\n",
            "Requirement already satisfied: pydantic in /usr/local/lib/python3.7/dist-packages (from pandera) (1.10.2)\n",
            "Requirement already satisfied: packaging>=20.0 in /usr/local/lib/python3.7/dist-packages (from pandera) (21.3)\n",
            "Requirement already satisfied: numpy>=1.19.0 in /usr/local/lib/python3.7/dist-packages (from pandera) (1.21.6)\n",
            "Requirement already satisfied: pandas>=1.2.0 in /usr/local/lib/python3.7/dist-packages (from pandera) (1.3.5)\n",
            "Requirement already satisfied: typing-inspect>=0.6.0 in /usr/local/lib/python3.7/dist-packages (from pandera) (0.8.0)\n",
            "Requirement already satisfied: pyparsing!=3.0.5,>=2.0.2 in /usr/local/lib/python3.7/dist-packages (from packaging>=20.0->pandera) (3.0.9)\n",
            "Requirement already satisfied: python-dateutil>=2.7.3 in /usr/local/lib/python3.7/dist-packages (from pandas>=1.2.0->pandera) (2.8.2)\n",
            "Requirement already satisfied: pytz>=2017.3 in /usr/local/lib/python3.7/dist-packages (from pandas>=1.2.0->pandera) (2022.6)\n",
            "Requirement already satisfied: six>=1.5 in /usr/local/lib/python3.7/dist-packages (from python-dateutil>=2.7.3->pandas>=1.2.0->pandera) (1.15.0)\n",
            "Requirement already satisfied: mypy-extensions>=0.3.0 in /usr/local/lib/python3.7/dist-packages (from typing-inspect>=0.6.0->pandera) (0.4.3)\n"
          ]
        }
      ]
    },
    {
      "cell_type": "markdown",
      "source": [
        "## Import Library "
      ],
      "metadata": {
        "id": "-Xed72Yy47zt"
      }
    },
    {
      "cell_type": "code",
      "execution_count": null,
      "metadata": {
        "id": "MEX9J2ZU3JyQ"
      },
      "outputs": [],
      "source": [
        "import pandas as pd\n",
        "import pandera as pa\n",
        "import numpy as np\n"
      ]
    },
    {
      "cell_type": "code",
      "source": [
        "pd.set_option('display.max_columns', 200)\n",
        "pd.set_option('display.max_rows', 200)"
      ],
      "metadata": {
        "id": "17qkHbt75shM"
      },
      "execution_count": null,
      "outputs": []
    },
    {
      "cell_type": "markdown",
      "source": [
        "## Extract dataframe"
      ],
      "metadata": {
        "id": "0Qey1vpn5FLt"
      }
    },
    {
      "cell_type": "code",
      "source": [
        "df = pd.read_csv('https://storage.googleapis.com/bucketdopandas/Dados%20da%20alesp/despesa_alesp.csv')"
      ],
      "metadata": {
        "id": "WTcwVTCN4f9k"
      },
      "execution_count": null,
      "outputs": []
    },
    {
      "cell_type": "code",
      "source": [
        "df.head(10)"
      ],
      "metadata": {
        "id": "2gVjlf6L43fc",
        "colab": {
          "base_uri": "https://localhost:8080/",
          "height": 363
        },
        "outputId": "54de2c9b-26f4-498b-cc58-da8862c16f6d"
      },
      "execution_count": null,
      "outputs": [
        {
          "output_type": "execute_result",
          "data": {
            "text/plain": [
              "   cnpj_empresa                                         fornecedor    valor  \\\n",
              "0  5.049700e+11                            AUTO POSTO VANUTRE LTDA   575.53   \n",
              "1  4.881450e+13                           S.D.LUIZARI & CIA. LTDA.  1650.76   \n",
              "2  6.586291e+13                          AUTO POSTO EXECUTIVO LTDA  1799.29   \n",
              "3           NaN                                            PEDÁGIO    36.40   \n",
              "4  9.904660e+11  CROMOGRAF GRAFICA DE PRESIDENTE PRUDENTE LTDA ...  3100.00   \n",
              "5  1.048525e+12             CAIO COMERCIO DE EMBALAGENS LTDA - EPP    82.50   \n",
              "6  1.037855e+13                SORVECON PRODUTOS ALIMENTICIOS LTDA   589.45   \n",
              "7  1.301859e+13               M.J.FONSECA GUARDIA INFORMATICA LTDA   610.00   \n",
              "8  5.533336e+13                           GRÁFICA PRUDENTINA LTDA.   758.00   \n",
              "9  8.918209e+12                            STETNET TELECOM LTDA-ME    43.40   \n",
              "\n",
              "                                                tipo  id_deputado  mes   ano  \\\n",
              "0                   A - COMBUSTÍVEIS E LUBRIFICANTES       300098    1  2013   \n",
              "1                   A - COMBUSTÍVEIS E LUBRIFICANTES       300098    1  2013   \n",
              "2                   A - COMBUSTÍVEIS E LUBRIFICANTES       300098    1  2013   \n",
              "3  C - MATERIAIS E SERVIÇOS DE MANUT E CONSERV DE...       300098    1  2013   \n",
              "4  D - MATERIAIS E SERVIÇOS GRÁFICOS, DE CÓPIAS  ...       300098    1  2013   \n",
              "5  E - MATERIAIS DE ESCRITÓRIO E OUTROS MATERIAIS...       300098    1  2013   \n",
              "6  E - MATERIAIS DE ESCRITÓRIO E OUTROS MATERIAIS...       300098    1  2013   \n",
              "7  E - MATERIAIS DE ESCRITÓRIO E OUTROS MATERIAIS...       300098    1  2013   \n",
              "8  E - MATERIAIS DE ESCRITÓRIO E OUTROS MATERIAIS...       300098    1  2013   \n",
              "9  G - ASSINATURAS DE PERIÓDICOS, PUBLICAÇÕES, IN...       300098    1  2013   \n",
              "\n",
              "     data  \n",
              "0  1-2013  \n",
              "1  1-2013  \n",
              "2  1-2013  \n",
              "3  1-2013  \n",
              "4  1-2013  \n",
              "5  1-2013  \n",
              "6  1-2013  \n",
              "7  1-2013  \n",
              "8  1-2013  \n",
              "9  1-2013  "
            ],
            "text/html": [
              "\n",
              "  <div id=\"df-3f762fca-a83f-4c2c-a91c-7b3f2a478ea3\">\n",
              "    <div class=\"colab-df-container\">\n",
              "      <div>\n",
              "<style scoped>\n",
              "    .dataframe tbody tr th:only-of-type {\n",
              "        vertical-align: middle;\n",
              "    }\n",
              "\n",
              "    .dataframe tbody tr th {\n",
              "        vertical-align: top;\n",
              "    }\n",
              "\n",
              "    .dataframe thead th {\n",
              "        text-align: right;\n",
              "    }\n",
              "</style>\n",
              "<table border=\"1\" class=\"dataframe\">\n",
              "  <thead>\n",
              "    <tr style=\"text-align: right;\">\n",
              "      <th></th>\n",
              "      <th>cnpj_empresa</th>\n",
              "      <th>fornecedor</th>\n",
              "      <th>valor</th>\n",
              "      <th>tipo</th>\n",
              "      <th>id_deputado</th>\n",
              "      <th>mes</th>\n",
              "      <th>ano</th>\n",
              "      <th>data</th>\n",
              "    </tr>\n",
              "  </thead>\n",
              "  <tbody>\n",
              "    <tr>\n",
              "      <th>0</th>\n",
              "      <td>5.049700e+11</td>\n",
              "      <td>AUTO POSTO VANUTRE LTDA</td>\n",
              "      <td>575.53</td>\n",
              "      <td>A - COMBUSTÍVEIS E LUBRIFICANTES</td>\n",
              "      <td>300098</td>\n",
              "      <td>1</td>\n",
              "      <td>2013</td>\n",
              "      <td>1-2013</td>\n",
              "    </tr>\n",
              "    <tr>\n",
              "      <th>1</th>\n",
              "      <td>4.881450e+13</td>\n",
              "      <td>S.D.LUIZARI &amp; CIA. LTDA.</td>\n",
              "      <td>1650.76</td>\n",
              "      <td>A - COMBUSTÍVEIS E LUBRIFICANTES</td>\n",
              "      <td>300098</td>\n",
              "      <td>1</td>\n",
              "      <td>2013</td>\n",
              "      <td>1-2013</td>\n",
              "    </tr>\n",
              "    <tr>\n",
              "      <th>2</th>\n",
              "      <td>6.586291e+13</td>\n",
              "      <td>AUTO POSTO EXECUTIVO LTDA</td>\n",
              "      <td>1799.29</td>\n",
              "      <td>A - COMBUSTÍVEIS E LUBRIFICANTES</td>\n",
              "      <td>300098</td>\n",
              "      <td>1</td>\n",
              "      <td>2013</td>\n",
              "      <td>1-2013</td>\n",
              "    </tr>\n",
              "    <tr>\n",
              "      <th>3</th>\n",
              "      <td>NaN</td>\n",
              "      <td>PEDÁGIO</td>\n",
              "      <td>36.40</td>\n",
              "      <td>C - MATERIAIS E SERVIÇOS DE MANUT E CONSERV DE...</td>\n",
              "      <td>300098</td>\n",
              "      <td>1</td>\n",
              "      <td>2013</td>\n",
              "      <td>1-2013</td>\n",
              "    </tr>\n",
              "    <tr>\n",
              "      <th>4</th>\n",
              "      <td>9.904660e+11</td>\n",
              "      <td>CROMOGRAF GRAFICA DE PRESIDENTE PRUDENTE LTDA ...</td>\n",
              "      <td>3100.00</td>\n",
              "      <td>D - MATERIAIS E SERVIÇOS GRÁFICOS, DE CÓPIAS  ...</td>\n",
              "      <td>300098</td>\n",
              "      <td>1</td>\n",
              "      <td>2013</td>\n",
              "      <td>1-2013</td>\n",
              "    </tr>\n",
              "    <tr>\n",
              "      <th>5</th>\n",
              "      <td>1.048525e+12</td>\n",
              "      <td>CAIO COMERCIO DE EMBALAGENS LTDA - EPP</td>\n",
              "      <td>82.50</td>\n",
              "      <td>E - MATERIAIS DE ESCRITÓRIO E OUTROS MATERIAIS...</td>\n",
              "      <td>300098</td>\n",
              "      <td>1</td>\n",
              "      <td>2013</td>\n",
              "      <td>1-2013</td>\n",
              "    </tr>\n",
              "    <tr>\n",
              "      <th>6</th>\n",
              "      <td>1.037855e+13</td>\n",
              "      <td>SORVECON PRODUTOS ALIMENTICIOS LTDA</td>\n",
              "      <td>589.45</td>\n",
              "      <td>E - MATERIAIS DE ESCRITÓRIO E OUTROS MATERIAIS...</td>\n",
              "      <td>300098</td>\n",
              "      <td>1</td>\n",
              "      <td>2013</td>\n",
              "      <td>1-2013</td>\n",
              "    </tr>\n",
              "    <tr>\n",
              "      <th>7</th>\n",
              "      <td>1.301859e+13</td>\n",
              "      <td>M.J.FONSECA GUARDIA INFORMATICA LTDA</td>\n",
              "      <td>610.00</td>\n",
              "      <td>E - MATERIAIS DE ESCRITÓRIO E OUTROS MATERIAIS...</td>\n",
              "      <td>300098</td>\n",
              "      <td>1</td>\n",
              "      <td>2013</td>\n",
              "      <td>1-2013</td>\n",
              "    </tr>\n",
              "    <tr>\n",
              "      <th>8</th>\n",
              "      <td>5.533336e+13</td>\n",
              "      <td>GRÁFICA PRUDENTINA LTDA.</td>\n",
              "      <td>758.00</td>\n",
              "      <td>E - MATERIAIS DE ESCRITÓRIO E OUTROS MATERIAIS...</td>\n",
              "      <td>300098</td>\n",
              "      <td>1</td>\n",
              "      <td>2013</td>\n",
              "      <td>1-2013</td>\n",
              "    </tr>\n",
              "    <tr>\n",
              "      <th>9</th>\n",
              "      <td>8.918209e+12</td>\n",
              "      <td>STETNET TELECOM LTDA-ME</td>\n",
              "      <td>43.40</td>\n",
              "      <td>G - ASSINATURAS DE PERIÓDICOS, PUBLICAÇÕES, IN...</td>\n",
              "      <td>300098</td>\n",
              "      <td>1</td>\n",
              "      <td>2013</td>\n",
              "      <td>1-2013</td>\n",
              "    </tr>\n",
              "  </tbody>\n",
              "</table>\n",
              "</div>\n",
              "      <button class=\"colab-df-convert\" onclick=\"convertToInteractive('df-3f762fca-a83f-4c2c-a91c-7b3f2a478ea3')\"\n",
              "              title=\"Convert this dataframe to an interactive table.\"\n",
              "              style=\"display:none;\">\n",
              "        \n",
              "  <svg xmlns=\"http://www.w3.org/2000/svg\" height=\"24px\"viewBox=\"0 0 24 24\"\n",
              "       width=\"24px\">\n",
              "    <path d=\"M0 0h24v24H0V0z\" fill=\"none\"/>\n",
              "    <path d=\"M18.56 5.44l.94 2.06.94-2.06 2.06-.94-2.06-.94-.94-2.06-.94 2.06-2.06.94zm-11 1L8.5 8.5l.94-2.06 2.06-.94-2.06-.94L8.5 2.5l-.94 2.06-2.06.94zm10 10l.94 2.06.94-2.06 2.06-.94-2.06-.94-.94-2.06-.94 2.06-2.06.94z\"/><path d=\"M17.41 7.96l-1.37-1.37c-.4-.4-.92-.59-1.43-.59-.52 0-1.04.2-1.43.59L10.3 9.45l-7.72 7.72c-.78.78-.78 2.05 0 2.83L4 21.41c.39.39.9.59 1.41.59.51 0 1.02-.2 1.41-.59l7.78-7.78 2.81-2.81c.8-.78.8-2.07 0-2.86zM5.41 20L4 18.59l7.72-7.72 1.47 1.35L5.41 20z\"/>\n",
              "  </svg>\n",
              "      </button>\n",
              "      \n",
              "  <style>\n",
              "    .colab-df-container {\n",
              "      display:flex;\n",
              "      flex-wrap:wrap;\n",
              "      gap: 12px;\n",
              "    }\n",
              "\n",
              "    .colab-df-convert {\n",
              "      background-color: #E8F0FE;\n",
              "      border: none;\n",
              "      border-radius: 50%;\n",
              "      cursor: pointer;\n",
              "      display: none;\n",
              "      fill: #1967D2;\n",
              "      height: 32px;\n",
              "      padding: 0 0 0 0;\n",
              "      width: 32px;\n",
              "    }\n",
              "\n",
              "    .colab-df-convert:hover {\n",
              "      background-color: #E2EBFA;\n",
              "      box-shadow: 0px 1px 2px rgba(60, 64, 67, 0.3), 0px 1px 3px 1px rgba(60, 64, 67, 0.15);\n",
              "      fill: #174EA6;\n",
              "    }\n",
              "\n",
              "    [theme=dark] .colab-df-convert {\n",
              "      background-color: #3B4455;\n",
              "      fill: #D2E3FC;\n",
              "    }\n",
              "\n",
              "    [theme=dark] .colab-df-convert:hover {\n",
              "      background-color: #434B5C;\n",
              "      box-shadow: 0px 1px 3px 1px rgba(0, 0, 0, 0.15);\n",
              "      filter: drop-shadow(0px 1px 2px rgba(0, 0, 0, 0.3));\n",
              "      fill: #FFFFFF;\n",
              "    }\n",
              "  </style>\n",
              "\n",
              "      <script>\n",
              "        const buttonEl =\n",
              "          document.querySelector('#df-3f762fca-a83f-4c2c-a91c-7b3f2a478ea3 button.colab-df-convert');\n",
              "        buttonEl.style.display =\n",
              "          google.colab.kernel.accessAllowed ? 'block' : 'none';\n",
              "\n",
              "        async function convertToInteractive(key) {\n",
              "          const element = document.querySelector('#df-3f762fca-a83f-4c2c-a91c-7b3f2a478ea3');\n",
              "          const dataTable =\n",
              "            await google.colab.kernel.invokeFunction('convertToInteractive',\n",
              "                                                     [key], {});\n",
              "          if (!dataTable) return;\n",
              "\n",
              "          const docLinkHtml = 'Like what you see? Visit the ' +\n",
              "            '<a target=\"_blank\" href=https://colab.research.google.com/notebooks/data_table.ipynb>data table notebook</a>'\n",
              "            + ' to learn more about interactive tables.';\n",
              "          element.innerHTML = '';\n",
              "          dataTable['output_type'] = 'display_data';\n",
              "          await google.colab.output.renderOutput(dataTable, element);\n",
              "          const docLink = document.createElement('div');\n",
              "          docLink.innerHTML = docLinkHtml;\n",
              "          element.appendChild(docLink);\n",
              "        }\n",
              "      </script>\n",
              "    </div>\n",
              "  </div>\n",
              "  "
            ]
          },
          "metadata": {},
          "execution_count": 25
        }
      ]
    },
    {
      "cell_type": "code",
      "source": [],
      "metadata": {
        "colab": {
          "base_uri": "https://localhost:8080/"
        },
        "id": "1dqREV0y6SKK",
        "outputId": "d33b44fb-cca0-41ce-e4d7-80107fc63842"
      },
      "execution_count": null,
      "outputs": [
        {
          "output_type": "execute_result",
          "data": {
            "text/plain": [
              "23"
            ]
          },
          "metadata": {},
          "execution_count": 37
        }
      ]
    },
    {
      "cell_type": "markdown",
      "source": [
        "## Backup"
      ],
      "metadata": {
        "id": "g71zS9CD5bFk"
      }
    },
    {
      "cell_type": "code",
      "source": [
        "dfback = df.copy()"
      ],
      "metadata": {
        "id": "4zFFPMf45aA7"
      },
      "execution_count": null,
      "outputs": []
    },
    {
      "cell_type": "markdown",
      "source": [
        "## Analysis"
      ],
      "metadata": {
        "id": "725Zgah95hDa"
      }
    },
    {
      "cell_type": "code",
      "source": [
        "df.head(1)"
      ],
      "metadata": {
        "colab": {
          "base_uri": "https://localhost:8080/",
          "height": 81
        },
        "id": "zgafYlBg5kRK",
        "outputId": "848b53ae-f752-4d45-cb21-2f8511e60839"
      },
      "execution_count": null,
      "outputs": [
        {
          "output_type": "execute_result",
          "data": {
            "text/plain": [
              "   cnpj_empresa               fornecedor   valor  \\\n",
              "0  5.049700e+11  AUTO POSTO VANUTRE LTDA  575.53   \n",
              "\n",
              "                               tipo  id_deputado  mes   ano    data  \n",
              "0  A - COMBUSTÍVEIS E LUBRIFICANTES       300098    1  2013  1-2013  "
            ],
            "text/html": [
              "\n",
              "  <div id=\"df-c0c7dffd-8169-4bad-ab5b-adc2a841ea33\">\n",
              "    <div class=\"colab-df-container\">\n",
              "      <div>\n",
              "<style scoped>\n",
              "    .dataframe tbody tr th:only-of-type {\n",
              "        vertical-align: middle;\n",
              "    }\n",
              "\n",
              "    .dataframe tbody tr th {\n",
              "        vertical-align: top;\n",
              "    }\n",
              "\n",
              "    .dataframe thead th {\n",
              "        text-align: right;\n",
              "    }\n",
              "</style>\n",
              "<table border=\"1\" class=\"dataframe\">\n",
              "  <thead>\n",
              "    <tr style=\"text-align: right;\">\n",
              "      <th></th>\n",
              "      <th>cnpj_empresa</th>\n",
              "      <th>fornecedor</th>\n",
              "      <th>valor</th>\n",
              "      <th>tipo</th>\n",
              "      <th>id_deputado</th>\n",
              "      <th>mes</th>\n",
              "      <th>ano</th>\n",
              "      <th>data</th>\n",
              "    </tr>\n",
              "  </thead>\n",
              "  <tbody>\n",
              "    <tr>\n",
              "      <th>0</th>\n",
              "      <td>5.049700e+11</td>\n",
              "      <td>AUTO POSTO VANUTRE LTDA</td>\n",
              "      <td>575.53</td>\n",
              "      <td>A - COMBUSTÍVEIS E LUBRIFICANTES</td>\n",
              "      <td>300098</td>\n",
              "      <td>1</td>\n",
              "      <td>2013</td>\n",
              "      <td>1-2013</td>\n",
              "    </tr>\n",
              "  </tbody>\n",
              "</table>\n",
              "</div>\n",
              "      <button class=\"colab-df-convert\" onclick=\"convertToInteractive('df-c0c7dffd-8169-4bad-ab5b-adc2a841ea33')\"\n",
              "              title=\"Convert this dataframe to an interactive table.\"\n",
              "              style=\"display:none;\">\n",
              "        \n",
              "  <svg xmlns=\"http://www.w3.org/2000/svg\" height=\"24px\"viewBox=\"0 0 24 24\"\n",
              "       width=\"24px\">\n",
              "    <path d=\"M0 0h24v24H0V0z\" fill=\"none\"/>\n",
              "    <path d=\"M18.56 5.44l.94 2.06.94-2.06 2.06-.94-2.06-.94-.94-2.06-.94 2.06-2.06.94zm-11 1L8.5 8.5l.94-2.06 2.06-.94-2.06-.94L8.5 2.5l-.94 2.06-2.06.94zm10 10l.94 2.06.94-2.06 2.06-.94-2.06-.94-.94-2.06-.94 2.06-2.06.94z\"/><path d=\"M17.41 7.96l-1.37-1.37c-.4-.4-.92-.59-1.43-.59-.52 0-1.04.2-1.43.59L10.3 9.45l-7.72 7.72c-.78.78-.78 2.05 0 2.83L4 21.41c.39.39.9.59 1.41.59.51 0 1.02-.2 1.41-.59l7.78-7.78 2.81-2.81c.8-.78.8-2.07 0-2.86zM5.41 20L4 18.59l7.72-7.72 1.47 1.35L5.41 20z\"/>\n",
              "  </svg>\n",
              "      </button>\n",
              "      \n",
              "  <style>\n",
              "    .colab-df-container {\n",
              "      display:flex;\n",
              "      flex-wrap:wrap;\n",
              "      gap: 12px;\n",
              "    }\n",
              "\n",
              "    .colab-df-convert {\n",
              "      background-color: #E8F0FE;\n",
              "      border: none;\n",
              "      border-radius: 50%;\n",
              "      cursor: pointer;\n",
              "      display: none;\n",
              "      fill: #1967D2;\n",
              "      height: 32px;\n",
              "      padding: 0 0 0 0;\n",
              "      width: 32px;\n",
              "    }\n",
              "\n",
              "    .colab-df-convert:hover {\n",
              "      background-color: #E2EBFA;\n",
              "      box-shadow: 0px 1px 2px rgba(60, 64, 67, 0.3), 0px 1px 3px 1px rgba(60, 64, 67, 0.15);\n",
              "      fill: #174EA6;\n",
              "    }\n",
              "\n",
              "    [theme=dark] .colab-df-convert {\n",
              "      background-color: #3B4455;\n",
              "      fill: #D2E3FC;\n",
              "    }\n",
              "\n",
              "    [theme=dark] .colab-df-convert:hover {\n",
              "      background-color: #434B5C;\n",
              "      box-shadow: 0px 1px 3px 1px rgba(0, 0, 0, 0.15);\n",
              "      filter: drop-shadow(0px 1px 2px rgba(0, 0, 0, 0.3));\n",
              "      fill: #FFFFFF;\n",
              "    }\n",
              "  </style>\n",
              "\n",
              "      <script>\n",
              "        const buttonEl =\n",
              "          document.querySelector('#df-c0c7dffd-8169-4bad-ab5b-adc2a841ea33 button.colab-df-convert');\n",
              "        buttonEl.style.display =\n",
              "          google.colab.kernel.accessAllowed ? 'block' : 'none';\n",
              "\n",
              "        async function convertToInteractive(key) {\n",
              "          const element = document.querySelector('#df-c0c7dffd-8169-4bad-ab5b-adc2a841ea33');\n",
              "          const dataTable =\n",
              "            await google.colab.kernel.invokeFunction('convertToInteractive',\n",
              "                                                     [key], {});\n",
              "          if (!dataTable) return;\n",
              "\n",
              "          const docLinkHtml = 'Like what you see? Visit the ' +\n",
              "            '<a target=\"_blank\" href=https://colab.research.google.com/notebooks/data_table.ipynb>data table notebook</a>'\n",
              "            + ' to learn more about interactive tables.';\n",
              "          element.innerHTML = '';\n",
              "          dataTable['output_type'] = 'display_data';\n",
              "          await google.colab.output.renderOutput(dataTable, element);\n",
              "          const docLink = document.createElement('div');\n",
              "          docLink.innerHTML = docLinkHtml;\n",
              "          element.appendChild(docLink);\n",
              "        }\n",
              "      </script>\n",
              "    </div>\n",
              "  </div>\n",
              "  "
            ]
          },
          "metadata": {},
          "execution_count": 26
        }
      ]
    },
    {
      "cell_type": "code",
      "source": [
        "df.tail(10)"
      ],
      "metadata": {
        "colab": {
          "base_uri": "https://localhost:8080/",
          "height": 363
        },
        "id": "tHMPRvTq6JW7",
        "outputId": "05a947c8-4e86-4b6c-a9c3-c436822fb379"
      },
      "execution_count": null,
      "outputs": [
        {
          "output_type": "execute_result",
          "data": {
            "text/plain": [
              "        cnpj_empresa                                         fornecedor  \\\n",
              "118407  1.700949e+13                 GRAO DO IPIRANGA PAES E DOCES LTDA   \n",
              "118408  2.919185e+13  PERSONALITE ADMINISTRADORA DE HOTEIS E CONDOMI...   \n",
              "118409  3.257857e+13                BAR E RESTAURANTE POINT SABARA LTDA   \n",
              "118410  7.288003e+12  PHT COMERCIO E SERVIÇOS DE MAQUINAS PARA CAFÉ ...   \n",
              "118411  7.928244e+12  STRUTURA DESIGN LOCARADORA DE BENS MOVEIS LTDA...   \n",
              "118412  1.531481e+13              FYIVAS SOLUÇÕES EM TECNOLOGIA LTDA ME   \n",
              "118413  6.729494e+10                              MARIA INES SINISGALLI   \n",
              "118414  4.639213e+13                    SECRETARIA MUNICIPAL DA FAZENDA   \n",
              "118415  6.106391e+13            CONDOMINIO EDIF IBIRAPUERA PLAZA CENTER   \n",
              "118416  2.491558e+12                     UNIDAS VEÍCULOS ESPECIAIS S.A.   \n",
              "\n",
              "          valor                                               tipo  \\\n",
              "118407    16.60  I - HOSPEDAGEM, ALIMENTAÇÃO E DESPESAS DE LOCO...   \n",
              "118408   819.00  I - HOSPEDAGEM, ALIMENTAÇÃO E DESPESAS DE LOCO...   \n",
              "118409    41.00  I - HOSPEDAGEM, ALIMENTAÇÃO E DESPESAS DE LOCO...   \n",
              "118410   620.00                         K - LOCAÇÃO DE BENS MÓVEIS   \n",
              "118411  1636.85                         K - LOCAÇÃO DE BENS MÓVEIS   \n",
              "118412  1250.00                         K - LOCAÇÃO DE BENS MÓVEIS   \n",
              "118413  2500.00                        L - LOCAÇÃO DE BENS IMÓVEIS   \n",
              "118414   599.29  M - MANUTENÇÃO DE BENS MÓVEIS,  IMÓVEIS, CONDO...   \n",
              "118415  1836.13  M - MANUTENÇÃO DE BENS MÓVEIS,  IMÓVEIS, CONDO...   \n",
              "118416  2835.90                             O - LOCAÇÃO DE VEÍCULO   \n",
              "\n",
              "        id_deputado  mes   ano  \n",
              "118407       300655    9  2022  \n",
              "118408       300655    9  2022  \n",
              "118409       300655    9  2022  \n",
              "118410       300655    9  2022  \n",
              "118411       300655    9  2022  \n",
              "118412       300655    9  2022  \n",
              "118413       300655    9  2022  \n",
              "118414       300655    9  2022  \n",
              "118415       300655    9  2022  \n",
              "118416       300655    9  2022  "
            ],
            "text/html": [
              "\n",
              "  <div id=\"df-3a050016-2cab-43d7-8d83-2055dad32202\">\n",
              "    <div class=\"colab-df-container\">\n",
              "      <div>\n",
              "<style scoped>\n",
              "    .dataframe tbody tr th:only-of-type {\n",
              "        vertical-align: middle;\n",
              "    }\n",
              "\n",
              "    .dataframe tbody tr th {\n",
              "        vertical-align: top;\n",
              "    }\n",
              "\n",
              "    .dataframe thead th {\n",
              "        text-align: right;\n",
              "    }\n",
              "</style>\n",
              "<table border=\"1\" class=\"dataframe\">\n",
              "  <thead>\n",
              "    <tr style=\"text-align: right;\">\n",
              "      <th></th>\n",
              "      <th>cnpj_empresa</th>\n",
              "      <th>fornecedor</th>\n",
              "      <th>valor</th>\n",
              "      <th>tipo</th>\n",
              "      <th>id_deputado</th>\n",
              "      <th>mes</th>\n",
              "      <th>ano</th>\n",
              "    </tr>\n",
              "  </thead>\n",
              "  <tbody>\n",
              "    <tr>\n",
              "      <th>118407</th>\n",
              "      <td>1.700949e+13</td>\n",
              "      <td>GRAO DO IPIRANGA PAES E DOCES LTDA</td>\n",
              "      <td>16.60</td>\n",
              "      <td>I - HOSPEDAGEM, ALIMENTAÇÃO E DESPESAS DE LOCO...</td>\n",
              "      <td>300655</td>\n",
              "      <td>9</td>\n",
              "      <td>2022</td>\n",
              "    </tr>\n",
              "    <tr>\n",
              "      <th>118408</th>\n",
              "      <td>2.919185e+13</td>\n",
              "      <td>PERSONALITE ADMINISTRADORA DE HOTEIS E CONDOMI...</td>\n",
              "      <td>819.00</td>\n",
              "      <td>I - HOSPEDAGEM, ALIMENTAÇÃO E DESPESAS DE LOCO...</td>\n",
              "      <td>300655</td>\n",
              "      <td>9</td>\n",
              "      <td>2022</td>\n",
              "    </tr>\n",
              "    <tr>\n",
              "      <th>118409</th>\n",
              "      <td>3.257857e+13</td>\n",
              "      <td>BAR E RESTAURANTE POINT SABARA LTDA</td>\n",
              "      <td>41.00</td>\n",
              "      <td>I - HOSPEDAGEM, ALIMENTAÇÃO E DESPESAS DE LOCO...</td>\n",
              "      <td>300655</td>\n",
              "      <td>9</td>\n",
              "      <td>2022</td>\n",
              "    </tr>\n",
              "    <tr>\n",
              "      <th>118410</th>\n",
              "      <td>7.288003e+12</td>\n",
              "      <td>PHT COMERCIO E SERVIÇOS DE MAQUINAS PARA CAFÉ ...</td>\n",
              "      <td>620.00</td>\n",
              "      <td>K - LOCAÇÃO DE BENS MÓVEIS</td>\n",
              "      <td>300655</td>\n",
              "      <td>9</td>\n",
              "      <td>2022</td>\n",
              "    </tr>\n",
              "    <tr>\n",
              "      <th>118411</th>\n",
              "      <td>7.928244e+12</td>\n",
              "      <td>STRUTURA DESIGN LOCARADORA DE BENS MOVEIS LTDA...</td>\n",
              "      <td>1636.85</td>\n",
              "      <td>K - LOCAÇÃO DE BENS MÓVEIS</td>\n",
              "      <td>300655</td>\n",
              "      <td>9</td>\n",
              "      <td>2022</td>\n",
              "    </tr>\n",
              "    <tr>\n",
              "      <th>118412</th>\n",
              "      <td>1.531481e+13</td>\n",
              "      <td>FYIVAS SOLUÇÕES EM TECNOLOGIA LTDA ME</td>\n",
              "      <td>1250.00</td>\n",
              "      <td>K - LOCAÇÃO DE BENS MÓVEIS</td>\n",
              "      <td>300655</td>\n",
              "      <td>9</td>\n",
              "      <td>2022</td>\n",
              "    </tr>\n",
              "    <tr>\n",
              "      <th>118413</th>\n",
              "      <td>6.729494e+10</td>\n",
              "      <td>MARIA INES SINISGALLI</td>\n",
              "      <td>2500.00</td>\n",
              "      <td>L - LOCAÇÃO DE BENS IMÓVEIS</td>\n",
              "      <td>300655</td>\n",
              "      <td>9</td>\n",
              "      <td>2022</td>\n",
              "    </tr>\n",
              "    <tr>\n",
              "      <th>118414</th>\n",
              "      <td>4.639213e+13</td>\n",
              "      <td>SECRETARIA MUNICIPAL DA FAZENDA</td>\n",
              "      <td>599.29</td>\n",
              "      <td>M - MANUTENÇÃO DE BENS MÓVEIS,  IMÓVEIS, CONDO...</td>\n",
              "      <td>300655</td>\n",
              "      <td>9</td>\n",
              "      <td>2022</td>\n",
              "    </tr>\n",
              "    <tr>\n",
              "      <th>118415</th>\n",
              "      <td>6.106391e+13</td>\n",
              "      <td>CONDOMINIO EDIF IBIRAPUERA PLAZA CENTER</td>\n",
              "      <td>1836.13</td>\n",
              "      <td>M - MANUTENÇÃO DE BENS MÓVEIS,  IMÓVEIS, CONDO...</td>\n",
              "      <td>300655</td>\n",
              "      <td>9</td>\n",
              "      <td>2022</td>\n",
              "    </tr>\n",
              "    <tr>\n",
              "      <th>118416</th>\n",
              "      <td>2.491558e+12</td>\n",
              "      <td>UNIDAS VEÍCULOS ESPECIAIS S.A.</td>\n",
              "      <td>2835.90</td>\n",
              "      <td>O - LOCAÇÃO DE VEÍCULO</td>\n",
              "      <td>300655</td>\n",
              "      <td>9</td>\n",
              "      <td>2022</td>\n",
              "    </tr>\n",
              "  </tbody>\n",
              "</table>\n",
              "</div>\n",
              "      <button class=\"colab-df-convert\" onclick=\"convertToInteractive('df-3a050016-2cab-43d7-8d83-2055dad32202')\"\n",
              "              title=\"Convert this dataframe to an interactive table.\"\n",
              "              style=\"display:none;\">\n",
              "        \n",
              "  <svg xmlns=\"http://www.w3.org/2000/svg\" height=\"24px\"viewBox=\"0 0 24 24\"\n",
              "       width=\"24px\">\n",
              "    <path d=\"M0 0h24v24H0V0z\" fill=\"none\"/>\n",
              "    <path d=\"M18.56 5.44l.94 2.06.94-2.06 2.06-.94-2.06-.94-.94-2.06-.94 2.06-2.06.94zm-11 1L8.5 8.5l.94-2.06 2.06-.94-2.06-.94L8.5 2.5l-.94 2.06-2.06.94zm10 10l.94 2.06.94-2.06 2.06-.94-2.06-.94-.94-2.06-.94 2.06-2.06.94z\"/><path d=\"M17.41 7.96l-1.37-1.37c-.4-.4-.92-.59-1.43-.59-.52 0-1.04.2-1.43.59L10.3 9.45l-7.72 7.72c-.78.78-.78 2.05 0 2.83L4 21.41c.39.39.9.59 1.41.59.51 0 1.02-.2 1.41-.59l7.78-7.78 2.81-2.81c.8-.78.8-2.07 0-2.86zM5.41 20L4 18.59l7.72-7.72 1.47 1.35L5.41 20z\"/>\n",
              "  </svg>\n",
              "      </button>\n",
              "      \n",
              "  <style>\n",
              "    .colab-df-container {\n",
              "      display:flex;\n",
              "      flex-wrap:wrap;\n",
              "      gap: 12px;\n",
              "    }\n",
              "\n",
              "    .colab-df-convert {\n",
              "      background-color: #E8F0FE;\n",
              "      border: none;\n",
              "      border-radius: 50%;\n",
              "      cursor: pointer;\n",
              "      display: none;\n",
              "      fill: #1967D2;\n",
              "      height: 32px;\n",
              "      padding: 0 0 0 0;\n",
              "      width: 32px;\n",
              "    }\n",
              "\n",
              "    .colab-df-convert:hover {\n",
              "      background-color: #E2EBFA;\n",
              "      box-shadow: 0px 1px 2px rgba(60, 64, 67, 0.3), 0px 1px 3px 1px rgba(60, 64, 67, 0.15);\n",
              "      fill: #174EA6;\n",
              "    }\n",
              "\n",
              "    [theme=dark] .colab-df-convert {\n",
              "      background-color: #3B4455;\n",
              "      fill: #D2E3FC;\n",
              "    }\n",
              "\n",
              "    [theme=dark] .colab-df-convert:hover {\n",
              "      background-color: #434B5C;\n",
              "      box-shadow: 0px 1px 3px 1px rgba(0, 0, 0, 0.15);\n",
              "      filter: drop-shadow(0px 1px 2px rgba(0, 0, 0, 0.3));\n",
              "      fill: #FFFFFF;\n",
              "    }\n",
              "  </style>\n",
              "\n",
              "      <script>\n",
              "        const buttonEl =\n",
              "          document.querySelector('#df-3a050016-2cab-43d7-8d83-2055dad32202 button.colab-df-convert');\n",
              "        buttonEl.style.display =\n",
              "          google.colab.kernel.accessAllowed ? 'block' : 'none';\n",
              "\n",
              "        async function convertToInteractive(key) {\n",
              "          const element = document.querySelector('#df-3a050016-2cab-43d7-8d83-2055dad32202');\n",
              "          const dataTable =\n",
              "            await google.colab.kernel.invokeFunction('convertToInteractive',\n",
              "                                                     [key], {});\n",
              "          if (!dataTable) return;\n",
              "\n",
              "          const docLinkHtml = 'Like what you see? Visit the ' +\n",
              "            '<a target=\"_blank\" href=https://colab.research.google.com/notebooks/data_table.ipynb>data table notebook</a>'\n",
              "            + ' to learn more about interactive tables.';\n",
              "          element.innerHTML = '';\n",
              "          dataTable['output_type'] = 'display_data';\n",
              "          await google.colab.output.renderOutput(dataTable, element);\n",
              "          const docLink = document.createElement('div');\n",
              "          docLink.innerHTML = docLinkHtml;\n",
              "          element.appendChild(docLink);\n",
              "        }\n",
              "      </script>\n",
              "    </div>\n",
              "  </div>\n",
              "  "
            ]
          },
          "metadata": {},
          "execution_count": 130
        }
      ]
    },
    {
      "cell_type": "code",
      "source": [
        "df.dtypes"
      ],
      "metadata": {
        "id": "bJdKbeNT6NlT",
        "colab": {
          "base_uri": "https://localhost:8080/"
        },
        "outputId": "1ef89dc2-5de1-430d-c0b6-8fae6c094636"
      },
      "execution_count": null,
      "outputs": [
        {
          "output_type": "execute_result",
          "data": {
            "text/plain": [
              "cnpj_empresa    float64\n",
              "fornecedor       object\n",
              "valor           float64\n",
              "tipo             object\n",
              "id_deputado       int64\n",
              "mes               int64\n",
              "ano               int64\n",
              "dtype: object"
            ]
          },
          "metadata": {},
          "execution_count": 47
        }
      ]
    },
    {
      "cell_type": "markdown",
      "source": [
        "# Label"
      ],
      "metadata": {
        "id": "s-__XAVr6kUP"
      }
    },
    {
      "cell_type": "markdown",
      "source": [
        "## Clean"
      ],
      "metadata": {
        "id": "WrSSV4D2Ak4h"
      }
    },
    {
      "cell_type": "code",
      "source": [
        "df = df[['CNPJ','Fornecedor','Valor','Tipo','Matricula','Mes','Ano']]"
      ],
      "metadata": {
        "id": "gQw20bXgIjB8"
      },
      "execution_count": null,
      "outputs": []
    },
    {
      "cell_type": "code",
      "source": [
        "df.info()"
      ],
      "metadata": {
        "colab": {
          "base_uri": "https://localhost:8080/"
        },
        "id": "6U1HfIHLCYRJ",
        "outputId": "b7ec4da1-94ab-4972-c801-64f946c2f49c"
      },
      "execution_count": null,
      "outputs": [
        {
          "output_type": "stream",
          "name": "stdout",
          "text": [
            "<class 'pandas.core.frame.DataFrame'>\n",
            "RangeIndex: 118417 entries, 0 to 118416\n",
            "Data columns (total 7 columns):\n",
            " #   Column      Non-Null Count   Dtype  \n",
            "---  ------      --------------   -----  \n",
            " 0   CNPJ        116563 non-null  float64\n",
            " 1   Fornecedor  118417 non-null  object \n",
            " 2   Valor       118417 non-null  float64\n",
            " 3   Tipo        118417 non-null  object \n",
            " 4   Matricula   118417 non-null  int64  \n",
            " 5   Mes         118417 non-null  int64  \n",
            " 6   Ano         118417 non-null  int64  \n",
            "dtypes: float64(2), int64(3), object(2)\n",
            "memory usage: 6.3+ MB\n"
          ]
        }
      ]
    },
    {
      "cell_type": "code",
      "source": [
        "df.rename(columns={'Matricula': 'id_deputado','CNPJ' : 'cnpj_empresa', 'Mes': 'mes', 'Ano': 'ano', 'Valor' : 'valor', 'Fornecedor': 'fornecedor', 'Tipo': 'tipo'}, inplace = True)"
      ],
      "metadata": {
        "id": "a0rRigvXEI5P"
      },
      "execution_count": null,
      "outputs": []
    },
    {
      "cell_type": "code",
      "source": [
        "df.isna().sum()"
      ],
      "metadata": {
        "colab": {
          "base_uri": "https://localhost:8080/"
        },
        "id": "fMR-2HTNAx9X",
        "outputId": "10ad25f9-3fff-48f4-9caa-6200812a4110"
      },
      "execution_count": null,
      "outputs": [
        {
          "output_type": "execute_result",
          "data": {
            "text/plain": [
              "cnpj_empresa    1854\n",
              "fornecedor         0\n",
              "valor              0\n",
              "tipo               0\n",
              "id_deputado        0\n",
              "mes                0\n",
              "ano                0\n",
              "dtype: int64"
            ]
          },
          "metadata": {},
          "execution_count": 18
        }
      ]
    },
    {
      "cell_type": "code",
      "source": [
        "df['data'] = df['mes'].astype(str) + '-' + df['ano'].astype(str)"
      ],
      "metadata": {
        "id": "dvta-FozA7j2"
      },
      "execution_count": null,
      "outputs": []
    },
    {
      "cell_type": "code",
      "source": [
        "df['data'] = df['data'].to_datetime()"
      ],
      "metadata": {
        "colab": {
          "base_uri": "https://localhost:8080/",
          "height": 287
        },
        "id": "oIv8pzAXBkMp",
        "outputId": "78eb0a32-1bd2-4eb9-8285-94f63f5e471d"
      },
      "execution_count": null,
      "outputs": [
        {
          "output_type": "error",
          "ename": "AttributeError",
          "evalue": "ignored",
          "traceback": [
            "\u001b[0;31m---------------------------------------------------------------------------\u001b[0m",
            "\u001b[0;31mAttributeError\u001b[0m                            Traceback (most recent call last)",
            "\u001b[0;32m<ipython-input-20-d756c945e20b>\u001b[0m in \u001b[0;36m<module>\u001b[0;34m\u001b[0m\n\u001b[0;32m----> 1\u001b[0;31m \u001b[0mdf\u001b[0m\u001b[0;34m[\u001b[0m\u001b[0;34m'data'\u001b[0m\u001b[0;34m]\u001b[0m \u001b[0;34m=\u001b[0m \u001b[0mdf\u001b[0m\u001b[0;34m[\u001b[0m\u001b[0;34m'data'\u001b[0m\u001b[0;34m]\u001b[0m\u001b[0;34m.\u001b[0m\u001b[0mto_datetime\u001b[0m\u001b[0;34m(\u001b[0m\u001b[0;34m)\u001b[0m\u001b[0;34m\u001b[0m\u001b[0;34m\u001b[0m\u001b[0m\n\u001b[0m",
            "\u001b[0;32m/usr/local/lib/python3.7/dist-packages/pandas/core/generic.py\u001b[0m in \u001b[0;36m__getattr__\u001b[0;34m(self, name)\u001b[0m\n\u001b[1;32m   5485\u001b[0m         ):\n\u001b[1;32m   5486\u001b[0m             \u001b[0;32mreturn\u001b[0m \u001b[0mself\u001b[0m\u001b[0;34m[\u001b[0m\u001b[0mname\u001b[0m\u001b[0;34m]\u001b[0m\u001b[0;34m\u001b[0m\u001b[0;34m\u001b[0m\u001b[0m\n\u001b[0;32m-> 5487\u001b[0;31m         \u001b[0;32mreturn\u001b[0m \u001b[0mobject\u001b[0m\u001b[0;34m.\u001b[0m\u001b[0m__getattribute__\u001b[0m\u001b[0;34m(\u001b[0m\u001b[0mself\u001b[0m\u001b[0;34m,\u001b[0m \u001b[0mname\u001b[0m\u001b[0;34m)\u001b[0m\u001b[0;34m\u001b[0m\u001b[0;34m\u001b[0m\u001b[0m\n\u001b[0m\u001b[1;32m   5488\u001b[0m \u001b[0;34m\u001b[0m\u001b[0m\n\u001b[1;32m   5489\u001b[0m     \u001b[0;32mdef\u001b[0m \u001b[0m__setattr__\u001b[0m\u001b[0;34m(\u001b[0m\u001b[0mself\u001b[0m\u001b[0;34m,\u001b[0m \u001b[0mname\u001b[0m\u001b[0;34m:\u001b[0m \u001b[0mstr\u001b[0m\u001b[0;34m,\u001b[0m \u001b[0mvalue\u001b[0m\u001b[0;34m)\u001b[0m \u001b[0;34m->\u001b[0m \u001b[0;32mNone\u001b[0m\u001b[0;34m:\u001b[0m\u001b[0;34m\u001b[0m\u001b[0;34m\u001b[0m\u001b[0m\n",
            "\u001b[0;31mAttributeError\u001b[0m: 'Series' object has no attribute 'to_datetime'"
          ]
        }
      ]
    },
    {
      "cell_type": "code",
      "source": [
        "df.dtypes"
      ],
      "metadata": {
        "colab": {
          "base_uri": "https://localhost:8080/"
        },
        "id": "WfKbZMp19Nn8",
        "outputId": "fc9d7175-e8fa-4e44-8bd2-06aa3859952e"
      },
      "execution_count": null,
      "outputs": [
        {
          "output_type": "execute_result",
          "data": {
            "text/plain": [
              "cnpj_empresa      Int64\n",
              "fornecedor       object\n",
              "valor           float64\n",
              "tipo             object\n",
              "id_deputado       int64\n",
              "mes               int64\n",
              "ano               int64\n",
              "data             object\n",
              "dtype: object"
            ]
          },
          "metadata": {},
          "execution_count": 66
        }
      ]
    },
    {
      "cell_type": "code",
      "source": [
        "df['cnpj_empresa'] = df['cnpj_empresa'].astype('Int64')"
      ],
      "metadata": {
        "id": "N9tA00Q78FXx"
      },
      "execution_count": null,
      "outputs": []
    },
    {
      "cell_type": "code",
      "source": [
        "# Verificador de letras em numeros\n",
        "valores_estranhos = []\n",
        "for i in range(len(df['cnpj_empresa'])):\n",
        "  try:\n",
        "    int(df['cnpj_empresa'].loc[i , 'CNPJ'])\n",
        "  except Exception:\n",
        "    valores_estranhos.append(df['cnpj_empresa'].loc[i , 'CNPJ'])\n",
        "print(valores_estranhos)"
      ],
      "metadata": {
        "colab": {
          "base_uri": "https://localhost:8080/",
          "height": 432
        },
        "id": "nmpHVicJ9EBs",
        "outputId": "4ba34e69-b1e3-49ac-86d7-bf16e8fe4497"
      },
      "execution_count": null,
      "outputs": [
        {
          "output_type": "error",
          "ename": "IndexingError",
          "evalue": "ignored",
          "traceback": [
            "\u001b[0;31m---------------------------------------------------------------------------\u001b[0m",
            "\u001b[0;31mIndexingError\u001b[0m                             Traceback (most recent call last)",
            "\u001b[0;32m<ipython-input-76-4432893c0adb>\u001b[0m in \u001b[0;36m<module>\u001b[0;34m\u001b[0m\n\u001b[1;32m      4\u001b[0m   \u001b[0;32mtry\u001b[0m\u001b[0;34m:\u001b[0m\u001b[0;34m\u001b[0m\u001b[0;34m\u001b[0m\u001b[0m\n\u001b[0;32m----> 5\u001b[0;31m     \u001b[0mint\u001b[0m\u001b[0;34m(\u001b[0m\u001b[0mdf\u001b[0m\u001b[0;34m[\u001b[0m\u001b[0;34m'cnpj_empresa'\u001b[0m\u001b[0;34m]\u001b[0m\u001b[0;34m.\u001b[0m\u001b[0mloc\u001b[0m\u001b[0;34m[\u001b[0m\u001b[0mi\u001b[0m \u001b[0;34m,\u001b[0m \u001b[0;34m'CNPJ'\u001b[0m\u001b[0;34m]\u001b[0m\u001b[0;34m)\u001b[0m\u001b[0;34m\u001b[0m\u001b[0;34m\u001b[0m\u001b[0m\n\u001b[0m\u001b[1;32m      6\u001b[0m   \u001b[0;32mexcept\u001b[0m \u001b[0mException\u001b[0m\u001b[0;34m:\u001b[0m\u001b[0;34m\u001b[0m\u001b[0;34m\u001b[0m\u001b[0m\n",
            "\u001b[0;32m/usr/local/lib/python3.7/dist-packages/pandas/core/indexing.py\u001b[0m in \u001b[0;36m__getitem__\u001b[0;34m(self, key)\u001b[0m\n\u001b[1;32m    924\u001b[0m                     \u001b[0;32mreturn\u001b[0m \u001b[0mself\u001b[0m\u001b[0;34m.\u001b[0m\u001b[0mobj\u001b[0m\u001b[0;34m.\u001b[0m\u001b[0m_get_value\u001b[0m\u001b[0;34m(\u001b[0m\u001b[0;34m*\u001b[0m\u001b[0mkey\u001b[0m\u001b[0;34m,\u001b[0m \u001b[0mtakeable\u001b[0m\u001b[0;34m=\u001b[0m\u001b[0mself\u001b[0m\u001b[0;34m.\u001b[0m\u001b[0m_takeable\u001b[0m\u001b[0;34m)\u001b[0m\u001b[0;34m\u001b[0m\u001b[0;34m\u001b[0m\u001b[0m\n\u001b[0;32m--> 925\u001b[0;31m             \u001b[0;32mreturn\u001b[0m \u001b[0mself\u001b[0m\u001b[0;34m.\u001b[0m\u001b[0m_getitem_tuple\u001b[0m\u001b[0;34m(\u001b[0m\u001b[0mkey\u001b[0m\u001b[0;34m)\u001b[0m\u001b[0;34m\u001b[0m\u001b[0;34m\u001b[0m\u001b[0m\n\u001b[0m\u001b[1;32m    926\u001b[0m         \u001b[0;32melse\u001b[0m\u001b[0;34m:\u001b[0m\u001b[0;34m\u001b[0m\u001b[0;34m\u001b[0m\u001b[0m\n",
            "\u001b[0;32m/usr/local/lib/python3.7/dist-packages/pandas/core/indexing.py\u001b[0m in \u001b[0;36m_getitem_tuple\u001b[0;34m(self, tup)\u001b[0m\n\u001b[1;32m   1102\u001b[0m         \u001b[0;31m# no multi-index, so validate all of the indexers\u001b[0m\u001b[0;34m\u001b[0m\u001b[0;34m\u001b[0m\u001b[0;34m\u001b[0m\u001b[0m\n\u001b[0;32m-> 1103\u001b[0;31m         \u001b[0mself\u001b[0m\u001b[0;34m.\u001b[0m\u001b[0m_has_valid_tuple\u001b[0m\u001b[0;34m(\u001b[0m\u001b[0mtup\u001b[0m\u001b[0;34m)\u001b[0m\u001b[0;34m\u001b[0m\u001b[0;34m\u001b[0m\u001b[0m\n\u001b[0m\u001b[1;32m   1104\u001b[0m \u001b[0;34m\u001b[0m\u001b[0m\n",
            "\u001b[0;32m/usr/local/lib/python3.7/dist-packages/pandas/core/indexing.py\u001b[0m in \u001b[0;36m_has_valid_tuple\u001b[0;34m(self, key)\u001b[0m\n\u001b[1;32m    750\u001b[0m         \"\"\"\n\u001b[0;32m--> 751\u001b[0;31m         \u001b[0mself\u001b[0m\u001b[0;34m.\u001b[0m\u001b[0m_validate_key_length\u001b[0m\u001b[0;34m(\u001b[0m\u001b[0mkey\u001b[0m\u001b[0;34m)\u001b[0m\u001b[0;34m\u001b[0m\u001b[0;34m\u001b[0m\u001b[0m\n\u001b[0m\u001b[1;32m    752\u001b[0m         \u001b[0;32mfor\u001b[0m \u001b[0mi\u001b[0m\u001b[0;34m,\u001b[0m \u001b[0mk\u001b[0m \u001b[0;32min\u001b[0m \u001b[0menumerate\u001b[0m\u001b[0;34m(\u001b[0m\u001b[0mkey\u001b[0m\u001b[0;34m)\u001b[0m\u001b[0;34m:\u001b[0m\u001b[0;34m\u001b[0m\u001b[0;34m\u001b[0m\u001b[0m\n",
            "\u001b[0;32m/usr/local/lib/python3.7/dist-packages/pandas/core/indexing.py\u001b[0m in \u001b[0;36m_validate_key_length\u001b[0;34m(self, key)\u001b[0m\n\u001b[1;32m    791\u001b[0m         \u001b[0;32mif\u001b[0m \u001b[0mlen\u001b[0m\u001b[0;34m(\u001b[0m\u001b[0mkey\u001b[0m\u001b[0;34m)\u001b[0m \u001b[0;34m>\u001b[0m \u001b[0mself\u001b[0m\u001b[0;34m.\u001b[0m\u001b[0mndim\u001b[0m\u001b[0;34m:\u001b[0m\u001b[0;34m\u001b[0m\u001b[0;34m\u001b[0m\u001b[0m\n\u001b[0;32m--> 792\u001b[0;31m             \u001b[0;32mraise\u001b[0m \u001b[0mIndexingError\u001b[0m\u001b[0;34m(\u001b[0m\u001b[0;34m\"Too many indexers\"\u001b[0m\u001b[0;34m)\u001b[0m\u001b[0;34m\u001b[0m\u001b[0;34m\u001b[0m\u001b[0m\n\u001b[0m\u001b[1;32m    793\u001b[0m \u001b[0;34m\u001b[0m\u001b[0m\n",
            "\u001b[0;31mIndexingError\u001b[0m: Too many indexers",
            "\nDuring handling of the above exception, another exception occurred:\n",
            "\u001b[0;31mIndexingError\u001b[0m                             Traceback (most recent call last)",
            "\u001b[0;32m<ipython-input-76-4432893c0adb>\u001b[0m in \u001b[0;36m<module>\u001b[0;34m\u001b[0m\n\u001b[1;32m      5\u001b[0m     \u001b[0mint\u001b[0m\u001b[0;34m(\u001b[0m\u001b[0mdf\u001b[0m\u001b[0;34m[\u001b[0m\u001b[0;34m'cnpj_empresa'\u001b[0m\u001b[0;34m]\u001b[0m\u001b[0;34m.\u001b[0m\u001b[0mloc\u001b[0m\u001b[0;34m[\u001b[0m\u001b[0mi\u001b[0m \u001b[0;34m,\u001b[0m \u001b[0;34m'CNPJ'\u001b[0m\u001b[0;34m]\u001b[0m\u001b[0;34m)\u001b[0m\u001b[0;34m\u001b[0m\u001b[0;34m\u001b[0m\u001b[0m\n\u001b[1;32m      6\u001b[0m   \u001b[0;32mexcept\u001b[0m \u001b[0mException\u001b[0m\u001b[0;34m:\u001b[0m\u001b[0;34m\u001b[0m\u001b[0;34m\u001b[0m\u001b[0m\n\u001b[0;32m----> 7\u001b[0;31m     \u001b[0mvalores_estranhos\u001b[0m\u001b[0;34m.\u001b[0m\u001b[0mappend\u001b[0m\u001b[0;34m(\u001b[0m\u001b[0mdf\u001b[0m\u001b[0;34m[\u001b[0m\u001b[0;34m'cnpj_empresa'\u001b[0m\u001b[0;34m]\u001b[0m\u001b[0;34m.\u001b[0m\u001b[0mloc\u001b[0m\u001b[0;34m[\u001b[0m\u001b[0mi\u001b[0m \u001b[0;34m,\u001b[0m \u001b[0;34m'CNPJ'\u001b[0m\u001b[0;34m]\u001b[0m\u001b[0;34m)\u001b[0m\u001b[0;34m\u001b[0m\u001b[0;34m\u001b[0m\u001b[0m\n\u001b[0m\u001b[1;32m      8\u001b[0m \u001b[0mprint\u001b[0m\u001b[0;34m(\u001b[0m\u001b[0mvalores_estranhos\u001b[0m\u001b[0;34m)\u001b[0m\u001b[0;34m\u001b[0m\u001b[0;34m\u001b[0m\u001b[0m\n",
            "\u001b[0;32m/usr/local/lib/python3.7/dist-packages/pandas/core/indexing.py\u001b[0m in \u001b[0;36m__getitem__\u001b[0;34m(self, key)\u001b[0m\n\u001b[1;32m    923\u001b[0m                 \u001b[0;32mwith\u001b[0m \u001b[0msuppress\u001b[0m\u001b[0;34m(\u001b[0m\u001b[0mKeyError\u001b[0m\u001b[0;34m,\u001b[0m \u001b[0mIndexError\u001b[0m\u001b[0;34m)\u001b[0m\u001b[0;34m:\u001b[0m\u001b[0;34m\u001b[0m\u001b[0;34m\u001b[0m\u001b[0m\n\u001b[1;32m    924\u001b[0m                     \u001b[0;32mreturn\u001b[0m \u001b[0mself\u001b[0m\u001b[0;34m.\u001b[0m\u001b[0mobj\u001b[0m\u001b[0;34m.\u001b[0m\u001b[0m_get_value\u001b[0m\u001b[0;34m(\u001b[0m\u001b[0;34m*\u001b[0m\u001b[0mkey\u001b[0m\u001b[0;34m,\u001b[0m \u001b[0mtakeable\u001b[0m\u001b[0;34m=\u001b[0m\u001b[0mself\u001b[0m\u001b[0;34m.\u001b[0m\u001b[0m_takeable\u001b[0m\u001b[0;34m)\u001b[0m\u001b[0;34m\u001b[0m\u001b[0;34m\u001b[0m\u001b[0m\n\u001b[0;32m--> 925\u001b[0;31m             \u001b[0;32mreturn\u001b[0m \u001b[0mself\u001b[0m\u001b[0;34m.\u001b[0m\u001b[0m_getitem_tuple\u001b[0m\u001b[0;34m(\u001b[0m\u001b[0mkey\u001b[0m\u001b[0;34m)\u001b[0m\u001b[0;34m\u001b[0m\u001b[0;34m\u001b[0m\u001b[0m\n\u001b[0m\u001b[1;32m    926\u001b[0m         \u001b[0;32melse\u001b[0m\u001b[0;34m:\u001b[0m\u001b[0;34m\u001b[0m\u001b[0;34m\u001b[0m\u001b[0m\n\u001b[1;32m    927\u001b[0m             \u001b[0;31m# we by definition only have the 0th axis\u001b[0m\u001b[0;34m\u001b[0m\u001b[0;34m\u001b[0m\u001b[0;34m\u001b[0m\u001b[0m\n",
            "\u001b[0;32m/usr/local/lib/python3.7/dist-packages/pandas/core/indexing.py\u001b[0m in \u001b[0;36m_getitem_tuple\u001b[0;34m(self, tup)\u001b[0m\n\u001b[1;32m   1101\u001b[0m \u001b[0;34m\u001b[0m\u001b[0m\n\u001b[1;32m   1102\u001b[0m         \u001b[0;31m# no multi-index, so validate all of the indexers\u001b[0m\u001b[0;34m\u001b[0m\u001b[0;34m\u001b[0m\u001b[0;34m\u001b[0m\u001b[0m\n\u001b[0;32m-> 1103\u001b[0;31m         \u001b[0mself\u001b[0m\u001b[0;34m.\u001b[0m\u001b[0m_has_valid_tuple\u001b[0m\u001b[0;34m(\u001b[0m\u001b[0mtup\u001b[0m\u001b[0;34m)\u001b[0m\u001b[0;34m\u001b[0m\u001b[0;34m\u001b[0m\u001b[0m\n\u001b[0m\u001b[1;32m   1104\u001b[0m \u001b[0;34m\u001b[0m\u001b[0m\n\u001b[1;32m   1105\u001b[0m         \u001b[0;31m# ugly hack for GH #836\u001b[0m\u001b[0;34m\u001b[0m\u001b[0;34m\u001b[0m\u001b[0;34m\u001b[0m\u001b[0m\n",
            "\u001b[0;32m/usr/local/lib/python3.7/dist-packages/pandas/core/indexing.py\u001b[0m in \u001b[0;36m_has_valid_tuple\u001b[0;34m(self, key)\u001b[0m\n\u001b[1;32m    749\u001b[0m         \u001b[0mCheck\u001b[0m \u001b[0mthe\u001b[0m \u001b[0mkey\u001b[0m \u001b[0;32mfor\u001b[0m \u001b[0mvalid\u001b[0m \u001b[0mkeys\u001b[0m \u001b[0macross\u001b[0m \u001b[0mmy\u001b[0m \u001b[0mindexer\u001b[0m\u001b[0;34m.\u001b[0m\u001b[0;34m\u001b[0m\u001b[0;34m\u001b[0m\u001b[0m\n\u001b[1;32m    750\u001b[0m         \"\"\"\n\u001b[0;32m--> 751\u001b[0;31m         \u001b[0mself\u001b[0m\u001b[0;34m.\u001b[0m\u001b[0m_validate_key_length\u001b[0m\u001b[0;34m(\u001b[0m\u001b[0mkey\u001b[0m\u001b[0;34m)\u001b[0m\u001b[0;34m\u001b[0m\u001b[0;34m\u001b[0m\u001b[0m\n\u001b[0m\u001b[1;32m    752\u001b[0m         \u001b[0;32mfor\u001b[0m \u001b[0mi\u001b[0m\u001b[0;34m,\u001b[0m \u001b[0mk\u001b[0m \u001b[0;32min\u001b[0m \u001b[0menumerate\u001b[0m\u001b[0;34m(\u001b[0m\u001b[0mkey\u001b[0m\u001b[0;34m)\u001b[0m\u001b[0;34m:\u001b[0m\u001b[0;34m\u001b[0m\u001b[0;34m\u001b[0m\u001b[0m\n\u001b[1;32m    753\u001b[0m             \u001b[0;32mtry\u001b[0m\u001b[0;34m:\u001b[0m\u001b[0;34m\u001b[0m\u001b[0;34m\u001b[0m\u001b[0m\n",
            "\u001b[0;32m/usr/local/lib/python3.7/dist-packages/pandas/core/indexing.py\u001b[0m in \u001b[0;36m_validate_key_length\u001b[0;34m(self, key)\u001b[0m\n\u001b[1;32m    790\u001b[0m     \u001b[0;32mdef\u001b[0m \u001b[0m_validate_key_length\u001b[0m\u001b[0;34m(\u001b[0m\u001b[0mself\u001b[0m\u001b[0;34m,\u001b[0m \u001b[0mkey\u001b[0m\u001b[0;34m:\u001b[0m \u001b[0mSequence\u001b[0m\u001b[0;34m[\u001b[0m\u001b[0mAny\u001b[0m\u001b[0;34m]\u001b[0m\u001b[0;34m)\u001b[0m \u001b[0;34m->\u001b[0m \u001b[0;32mNone\u001b[0m\u001b[0;34m:\u001b[0m\u001b[0;34m\u001b[0m\u001b[0;34m\u001b[0m\u001b[0m\n\u001b[1;32m    791\u001b[0m         \u001b[0;32mif\u001b[0m \u001b[0mlen\u001b[0m\u001b[0;34m(\u001b[0m\u001b[0mkey\u001b[0m\u001b[0;34m)\u001b[0m \u001b[0;34m>\u001b[0m \u001b[0mself\u001b[0m\u001b[0;34m.\u001b[0m\u001b[0mndim\u001b[0m\u001b[0;34m:\u001b[0m\u001b[0;34m\u001b[0m\u001b[0;34m\u001b[0m\u001b[0m\n\u001b[0;32m--> 792\u001b[0;31m             \u001b[0;32mraise\u001b[0m \u001b[0mIndexingError\u001b[0m\u001b[0;34m(\u001b[0m\u001b[0;34m\"Too many indexers\"\u001b[0m\u001b[0;34m)\u001b[0m\u001b[0;34m\u001b[0m\u001b[0;34m\u001b[0m\u001b[0m\n\u001b[0m\u001b[1;32m    793\u001b[0m \u001b[0;34m\u001b[0m\u001b[0m\n\u001b[1;32m    794\u001b[0m     \u001b[0;32mdef\u001b[0m \u001b[0m_getitem_tuple_same_dim\u001b[0m\u001b[0;34m(\u001b[0m\u001b[0mself\u001b[0m\u001b[0;34m,\u001b[0m \u001b[0mtup\u001b[0m\u001b[0;34m:\u001b[0m \u001b[0mtuple\u001b[0m\u001b[0;34m)\u001b[0m\u001b[0;34m:\u001b[0m\u001b[0;34m\u001b[0m\u001b[0;34m\u001b[0m\u001b[0m\n",
            "\u001b[0;31mIndexingError\u001b[0m: Too many indexers"
          ]
        }
      ]
    },
    {
      "cell_type": "code",
      "source": [
        "pd.unique(df['fornecedor'])"
      ],
      "metadata": {
        "colab": {
          "base_uri": "https://localhost:8080/"
        },
        "id": "mMbnLBS5HU52",
        "outputId": "d9068da7-bafa-4cd5-ed51-28a4bdc4edb7"
      },
      "execution_count": null,
      "outputs": [
        {
          "output_type": "execute_result",
          "data": {
            "text/plain": [
              "array(['AUTO POSTO VANUTRE LTDA', 'S.D.LUIZARI & CIA. LTDA.',\n",
              "       'AUTO POSTO EXECUTIVO LTDA', ..., 'RESTAURANTE PAPAGAIUS LTDA',\n",
              "       'GRAO DO IPIRANGA PAES E DOCES LTDA',\n",
              "       'BAR E RESTAURANTE POINT SABARA LTDA'], dtype=object)"
            ]
          },
          "metadata": {},
          "execution_count": 71
        }
      ]
    },
    {
      "cell_type": "code",
      "execution_count": null,
      "metadata": {
        "id": "0Ut6QB0v6fe2"
      },
      "outputs": [],
      "source": [
        "# Verificador de letras em numeros\n",
        "valores_estranhos = []\n",
        "for i in range(len(df_despesas_cnpj)):\n",
        "  try:\n",
        "    int(df_despesas_cnpj.loc[i , 'CNPJ'])\n",
        "  except Exception:\n",
        "    valores_estranhos.append(df_despesas_cnpj.loc[i , 'CNPJ'])\n",
        "print(valores_estranhos)"
      ]
    },
    {
      "cell_type": "markdown",
      "source": [
        "## Filters"
      ],
      "metadata": {
        "id": "wMJk2uhfD7BO"
      }
    },
    {
      "cell_type": "code",
      "source": [
        "df.dtypes"
      ],
      "metadata": {
        "colab": {
          "base_uri": "https://localhost:8080/"
        },
        "id": "RlqxYS4EFaJJ",
        "outputId": "9a9d1fdf-ae57-446d-d9c0-5cb5f84f4d24"
      },
      "execution_count": null,
      "outputs": [
        {
          "output_type": "execute_result",
          "data": {
            "text/plain": [
              "cnpj_empresa    float64\n",
              "fornecedor       object\n",
              "valor           float64\n",
              "tipo             object\n",
              "id_deputado       int64\n",
              "mes               int64\n",
              "ano               int64\n",
              "dtype: object"
            ]
          },
          "metadata": {},
          "execution_count": 126
        }
      ]
    },
    {
      "cell_type": "code",
      "source": [
        "df"
      ],
      "metadata": {
        "colab": {
          "base_uri": "https://localhost:8080/",
          "height": 424
        },
        "id": "JqcSiHIlH5na",
        "outputId": "a5775981-631e-451d-c795-dbdb067f4755"
      },
      "execution_count": null,
      "outputs": [
        {
          "output_type": "execute_result",
          "data": {
            "text/plain": [
              "        cnpj_empresa                                         fornecedor  \\\n",
              "0       5.049700e+11                            AUTO POSTO VANUTRE LTDA   \n",
              "1       4.881450e+13                           S.D.LUIZARI & CIA. LTDA.   \n",
              "2       6.586291e+13                          AUTO POSTO EXECUTIVO LTDA   \n",
              "3                NaN                                            PEDÁGIO   \n",
              "4       9.904660e+11  CROMOGRAF GRAFICA DE PRESIDENTE PRUDENTE LTDA ...   \n",
              "...              ...                                                ...   \n",
              "118412  1.531481e+13              FYIVAS SOLUÇÕES EM TECNOLOGIA LTDA ME   \n",
              "118413  6.729494e+10                              MARIA INES SINISGALLI   \n",
              "118414  4.639213e+13                    SECRETARIA MUNICIPAL DA FAZENDA   \n",
              "118415  6.106391e+13            CONDOMINIO EDIF IBIRAPUERA PLAZA CENTER   \n",
              "118416  2.491558e+12                     UNIDAS VEÍCULOS ESPECIAIS S.A.   \n",
              "\n",
              "          valor                                               tipo  \\\n",
              "0        575.53                   A - COMBUSTÍVEIS E LUBRIFICANTES   \n",
              "1       1650.76                   A - COMBUSTÍVEIS E LUBRIFICANTES   \n",
              "2       1799.29                   A - COMBUSTÍVEIS E LUBRIFICANTES   \n",
              "3         36.40  C - MATERIAIS E SERVIÇOS DE MANUT E CONSERV DE...   \n",
              "4       3100.00  D - MATERIAIS E SERVIÇOS GRÁFICOS, DE CÓPIAS  ...   \n",
              "...         ...                                                ...   \n",
              "118412  1250.00                         K - LOCAÇÃO DE BENS MÓVEIS   \n",
              "118413  2500.00                        L - LOCAÇÃO DE BENS IMÓVEIS   \n",
              "118414   599.29  M - MANUTENÇÃO DE BENS MÓVEIS,  IMÓVEIS, CONDO...   \n",
              "118415  1836.13  M - MANUTENÇÃO DE BENS MÓVEIS,  IMÓVEIS, CONDO...   \n",
              "118416  2835.90                             O - LOCAÇÃO DE VEÍCULO   \n",
              "\n",
              "        id_deputado  mes   ano  \n",
              "0            300098    1  2013  \n",
              "1            300098    1  2013  \n",
              "2            300098    1  2013  \n",
              "3            300098    1  2013  \n",
              "4            300098    1  2013  \n",
              "...             ...  ...   ...  \n",
              "118412       300655    9  2022  \n",
              "118413       300655    9  2022  \n",
              "118414       300655    9  2022  \n",
              "118415       300655    9  2022  \n",
              "118416       300655    9  2022  \n",
              "\n",
              "[118417 rows x 7 columns]"
            ],
            "text/html": [
              "\n",
              "  <div id=\"df-933c4f61-44f8-4463-a0cd-5167d472997b\">\n",
              "    <div class=\"colab-df-container\">\n",
              "      <div>\n",
              "<style scoped>\n",
              "    .dataframe tbody tr th:only-of-type {\n",
              "        vertical-align: middle;\n",
              "    }\n",
              "\n",
              "    .dataframe tbody tr th {\n",
              "        vertical-align: top;\n",
              "    }\n",
              "\n",
              "    .dataframe thead th {\n",
              "        text-align: right;\n",
              "    }\n",
              "</style>\n",
              "<table border=\"1\" class=\"dataframe\">\n",
              "  <thead>\n",
              "    <tr style=\"text-align: right;\">\n",
              "      <th></th>\n",
              "      <th>cnpj_empresa</th>\n",
              "      <th>fornecedor</th>\n",
              "      <th>valor</th>\n",
              "      <th>tipo</th>\n",
              "      <th>id_deputado</th>\n",
              "      <th>mes</th>\n",
              "      <th>ano</th>\n",
              "    </tr>\n",
              "  </thead>\n",
              "  <tbody>\n",
              "    <tr>\n",
              "      <th>0</th>\n",
              "      <td>5.049700e+11</td>\n",
              "      <td>AUTO POSTO VANUTRE LTDA</td>\n",
              "      <td>575.53</td>\n",
              "      <td>A - COMBUSTÍVEIS E LUBRIFICANTES</td>\n",
              "      <td>300098</td>\n",
              "      <td>1</td>\n",
              "      <td>2013</td>\n",
              "    </tr>\n",
              "    <tr>\n",
              "      <th>1</th>\n",
              "      <td>4.881450e+13</td>\n",
              "      <td>S.D.LUIZARI &amp; CIA. LTDA.</td>\n",
              "      <td>1650.76</td>\n",
              "      <td>A - COMBUSTÍVEIS E LUBRIFICANTES</td>\n",
              "      <td>300098</td>\n",
              "      <td>1</td>\n",
              "      <td>2013</td>\n",
              "    </tr>\n",
              "    <tr>\n",
              "      <th>2</th>\n",
              "      <td>6.586291e+13</td>\n",
              "      <td>AUTO POSTO EXECUTIVO LTDA</td>\n",
              "      <td>1799.29</td>\n",
              "      <td>A - COMBUSTÍVEIS E LUBRIFICANTES</td>\n",
              "      <td>300098</td>\n",
              "      <td>1</td>\n",
              "      <td>2013</td>\n",
              "    </tr>\n",
              "    <tr>\n",
              "      <th>3</th>\n",
              "      <td>NaN</td>\n",
              "      <td>PEDÁGIO</td>\n",
              "      <td>36.40</td>\n",
              "      <td>C - MATERIAIS E SERVIÇOS DE MANUT E CONSERV DE...</td>\n",
              "      <td>300098</td>\n",
              "      <td>1</td>\n",
              "      <td>2013</td>\n",
              "    </tr>\n",
              "    <tr>\n",
              "      <th>4</th>\n",
              "      <td>9.904660e+11</td>\n",
              "      <td>CROMOGRAF GRAFICA DE PRESIDENTE PRUDENTE LTDA ...</td>\n",
              "      <td>3100.00</td>\n",
              "      <td>D - MATERIAIS E SERVIÇOS GRÁFICOS, DE CÓPIAS  ...</td>\n",
              "      <td>300098</td>\n",
              "      <td>1</td>\n",
              "      <td>2013</td>\n",
              "    </tr>\n",
              "    <tr>\n",
              "      <th>...</th>\n",
              "      <td>...</td>\n",
              "      <td>...</td>\n",
              "      <td>...</td>\n",
              "      <td>...</td>\n",
              "      <td>...</td>\n",
              "      <td>...</td>\n",
              "      <td>...</td>\n",
              "    </tr>\n",
              "    <tr>\n",
              "      <th>118412</th>\n",
              "      <td>1.531481e+13</td>\n",
              "      <td>FYIVAS SOLUÇÕES EM TECNOLOGIA LTDA ME</td>\n",
              "      <td>1250.00</td>\n",
              "      <td>K - LOCAÇÃO DE BENS MÓVEIS</td>\n",
              "      <td>300655</td>\n",
              "      <td>9</td>\n",
              "      <td>2022</td>\n",
              "    </tr>\n",
              "    <tr>\n",
              "      <th>118413</th>\n",
              "      <td>6.729494e+10</td>\n",
              "      <td>MARIA INES SINISGALLI</td>\n",
              "      <td>2500.00</td>\n",
              "      <td>L - LOCAÇÃO DE BENS IMÓVEIS</td>\n",
              "      <td>300655</td>\n",
              "      <td>9</td>\n",
              "      <td>2022</td>\n",
              "    </tr>\n",
              "    <tr>\n",
              "      <th>118414</th>\n",
              "      <td>4.639213e+13</td>\n",
              "      <td>SECRETARIA MUNICIPAL DA FAZENDA</td>\n",
              "      <td>599.29</td>\n",
              "      <td>M - MANUTENÇÃO DE BENS MÓVEIS,  IMÓVEIS, CONDO...</td>\n",
              "      <td>300655</td>\n",
              "      <td>9</td>\n",
              "      <td>2022</td>\n",
              "    </tr>\n",
              "    <tr>\n",
              "      <th>118415</th>\n",
              "      <td>6.106391e+13</td>\n",
              "      <td>CONDOMINIO EDIF IBIRAPUERA PLAZA CENTER</td>\n",
              "      <td>1836.13</td>\n",
              "      <td>M - MANUTENÇÃO DE BENS MÓVEIS,  IMÓVEIS, CONDO...</td>\n",
              "      <td>300655</td>\n",
              "      <td>9</td>\n",
              "      <td>2022</td>\n",
              "    </tr>\n",
              "    <tr>\n",
              "      <th>118416</th>\n",
              "      <td>2.491558e+12</td>\n",
              "      <td>UNIDAS VEÍCULOS ESPECIAIS S.A.</td>\n",
              "      <td>2835.90</td>\n",
              "      <td>O - LOCAÇÃO DE VEÍCULO</td>\n",
              "      <td>300655</td>\n",
              "      <td>9</td>\n",
              "      <td>2022</td>\n",
              "    </tr>\n",
              "  </tbody>\n",
              "</table>\n",
              "<p>118417 rows × 7 columns</p>\n",
              "</div>\n",
              "      <button class=\"colab-df-convert\" onclick=\"convertToInteractive('df-933c4f61-44f8-4463-a0cd-5167d472997b')\"\n",
              "              title=\"Convert this dataframe to an interactive table.\"\n",
              "              style=\"display:none;\">\n",
              "        \n",
              "  <svg xmlns=\"http://www.w3.org/2000/svg\" height=\"24px\"viewBox=\"0 0 24 24\"\n",
              "       width=\"24px\">\n",
              "    <path d=\"M0 0h24v24H0V0z\" fill=\"none\"/>\n",
              "    <path d=\"M18.56 5.44l.94 2.06.94-2.06 2.06-.94-2.06-.94-.94-2.06-.94 2.06-2.06.94zm-11 1L8.5 8.5l.94-2.06 2.06-.94-2.06-.94L8.5 2.5l-.94 2.06-2.06.94zm10 10l.94 2.06.94-2.06 2.06-.94-2.06-.94-.94-2.06-.94 2.06-2.06.94z\"/><path d=\"M17.41 7.96l-1.37-1.37c-.4-.4-.92-.59-1.43-.59-.52 0-1.04.2-1.43.59L10.3 9.45l-7.72 7.72c-.78.78-.78 2.05 0 2.83L4 21.41c.39.39.9.59 1.41.59.51 0 1.02-.2 1.41-.59l7.78-7.78 2.81-2.81c.8-.78.8-2.07 0-2.86zM5.41 20L4 18.59l7.72-7.72 1.47 1.35L5.41 20z\"/>\n",
              "  </svg>\n",
              "      </button>\n",
              "      \n",
              "  <style>\n",
              "    .colab-df-container {\n",
              "      display:flex;\n",
              "      flex-wrap:wrap;\n",
              "      gap: 12px;\n",
              "    }\n",
              "\n",
              "    .colab-df-convert {\n",
              "      background-color: #E8F0FE;\n",
              "      border: none;\n",
              "      border-radius: 50%;\n",
              "      cursor: pointer;\n",
              "      display: none;\n",
              "      fill: #1967D2;\n",
              "      height: 32px;\n",
              "      padding: 0 0 0 0;\n",
              "      width: 32px;\n",
              "    }\n",
              "\n",
              "    .colab-df-convert:hover {\n",
              "      background-color: #E2EBFA;\n",
              "      box-shadow: 0px 1px 2px rgba(60, 64, 67, 0.3), 0px 1px 3px 1px rgba(60, 64, 67, 0.15);\n",
              "      fill: #174EA6;\n",
              "    }\n",
              "\n",
              "    [theme=dark] .colab-df-convert {\n",
              "      background-color: #3B4455;\n",
              "      fill: #D2E3FC;\n",
              "    }\n",
              "\n",
              "    [theme=dark] .colab-df-convert:hover {\n",
              "      background-color: #434B5C;\n",
              "      box-shadow: 0px 1px 3px 1px rgba(0, 0, 0, 0.15);\n",
              "      filter: drop-shadow(0px 1px 2px rgba(0, 0, 0, 0.3));\n",
              "      fill: #FFFFFF;\n",
              "    }\n",
              "  </style>\n",
              "\n",
              "      <script>\n",
              "        const buttonEl =\n",
              "          document.querySelector('#df-933c4f61-44f8-4463-a0cd-5167d472997b button.colab-df-convert');\n",
              "        buttonEl.style.display =\n",
              "          google.colab.kernel.accessAllowed ? 'block' : 'none';\n",
              "\n",
              "        async function convertToInteractive(key) {\n",
              "          const element = document.querySelector('#df-933c4f61-44f8-4463-a0cd-5167d472997b');\n",
              "          const dataTable =\n",
              "            await google.colab.kernel.invokeFunction('convertToInteractive',\n",
              "                                                     [key], {});\n",
              "          if (!dataTable) return;\n",
              "\n",
              "          const docLinkHtml = 'Like what you see? Visit the ' +\n",
              "            '<a target=\"_blank\" href=https://colab.research.google.com/notebooks/data_table.ipynb>data table notebook</a>'\n",
              "            + ' to learn more about interactive tables.';\n",
              "          element.innerHTML = '';\n",
              "          dataTable['output_type'] = 'display_data';\n",
              "          await google.colab.output.renderOutput(dataTable, element);\n",
              "          const docLink = document.createElement('div');\n",
              "          docLink.innerHTML = docLinkHtml;\n",
              "          element.appendChild(docLink);\n",
              "        }\n",
              "      </script>\n",
              "    </div>\n",
              "  </div>\n",
              "  "
            ]
          },
          "metadata": {},
          "execution_count": 160
        }
      ]
    },
    {
      "cell_type": "code",
      "source": [
        "schema = pa.DataFrameSchema(\n",
        "    columns = {\n",
        "    'cnpj_empresa':pa.Column(pa.Float),,\n",
        "    'fornecedor':pa.Column(pa.String),\n",
        "    ''\n",
        "               \n",
        "        \n",
        "    }\n",
        ")"
      ],
      "metadata": {
        "id": "W2cTKq5OD9ua"
      },
      "execution_count": null,
      "outputs": []
    },
    {
      "cell_type": "code",
      "source": [
        "sorted(pd.unique(df['tipo']))"
      ],
      "metadata": {
        "colab": {
          "base_uri": "https://localhost:8080/"
        },
        "id": "Pj7373FLgGEX",
        "outputId": "78c58a60-a848-4587-d163-303988ff2746"
      },
      "execution_count": null,
      "outputs": [
        {
          "output_type": "execute_result",
          "data": {
            "text/plain": [
              "['A - COMBUSTÍVEIS E LUBRIFICANTES',\n",
              " 'C - MATERIAIS E SERVIÇOS DE MANUT E CONSERV DE VEÍCULOS ; PEDÁGIOS',\n",
              " 'D - MATERIAIS E SERVIÇOS GRÁFICOS, DE CÓPIAS  E REPRODUÇÃO DE DOCS',\n",
              " 'E - MATERIAIS DE ESCRITÓRIO E OUTROS MATERIAIS DE CONSUMO',\n",
              " 'F - SERVIÇOS TÉCNICOS PROFISSIONAIS (CONSULTORIA, PESQUISAS ETC)',\n",
              " 'G - ASSINATURAS DE PERIÓDICOS, PUBLICAÇÕES, INTERNET E SOFTWARES',\n",
              " 'H - SERV.UTIL.PÚBLICA (TELEF.MÓVEL/FIXA, ENERGIA, ÁGUA, GÁS ETC)',\n",
              " 'I - HOSPEDAGEM, ALIMENTAÇÃO E DESPESAS DE LOCOMOÇÃO',\n",
              " 'J - SERVIÇOS DE COMUNICAÇÃO',\n",
              " 'K - LOCAÇÃO DE BENS MÓVEIS',\n",
              " 'L - LOCAÇÃO DE BENS IMÓVEIS',\n",
              " 'M - MANUTENÇÃO DE BENS MÓVEIS,  IMÓVEIS, CONDOMÍNIOS E OUTROS',\n",
              " 'N - MORADIA',\n",
              " 'O - LOCAÇÃO DE VEÍCULO',\n",
              " 'P - DIVULGAÇÃO DA ATIVIDADE PARLAMENTAR']"
            ]
          },
          "metadata": {},
          "execution_count": 191
        }
      ]
    },
    {
      "cell_type": "code",
      "source": [
        "filtroc = df.tipo == 'C - MATERIAIS E SERVIÇOS DE MANUT E CONSERV DE VEÍCULOS ; PEDÁGIOS'"
      ],
      "metadata": {
        "id": "uBHXdBqhg1ci"
      },
      "execution_count": null,
      "outputs": []
    },
    {
      "cell_type": "code",
      "source": [
        "sorted(pd.unique(dpedagio['fornecedor']))"
      ],
      "metadata": {
        "colab": {
          "base_uri": "https://localhost:8080/"
        },
        "id": "OEIgcPbojjqD",
        "outputId": "d3cb4ef6-9d57-42b7-93d2-fd0df938317d"
      },
      "execution_count": null,
      "outputs": [
        {
          "output_type": "execute_result",
          "data": {
            "text/plain": [
              "['A Z COMERCIO DE COMBUSTIVEIS LTDA',\n",
              " 'ABA MOTORS COMERCIAL IMPORT. PEÇAS SERVIÇOS LTDA',\n",
              " 'ABA SUL COML DE VEIC PEÇAS E SERV AUTOMOTIVOS LTDA',\n",
              " 'ABC PNEUS LIMITADA',\n",
              " 'ABC PNEUS LTDA',\n",
              " 'ABSOLUTA DISTRIBUIDORA DE AUTOMÓVEIS LTDA.',\n",
              " 'ABSOLUTA DISTRIBUIDORADE AUTOMÓVEIS LTDA.',\n",
              " 'ACCIOLY IMP E COM DE AUTO PEÇAS LTDA',\n",
              " 'ACCIOLY IMP.E COM.DE AUTO PECAS LTDA',\n",
              " 'ACCIOLY S/A - IMPORTAÇÃO E COMERCIO',\n",
              " 'ACESSORIOS POLIDORO LTDA',\n",
              " 'ADEVALDO DA SILVA FERNANDES',\n",
              " 'AGNALDO PEREIRA DE PAIVA PNEUS ME',\n",
              " 'AKS AUTOMOTIVE EIRELI - ME',\n",
              " 'ALDO BOCCHI E CIA LTDA ME',\n",
              " 'ALELO S.A',\n",
              " 'ALFACAR PNEUS LTDA EPP',\n",
              " 'ALMEIDA PNEUS DE JALES',\n",
              " 'ALPHANELI PRODUTOS AUTOMOTIVOS EIRELI',\n",
              " 'ANDREA ELI CUSTODIO ME',\n",
              " 'ANDREIA BIANCA VENDITTI',\n",
              " 'ANTONIO APARECIDO DA SILVA-LAVA RAPIDO ME',\n",
              " 'ANTONIO J. DE MIRANDA BRICH - ME',\n",
              " 'APRAVEL VEICULOS LTDA',\n",
              " 'APRAVEL VEICULOS LTDA.',\n",
              " 'ARAUTO SERVICOS AUTOMOTIVOS LTDA',\n",
              " 'ARAUTO SERVIÇOS AUTOMOTIVOS LTDA',\n",
              " 'ARIOVALDO HENRIQUE MAEDA',\n",
              " 'ARRUDA MORAES CIA LTDA EPP',\n",
              " 'AUREO TAKESCHI OBA & CIA LTDA - ME',\n",
              " 'AUTO CENTER 46 LTDA',\n",
              " 'AUTO CLIMA SÃO JOSÉ LTDA.',\n",
              " 'AUTO ELETRICA KANESAKI LTDA',\n",
              " 'AUTO ELETRICA RIZZI DE ITU LTDA',\n",
              " 'AUTO ELETRICA SOARES E SILVA LTDA - EPP',\n",
              " 'AUTO ELETRICO JNC LTDA',\n",
              " 'AUTO ELETRICO MASKEI LTDA ME',\n",
              " 'AUTO ELETRICO TOUDAI LTDA',\n",
              " 'AUTO MECANICA VALREY LTDA ME',\n",
              " 'AUTO PADRÃO SERVIÇOS AUTOMOTIVOS',\n",
              " 'AUTO PECAS E ACESSORIOS PARA AUTOMOVEIS 0KM LTDA',\n",
              " 'AUTO POSTO BRISAS DE BIRIGUI LTDA',\n",
              " 'AUTO POSTO JARDIM AMERICA LT',\n",
              " 'AUTO POSTO MARIA MONTEIRO LTDA.',\n",
              " 'AUTO POSTO MOINHO VELHO LTDA',\n",
              " 'AUTO POSTO PARAIBUNA LTDA',\n",
              " 'AUTO POSTO RETÃO DA DUTRA LTDA',\n",
              " 'AUTO PRIME LTDA',\n",
              " 'AUTO SAUDE MECANICA LTDA ME',\n",
              " 'AUTO-ESPORTE PEÇAS E ACESSORIOS LTDA',\n",
              " 'AUTOESTE VEÍCULOS E PEÇAS LTDA.',\n",
              " 'AUTOMEC COMERCIAL DE VEÍCULOS LTDA.',\n",
              " 'AUTOPISTA FERNÃO DIAS',\n",
              " 'AUTOPISTA FERNÃO DIAS S/A',\n",
              " 'AUTOSUL COMERCIO E SERVIÇOS AUTOMOTIVOS.',\n",
              " 'AUTOVIAS S/A',\n",
              " 'AVANT CAR AUTOMOTIVA EIRELI',\n",
              " 'AVOL AUTO VIDROS OZEAS LTDA',\n",
              " 'AZ ESTETICA AUTOMOTIVA LTDA - ME',\n",
              " 'BAALCO BALANCEAMENTO ALINH. COM. LTDA - ME',\n",
              " 'BALDIN COM. DE PEÇAS AUTOMOTIVAS LTDA ME',\n",
              " 'BATELAU BATERIAS E ACESSORIOS LTDA',\n",
              " 'BATERIAS PONTOCOM COM DE PEÇAS E S AUT LTDA',\n",
              " 'BATPEL AUTO CENTER LTDA - ME',\n",
              " 'BEATRIZ FERNANDA SARAIVA PEREIRA - ME',\n",
              " 'BEER MOTORS VEICULOS PECAS E SERVICOS LTDA',\n",
              " 'BLANCO E POUSADA LTDA EPP',\n",
              " 'BLING - G DIGITAL  COMERCIAL EIRELI - ME',\n",
              " 'BORRACHARIA DA NOVE LTDA ME',\n",
              " 'BORRACHARIA SANTA PURIFICAÇÃO LTDA-ME',\n",
              " 'BRUDOVAN PNEUS LTDA - BENJAMIN',\n",
              " 'BRUDOVAN PNEUS LTDA - NORTE SUL',\n",
              " 'CACULA DE PNEUS COM IMP E EXP LTDA',\n",
              " 'CACULA DE PNEUS COMERCIO IMORTACAO E EXPORTACAO LTDA',\n",
              " 'CACULA DE PNEUS COMERCIO IMPORTACAO E EXPORTACAO LTDA',\n",
              " 'CALAZANS PNEUS E ACESSÓRIOS LTDA.- ME',\n",
              " 'CAMILA SANTOS VEICULOS E PEÇAS LTDA',\n",
              " 'CAMINHO AUTOMOVEIS E CAMINHOES LTDA',\n",
              " 'CAMPEÃO AUTO POSTO LTDA',\n",
              " 'CAMPNEUS LÍDER DE PNEUMÁTICOS LTDA.',\n",
              " 'CAPORRINO E FEDRIGO COM.PNEUS E ACESSORIOS LTDA',\n",
              " 'CARLOS AUGUSTOP DE ALCANTARA',\n",
              " 'CARMASTER FRANQUIA E COMERCIO LTDA',\n",
              " 'CASA DE PNEUS COLONIAL LTDA',\n",
              " 'CASA FERNANDES DE PNEUS LTDA',\n",
              " 'CASA FERNANDES PNEUS LTDA',\n",
              " 'CASTELLO SOLUÇÕES AUTOMOTIVAS LTDA',\n",
              " 'CAÇULA DE PNEUS COM IMP E EXP LTDA',\n",
              " 'CAÇULA DE PNEUS COM.IMP. E EXP. LTDA',\n",
              " 'CAÇULA DE PNEUS COMERCIO IMPORTAÇÃO E EXPORTAÇÃO LTDA',\n",
              " 'CCR SPVIAS-ROD INTEGRADAS DO OESTE S.A',\n",
              " 'CCR-SP VIAS',\n",
              " 'CENTRO  DE GESTÃO DE MEIOS DE PAGT O . LTDA',\n",
              " 'CENTRO AUTOMOTIVO ABRAÃO DE MORAES LTDA',\n",
              " 'CENTRO AUTOMOTIVO HAYDEE LTDA-ME',\n",
              " 'CENTRO DE GESTAO DE MEIOS DE PAGAMENTO LTDA',\n",
              " 'CENTRO DE GESTAO DE MEIOS DE PAGAMENTO S/A',\n",
              " 'CENTRO DE GESTAO DE MEIOS DE PAGTO S/A',\n",
              " 'CENTRO DE GESTAO DE MEIOS DE PGTO S/A',\n",
              " 'CENTRO DE GESTÃO DE MEIOS DE PAGAMENTO',\n",
              " 'CENTRO DE GESTÃO DE MEIOS DE PAGAMENTO S/A',\n",
              " 'CENTRO DE GESTÃO DE MEIOS DE PAGAMENTOS LTDA.',\n",
              " 'CENTRO DE GESTÃO DE MEIOS DE PAGTO',\n",
              " 'CENTRO DE GESTÃO DE MEIOS DE PAGTO S/A',\n",
              " 'CENTRO DE GESTÃO DE MEIOS DE PAGTO.S/A',\n",
              " 'CENTRO DE GESTÃO DE MEIOS DE PGTO LTDA',\n",
              " 'CENTRO DE GESTÃO DE MEIOS DE PGTO S/A',\n",
              " 'CENTRO DE GESTÃO DE MEIOS DE PGTO. LTDA',\n",
              " 'CENTRO DE GESTÃO DE MEIOS DE PGTO. LTDA.',\n",
              " 'CENTRO DE GESTÃO DE MEIOS DE PGTO. S/A',\n",
              " 'CENTRO DE GESTÃO DE MEIOS DE PGTO.LTDA',\n",
              " 'CENTRO DE GESTÃODE MEIOS DE PGTO. LTDA',\n",
              " 'CENTROVIAS',\n",
              " 'CENTROVIAS SISTEMAS RODOVIARIOS S/A',\n",
              " 'CENTROVIAS SISTEMAS RODOVIÁRIOS S/A',\n",
              " 'CHAD E AMARAL CENTRO AUTOMOTIVO LTDA ME',\n",
              " 'CHAVEIRO PEREIRA & ALVES LTDA - ME',\n",
              " 'CHAVES DE OURO CARAVELAS SOC.EMPRESARIA LTDA',\n",
              " 'CHIESA BRASILIA AUTO POSTO LTDA.',\n",
              " 'CICAL VEICULOS LTDA',\n",
              " 'CIVESA VEICULOS S/A RIO CLARO',\n",
              " 'COLINAS',\n",
              " 'COM. DE FILTROS E PEÇAS BIRIGUI LTDA-EPP',\n",
              " 'COMERCIAL AUTOMOTIVA S. A.',\n",
              " 'COMERCIAL AUTOMOTIVA S.A',\n",
              " 'COMERCIAL AUTOMOTIVA S.A.',\n",
              " 'COMERCIAL NEMETH LTDA',\n",
              " 'COMERCIAL TEIXEIRA DE PNEUS LTDA-ME',\n",
              " 'COMERCIO DE PNEUS PAULO FACCINI LTD',\n",
              " 'COMERCIO DE PNEUS VALETAO LTDA',\n",
              " 'COMERCIO DE RADIADORES EHJ LTDA - ME',\n",
              " 'COMERCIODE PNEUS M.A.M.C LTDA - ME',\n",
              " 'COMÉRCIO DE BATERIAS E ACUMULADORES N.A.LTDA',\n",
              " 'CON SISTEMA ANHAGUERA BANDEIRANTES S/A',\n",
              " 'CONC DO SISTEMA RODOVIARIO RJ/SP SA',\n",
              " 'CONC RODOVIA OESTE SP',\n",
              " 'CONC SISTEMA ANHAGUERA-BANDEIRANTES S/A',\n",
              " 'CONC SISTEMA ANHANGUERA -BANDEIRANTES S/A',\n",
              " 'CONC SISTEMA ANHANGUERA BANDEIRANTES S/A',\n",
              " 'CONC SISTEMA ANHANGUERA BANDEIRANTES SA',\n",
              " 'CONC SISTEMA ANHANGUERA- BANDEIRANTES S/A',\n",
              " 'CONC SISTEMA ANHANGUERA-BANDEIRANTES S/A',\n",
              " 'CONC. DA RODOVIA PRESIDENTE DUTRA SA',\n",
              " 'CONC. DO RODOANEL OESTE DE SP S/A',\n",
              " 'CONC. ECOVIAS DOS IMIGRANTES S/A',\n",
              " 'CONC. ROD. DO OESTE DE SÃO PAULO S/A',\n",
              " 'CONC. ROD. INT. PAULISTA S/A',\n",
              " 'CONC. ROD. INT. PAULISTA SA',\n",
              " 'CONC. RODOVIA DO OESTE DE SÂO PAULO S/A',\n",
              " 'CONC. RODOVIA DO OESTE PAULISTA S/A',\n",
              " 'CONC. RODOVIAS DO INTERIOR PAULISTA S/A',\n",
              " 'CONC.SISTEMA ANHANGUERA-BANDEIRANTES S/A',\n",
              " 'CONC.SISTEMA ANHANGUERA-BANDEIRANTES SA',\n",
              " 'CONCESS RODOVIA OESTE DE SAO PAULO S/A',\n",
              " 'CONCESS RODOVIA OESTE DE SÃO PAULO',\n",
              " 'CONCESS. DA RODOVIA PRESIDENTE DUTRA S/A',\n",
              " 'CONCESSIONARIA AUTO RAPOSO TAVARES S/A',\n",
              " 'CONCESSIONARIA DA RODOVIA PRESIDENTE DUTRA S/A',\n",
              " 'CONCESSIONARIA DA RODOVIA PRESIDENTE DUTRA SA',\n",
              " 'CONCESSIONARIA DAS RODOVIAS AYRTON SENNA E CARVALHO PINTO S.A',\n",
              " 'CONCESSIONARIA DAS RODOVIAS AYRTON SENNA E CARVALHO PINTO S.A.',\n",
              " 'CONCESSIONARIA DAS RODOVIAS AYRTON SENNA E CARVALHO PINTO S/A - ECOPISTAS',\n",
              " 'CONCESSIONARIA DAS RODOVIAS AYRTON SENNA E CARVALHO PINTO SA',\n",
              " 'CONCESSIONARIA DO RODOANEL OESTE S/A',\n",
              " 'CONCESSIONARIA ECOVIAS DOS IMIGRANTES S/A',\n",
              " 'CONCESSIONARIA ECOVIAS DOS IMIGTANTES S/A',\n",
              " 'CONCESSIONARIA RODOVIA OESTE DE SAO PAULO S.A.',\n",
              " 'CONCESSIONARIA RODOVIAS DO TIETE S/A',\n",
              " 'CONCESSIONARIA ROTA DAS BANDEIRAS',\n",
              " 'CONCESSIONARIA SPMAR',\n",
              " 'CONCESSIONARIA TRANSBRASIL',\n",
              " 'CONCESSIONARIA TRANSBRASILIANA LTDA',\n",
              " 'CONCESSIONARIA VIARONDON S/A',\n",
              " 'CONCESSIONÁRIA  SPMAR',\n",
              " 'CONCESSIONÁRIA DAS RODOVIAS AYRTON SENNA E CARVALHO PINTO S.A.',\n",
              " 'CONCESSIONÁRIA RODOVIAS DO TIETÊ S/A',\n",
              " 'CONCESSIONÁRIA SISTEMA ANHANGUERA BANDEIRANTES S/A',\n",
              " 'CONCESSIONÁRIA VIARONDON',\n",
              " 'CONECTAR SOLUÇÕES DE MOBILIDADE ELETRONICA S.A.',\n",
              " 'CONECTCAR SLUÇÕES DE MO',\n",
              " 'CONECTCAR SOLUCOES DE MOBILIDADE ELETRONICA SA',\n",
              " 'CONECTCAR SOLUÇÕES DE MOBILIDADE ELETRÔNICA S.A',\n",
              " 'CONECTCAR SOLUÇÕES DE MOBILIDADE ELETRÔNICA S.A.',\n",
              " 'CONECTCAR SOLUÇÕES DE MOBILIDADE SA',\n",
              " 'CORDEIRO PNEUS LTDA',\n",
              " 'COSMAR VEICULOS E MAQUINAS LTDA',\n",
              " 'COSME COSTA DE ANDRADE ME',\n",
              " 'COSTA E SANTOS COM. DE PEÇAS AUTOM. OFIC. MEC. LTDA- ME',\n",
              " 'COTAC COM DE TRAT AUTOM CAMINHOES LTDA',\n",
              " 'COTAC COM TRATORES AUTIMOVEIS CAMINHOES LTDA',\n",
              " 'CRIVELARO CENTRO AUTOMOTIVO EIRELI',\n",
              " 'CUPONS DE PEDÁGIO',\n",
              " 'CYRO BALDIN ME',\n",
              " 'DARCI LOPES DE LIMA',\n",
              " 'DAVID MARCOS RODRIGUES BATERIAS ME',\n",
              " 'DELLA VIA PNEUS LTDA',\n",
              " 'DELLA VIA PNEUS LTDA.',\n",
              " 'DERSA',\n",
              " 'DISBEL DISTRIBUIDORA DE BATERIAS E ELETRECIDADE LTDA-ME',\n",
              " 'DPASCHOAL',\n",
              " 'DPE COMERCIAL LTDA EPP',\n",
              " 'DU PAIVA PNEUS LTDA',\n",
              " 'DUCATTI PNEUS LTDA',\n",
              " 'E A DA GRAÇA',\n",
              " 'E. MARTINS FERRES-ME',\n",
              " 'ECO PISTAS',\n",
              " 'ECOAR CONDICIONADORES DE AR LTDA',\n",
              " 'EDMAR PEREIRA DA CUNHA',\n",
              " 'EDSON TADEU DE ARRUDA MORAES EPP',\n",
              " 'EDUARDO B. DA SILVA BATERIAS - ME',\n",
              " 'ELETROTÉCNICA ALVESPERIS LTDA. - EPP',\n",
              " 'ELIAS FAUSTINO QUARESMA PEÇAS ME',\n",
              " 'ELIVALDO ANTONIO DE CARVALHO -ME',\n",
              " 'EMILTON PEREIRA DOS SANTOS',\n",
              " 'ENTREVIAS',\n",
              " 'ESA BATERIASLTDA ME',\n",
              " 'EVANDRO KLINGER S. FERNANDES ME',\n",
              " 'FABIANA MAFRA NAKASHIMA ME',\n",
              " 'FABIO ROGERIO EVARISTO GARCIA ME',\n",
              " 'FAPER COMERCIO DE PEÇAS PARA AUTOS LTDA ME',\n",
              " 'FAST WASH CPS LAV P/AUTO E LANCH LTDA ME',\n",
              " 'FC PNEUS E ACESSORIOS LTDA ME',\n",
              " 'FELICIO AKIO MIURA ME',\n",
              " 'FELICIO VIGORITO E FILHOS LTDA',\n",
              " 'FERNANDO MITSUWAKI YOSHIDA - ME',\n",
              " 'FERREIRA E VALERIO AUTO PEÇAS LTDA - ME',\n",
              " 'FPS HIGIENIZAÇAO ESPECIALIZADA LTDA ME',\n",
              " 'FRANCISCO DE ASSIS V. DA COSTA -ME',\n",
              " 'FREIOTEC COM.DE LONAS P/FREIOS E FRICÇÃO LTDA EPP',\n",
              " 'FUJIE PEÇAS E ACESSORIOS LTDA',\n",
              " 'GALANTE & GALANTE COMERCIO DE PNEUS LTDA EPP',\n",
              " 'GANDULAS CAR SERVIÇOS',\n",
              " 'GARAGE SERVIÇOS E PEÇAS LTDA EPP',\n",
              " 'GERONIMO &DIEGO PECAS E SERVIÇOS AUTOM. LTDA.',\n",
              " 'GIACOMIN & CIA LTDA',\n",
              " 'GILBERTO MAZINI TARIFA-ME',\n",
              " 'GINEZ AUTO PEÇAS E ACESSÓRIOS LTDA.-ME',\n",
              " 'GOSSN & SFORZA LTDA - ME',\n",
              " 'GRANDE 7 SANTOS COM SERVI LTDA ME',\n",
              " 'GRANLESTE MOTORES LTDA',\n",
              " 'GROSCEST TORRES FRANCO ME',\n",
              " 'GUMERCINDO NOGUEIRA - BORRACHARIA NOGUEIRA',\n",
              " 'H R RODAS COMERCIO DE AUTO PEÇAS LTDA',\n",
              " 'HORIZONTE VEÍCULOS E PEÇAS LTDA',\n",
              " 'IMPACTO CENTRO AUTOMOTIVO',\n",
              " 'IMPÉRIO SETE COMÉRCIO DE PNEUS LTDA',\n",
              " 'INTERVEC INTER DIST VEÍCULOS LTDA',\n",
              " 'IRMAOS FERRETTI E CIA LTDA (F)',\n",
              " 'IRMAOS LUCHINI S.AA COML AUTO PECAS',\n",
              " 'IRMÃOS ROBERTTI COSTA COM VIDROS E ACESS',\n",
              " 'IRMÃOS SARATANI COMERCIO DE AUTO PEÇAS - EPP',\n",
              " 'ITA PEÇAS PARA VEICULOS COM. E SERV. LTDA.',\n",
              " 'ITA ÉCAS PARA VEICULOS COMERCIO E SERVICOS LTDA',\n",
              " 'ITAMARATHY AUTO POSTO E ACESSÓRIOS LTDA',\n",
              " 'ITORORO VEICULOS E PECAS LTDA',\n",
              " 'ITORORO VEICULOS E PEÇAS LTDA',\n",
              " 'ITORORO VEÍCULOS E PEÇAS LTDA',\n",
              " 'ITORORÓ VEICULOS E PEÇAS',\n",
              " 'ITORORÓ VEICULOS E PEÇAS LTDA',\n",
              " 'ITORORÓ VEÍCULOS E PEÇAS',\n",
              " 'ITORORÓ VEÍCULOS E PEÇAS LTDA',\n",
              " 'ITORORÓ VEÍCULOS E PEÇAS LTDA.',\n",
              " 'J. DIONISIO VEÍCULOS LTDA',\n",
              " 'J. K. COMERCIO DE BATERIAS LTDA ME',\n",
              " 'J. L. AUTO ELÉTRICA LTDA. - ME',\n",
              " 'J.K. COMERCIO DE BATERIAS LTDA ME',\n",
              " 'JACIEL DIONISIO LINS JUNIOR',\n",
              " 'JAVEP VEICULOS PECAS E SERVIÃ&#135;OS LTDA',\n",
              " 'JEFFERSON TEIXEIRA RODRIGUES PECAS - ME',\n",
              " 'JF AR CONDICIONADO AUTOMOTIVO LTDA - ME',\n",
              " 'JOAQUINA PARK LAVA RAPIDO E LANCHONETE LTDA - ME',\n",
              " 'JORGE TACIRO CENTRO AUTOMOTIVO LTDA-EPP',\n",
              " 'JQ KAVAN COMERCIO DE PEÇAS LTDA - ME',\n",
              " 'JTICCI FUNILARIA E PINTURA LTDA',\n",
              " 'JURUPIS - MECANICA E LAVA RAPIDO EIRELI - EPP',\n",
              " 'K. T. PINHEIRO ACESSORIOS AUTOMOTIVOS',\n",
              " 'KD PNEUS LTDA EPP',\n",
              " 'L R LOPES ALINHAMENTOS LTDA ME',\n",
              " 'LAERCIO GUILHERME DE SOUZA - ME',\n",
              " 'LAVA RAPIDO E-JK LTDA ME',\n",
              " 'LEANDRO APARECIDO UCHOGA RODAS ME',\n",
              " 'LEDD SERVICOS AUTOMOTIVOS LTDA EPP',\n",
              " 'LIBAN COMERCIO DE VEICULOS E PEÇAS LTDA.',\n",
              " 'LIBAN COMÉRCIO DE VEICULOS E PEÇAS LTDA',\n",
              " 'LUCAS ALBERTO BABILON MEDRADO-EPP',\n",
              " 'LUIS RODRIGUES DA SILVA - MECANICA - ME',\n",
              " 'LUNARDI&FILHO LTDA. EPP.',\n",
              " 'MACEDO COMERCIO DE AUTO PECAS LTDA EPP',\n",
              " 'MARCELO DE OLIVEIRA SILVA LUBRIFICANTES ME',\n",
              " 'MARCELO RIBEIRO ALVES ME',\n",
              " 'MARCIA DONIZETE VIEIRA ME',\n",
              " 'MARCOS ROBERTO FONSECA SERVIÇOS',\n",
              " 'MARIO GOUVEA MECANICA DE AUTOS LTDA ME',\n",
              " 'MARIO ROBERTO BRASILEIRA DE PETRÓLEO LTDA',\n",
              " 'MASTHER DISTRIBUIDORA DE PNEUS LTDA',\n",
              " 'MAXI TROCA COM E SERVIÇOS LTDA',\n",
              " 'MECANICA MANTESE LTDA-EPP',\n",
              " 'MECANICA MULTIMARCAS EIRELI ME',\n",
              " 'MERCADOCAR MERCANTIL DE PECAS LTDA',\n",
              " 'MERCADOCAR MERCANTIL DE PEÇAS LTDA',\n",
              " 'MERCANTIL DISTR. VEIC. LTDA MIX RADIAL F05',\n",
              " 'MINAUTO AUTO CENTER LTDA',\n",
              " 'MKM BATERIAS OLIVEIRA LTDA ME',\n",
              " 'MOTOR 3 VEICULOS LTDA.',\n",
              " 'MP BENEZ CIA LTDA - ME',\n",
              " 'N.A. ACUMULADORRES LTDA',\n",
              " 'NB FILM SERVIÇOS AUTOMOTIVOS LTDA',\n",
              " 'NENE COMERCIO DE PNEUS LTDA',\n",
              " 'NETO PNEUS COMERCIO E SERVIÇOS LTDA - EPP',\n",
              " 'NORTE SUL AUTO VIDROS LTDA',\n",
              " 'NOVA DISTRIBUIDORA DE VEICULOS LTDA',\n",
              " 'NOVA DISTRIBUIDORA DE VEÍCULOS LTDA',\n",
              " 'NOVA DISTRIBUIDORA DE VEÍCULOS LTDA.',\n",
              " 'NUCI & NUCI LTDA - ME',\n",
              " 'OFICINA BASSO LTDA- ME',\n",
              " 'OTAVIO SCATAMBULO-ME',\n",
              " 'OURICAR OURINHOS VEICULOS E PEÇAS LTDA',\n",
              " 'OURICAR OURINHOS VEÃ\\x8dCULOS E PEÃ¿AS LTDA',\n",
              " 'PAIVA PNEUS',\n",
              " 'PASSARI PNEUS LTDA',\n",
              " 'PAULAO AUTO CENTER BARRETOS LTDA - EPP',\n",
              " 'PAX COMERCIO DE PNEUS EIRELI',\n",
              " 'PEDAGIO',\n",
              " 'PEDAGIO DE ELISIARIO',\n",
              " 'PEDÁGIO',\n",
              " 'PEDÁGIOS',\n",
              " 'PEGAGIO',\n",
              " 'PIT STOP PNEUS DE  RIO CLARO',\n",
              " 'PNEUATA ARAÇATUBA - LOJA 2',\n",
              " 'POLIDORO PNEUS LTDA ME',\n",
              " 'POSTO 9 DE JULHO DE ITU EIRELI',\n",
              " 'POSTO CACONDE LTDA',\n",
              " 'POSTO GAIVOTA LT',\n",
              " 'PRAÇA DE PEDÁGIO DE GUARUJÁ',\n",
              " 'PREF-CAR MECANICA FUNILARIA E PINTURA LTDA ME',\n",
              " 'PROESTE DRACENA COMERCIO DE VEICULOS E PECAS LTDA',\n",
              " 'PROMPT CAR SERVIÇOS AUTOMOTIVOS LTDA',\n",
              " 'PROVIDE COMERCIO DE VEICULOS BOTUCATU LTDA',\n",
              " 'R&E DISTRIBUIDORA DE BATERIAS LTDA -ME',\n",
              " 'R.R. GUTIERREZ PNEUS E ACESSORIOS LTDA.',\n",
              " 'RADIADORES TUPA LTDA ME',\n",
              " 'RADIAL PNEUS CENTRO AUTOMOTIVO LTDA-ME',\n",
              " 'RAIO ESTACIONAMENTOS LTDA',\n",
              " 'REGINALDO CLAUDINO DA SILVA BARRINHA - ME',\n",
              " 'REI DO OLEO DIAS JUNIOR E CORREIA DIAS LTDA EPP',\n",
              " 'RENOVIAS S A',\n",
              " 'RICARDO BALCONE PEREIRA ME',\n",
              " 'RICARDO GOSSN DEZAN-ME',\n",
              " 'RICI & ALARCON COMERCIO DE PNEUS LTDA - ME',\n",
              " 'RINALDO JOSÉ ZANCANELLA AUTOMOTIVA - ME',\n",
              " 'RIO GRANDE AUTO POSTO LTDA',\n",
              " 'RODAMIX - CAMPINAS RODAS E PNEUS LTDA ME',\n",
              " 'RODOVIA DO OESTE DE SÃO PAULO',\n",
              " 'RODOVIA DOS TAMOIOS',\n",
              " 'RODOVIA INTEGRADAS DO OESTE',\n",
              " 'RODOVIA PRESIDENTE DUTRA S/A',\n",
              " 'RODOVIA SP 280',\n",
              " 'RODOVIA SP 310',\n",
              " 'RODOVIA SP310',\n",
              " 'RODOVIAS DAS COLINAS S/A',\n",
              " 'RODOVIAS DO TIETE',\n",
              " 'RODOVIAS INTEGRADAS DO OESTE S/A',\n",
              " 'ROGER WILLIAN EVARISTO',\n",
              " 'ROGERIO CAMILO SANTOS ME',\n",
              " 'ROGERIO DE OLIVEIRA ALVES',\n",
              " 'ROGERIO FRIAS HEGUEDUSCH - RIO PRETO - ME',\n",
              " 'ROSE MARLI PEREIRA BENNERTZ ME',\n",
              " 'RT CAR IMPORT COMERCIO DE PEÇAS PARA VEÍCULOS EIRELI ME',\n",
              " 'SANCHES & MAGALHÃES - ME',\n",
              " 'SANDRO LUIZ BASSO - ME',\n",
              " 'SEBBA PEÇAS AUTOMOTIVAS EIRELI',\n",
              " 'SECRETARIA DOS TRANSPORTES DEPARTAMENTO DE ESTRADAS DE RODAGEM',\n",
              " 'SEM PARAR',\n",
              " 'SEM PARAR - CENTRO DE GESTÃO DE MEIOS DE PGTO. LTDA.',\n",
              " 'SEM PARAR CENTRO DE GESTÃ&#131;O DE MEIOS DE PGTO. LTDA',\n",
              " 'SEM PARAR INSTITUIÇÃO DE PAGAMENTO LTDA',\n",
              " 'SEM PARAR INSTITUIÇÃO DE PAGAMENTO LTDA.',\n",
              " 'SERGIO CORREA RIGOLO - ME',\n",
              " 'SERGIO HENRIQUE DE SOUZA MECANICA ME',\n",
              " 'SERGIO ROBERTO SPATTI JUNIOR EIRELE-ME',\n",
              " 'SERPEÇAS SERV. E PEÇAS PARA VEÍCULOS LTDA',\n",
              " 'SF DA SILVA RIBEIRO CENTRAL BATERIAS -ME',\n",
              " 'SIMONE ADRIANA PAIOLA LEANDRO COM DE RODAS - ME',\n",
              " 'SIMONE FERREIRA DA SILVA AMALFI - ME -',\n",
              " 'SISTEMA ANHANGUERA-BANDEIRANTES S/A',\n",
              " 'SOUZA & SICOTTI LTDA. EPP',\n",
              " 'SP 280',\n",
              " 'SPVIAS RODOVIAS INTEGRADAS DO OESTE S A',\n",
              " 'SR - AR CONDICIONADO AUTOMOTIVO LTDA',\n",
              " 'STEFANINI MOTORS VEÍCULOS E PEÇAS LTDA',\n",
              " 'SUVEP SUZANO VEÍCULOS E PEÇAS LTDA',\n",
              " 'T K ALCANTARA ME',\n",
              " 'TAIRA & TAIRA AUTO ACESS. LTDA EPP',\n",
              " 'TAMIRIS MENDES DE SOUSA',\n",
              " 'TAVARES SERVIÇOS AUTOMOTIVOS LTDA EPP',\n",
              " 'TERENCE SERVICOS AUTOMOTIVOS LTDA ME',\n",
              " 'THOR & MARCIO MEDEIROS AUTO MECANICA LTDA.',\n",
              " 'TMT DISTRIBUIDORA DE VEICULOS LTDA',\n",
              " 'TOGOSAN - CENTRO AUTOMOTIVO LTDA.',\n",
              " 'TORREZAN PNEUS LTDA',\n",
              " 'TRIANGULO DO SOL AUTO ESTRADA S/A',\n",
              " 'TRIANGULO DO SOL QUTO ESTRADAS SA',\n",
              " 'TSUBOI COMERCIO DE PNEUS DRACENA LTDA',\n",
              " 'UNIGLASSBR COMERCIO SERVIÇOS IMPORTAÇÃO E EXPORTAÇÃO EIRELI',\n",
              " 'V. ROSSETO COMERCIO E SERVICOS DE PNEUS',\n",
              " 'VANDERLEI BUTINHAO PRADO - EPP',\n",
              " 'VELEIROS PORTOES AUTOMATICOS LTDA',\n",
              " 'VELMAX VEÍCULOS LTDA.',\n",
              " 'VIA NORTE',\n",
              " 'VIA PAULISTA S/A',\n",
              " 'VIA TABAPUA',\n",
              " 'VIAMAR VEICULOS PECAS E SERVICO LTDA',\n",
              " 'VIAMAR VEICULOS PEÇAS E SERVIÇOS LTDA',\n",
              " 'VIAMARVEICULOS PEÇAS E SERVIÇOS LTDA',\n",
              " 'VIDRAÇARIA CAR CENTER LTDA-ME',\n",
              " 'WECA COMERCIO DE BATERIAS LTDA - ME',\n",
              " 'WILSON DOS SANTOS SILVA',\n",
              " 'WILSON DOS SANTOS SILVA 63083973500',\n",
              " 'WMC AUTO E SERVIÇO LIMITADA EPP - TAXIS CIA',\n",
              " 'WRU COM.PEÇAS AUTOM. OFICINA MECAN.LTDA']"
            ]
          },
          "metadata": {},
          "execution_count": 75
        }
      ]
    },
    {
      "cell_type": "code",
      "source": [
        "dpedagio = df.loc[filtroc]"
      ],
      "metadata": {
        "id": "0NI-EOoohCjN"
      },
      "execution_count": null,
      "outputs": []
    },
    {
      "cell_type": "code",
      "source": [
        "sorted(pd.unique(dpedagio['fornecedor']))"
      ],
      "metadata": {
        "colab": {
          "base_uri": "https://localhost:8080/",
          "height": 165
        },
        "id": "SpkGaauLhMLh",
        "outputId": "736dd996-8f5a-4794-8d75-75c94707983d"
      },
      "execution_count": null,
      "outputs": [
        {
          "output_type": "error",
          "ename": "NameError",
          "evalue": "ignored",
          "traceback": [
            "\u001b[0;31m---------------------------------------------------------------------------\u001b[0m",
            "\u001b[0;31mNameError\u001b[0m                                 Traceback (most recent call last)",
            "\u001b[0;32m<ipython-input-72-e8184c12a929>\u001b[0m in \u001b[0;36m<module>\u001b[0;34m\u001b[0m\n\u001b[0;32m----> 1\u001b[0;31m \u001b[0msorted\u001b[0m\u001b[0;34m(\u001b[0m\u001b[0mpd\u001b[0m\u001b[0;34m.\u001b[0m\u001b[0munique\u001b[0m\u001b[0;34m(\u001b[0m\u001b[0mdpedagio\u001b[0m\u001b[0;34m[\u001b[0m\u001b[0;34m'fornecedor'\u001b[0m\u001b[0;34m]\u001b[0m\u001b[0;34m)\u001b[0m\u001b[0;34m)\u001b[0m\u001b[0;34m\u001b[0m\u001b[0;34m\u001b[0m\u001b[0m\n\u001b[0m",
            "\u001b[0;31mNameError\u001b[0m: name 'dpedagio' is not defined"
          ]
        }
      ]
    },
    {
      "cell_type": "code",
      "source": [
        "filtroped = dpedagio.fornecedor.str.contains('PEG|PED')"
      ],
      "metadata": {
        "id": "4OUmAXoviGr7"
      },
      "execution_count": null,
      "outputs": []
    },
    {
      "cell_type": "code",
      "source": [
        "dpedagio = dpedagio.loc[filtroped]"
      ],
      "metadata": {
        "id": "C9BNn_1qiT6h"
      },
      "execution_count": null,
      "outputs": []
    },
    {
      "cell_type": "code",
      "source": [],
      "metadata": {
        "colab": {
          "base_uri": "https://localhost:8080/",
          "height": 311
        },
        "id": "w_hKchVgir3B",
        "outputId": "f961d6d8-4f32-4d2e-df98-18aaae8a35fb"
      },
      "execution_count": null,
      "outputs": [
        {
          "output_type": "error",
          "ename": "KeyError",
          "evalue": "ignored",
          "traceback": [
            "\u001b[0;31m---------------------------------------------------------------------------\u001b[0m",
            "\u001b[0;31mKeyError\u001b[0m                                  Traceback (most recent call last)",
            "\u001b[0;32m<ipython-input-171-31fcdaf619e9>\u001b[0m in \u001b[0;36m<module>\u001b[0;34m\u001b[0m\n\u001b[0;32m----> 1\u001b[0;31m \u001b[0msorted\u001b[0m\u001b[0;34m(\u001b[0m\u001b[0mpd\u001b[0m\u001b[0;34m.\u001b[0m\u001b[0munique\u001b[0m\u001b[0;34m(\u001b[0m\u001b[0mfiltroc\u001b[0m\u001b[0;34m[\u001b[0m\u001b[0;34m'fornecedor'\u001b[0m\u001b[0;34m]\u001b[0m\u001b[0;34m)\u001b[0m\u001b[0;34m)\u001b[0m\u001b[0;34m\u001b[0m\u001b[0;34m\u001b[0m\u001b[0m\n\u001b[0m",
            "\u001b[0;32m/usr/local/lib/python3.7/dist-packages/pandas/core/series.py\u001b[0m in \u001b[0;36m__getitem__\u001b[0;34m(self, key)\u001b[0m\n\u001b[1;32m    940\u001b[0m \u001b[0;34m\u001b[0m\u001b[0m\n\u001b[1;32m    941\u001b[0m         \u001b[0;32melif\u001b[0m \u001b[0mkey_is_scalar\u001b[0m\u001b[0;34m:\u001b[0m\u001b[0;34m\u001b[0m\u001b[0;34m\u001b[0m\u001b[0m\n\u001b[0;32m--> 942\u001b[0;31m             \u001b[0;32mreturn\u001b[0m \u001b[0mself\u001b[0m\u001b[0;34m.\u001b[0m\u001b[0m_get_value\u001b[0m\u001b[0;34m(\u001b[0m\u001b[0mkey\u001b[0m\u001b[0;34m)\u001b[0m\u001b[0;34m\u001b[0m\u001b[0;34m\u001b[0m\u001b[0m\n\u001b[0m\u001b[1;32m    943\u001b[0m \u001b[0;34m\u001b[0m\u001b[0m\n\u001b[1;32m    944\u001b[0m         \u001b[0;32mif\u001b[0m \u001b[0mis_hashable\u001b[0m\u001b[0;34m(\u001b[0m\u001b[0mkey\u001b[0m\u001b[0;34m)\u001b[0m\u001b[0;34m:\u001b[0m\u001b[0;34m\u001b[0m\u001b[0;34m\u001b[0m\u001b[0m\n",
            "\u001b[0;32m/usr/local/lib/python3.7/dist-packages/pandas/core/series.py\u001b[0m in \u001b[0;36m_get_value\u001b[0;34m(self, label, takeable)\u001b[0m\n\u001b[1;32m   1049\u001b[0m \u001b[0;34m\u001b[0m\u001b[0m\n\u001b[1;32m   1050\u001b[0m         \u001b[0;31m# Similar to Index.get_value, but we do not fall back to positional\u001b[0m\u001b[0;34m\u001b[0m\u001b[0;34m\u001b[0m\u001b[0;34m\u001b[0m\u001b[0m\n\u001b[0;32m-> 1051\u001b[0;31m         \u001b[0mloc\u001b[0m \u001b[0;34m=\u001b[0m \u001b[0mself\u001b[0m\u001b[0;34m.\u001b[0m\u001b[0mindex\u001b[0m\u001b[0;34m.\u001b[0m\u001b[0mget_loc\u001b[0m\u001b[0;34m(\u001b[0m\u001b[0mlabel\u001b[0m\u001b[0;34m)\u001b[0m\u001b[0;34m\u001b[0m\u001b[0;34m\u001b[0m\u001b[0m\n\u001b[0m\u001b[1;32m   1052\u001b[0m         \u001b[0;32mreturn\u001b[0m \u001b[0mself\u001b[0m\u001b[0;34m.\u001b[0m\u001b[0mindex\u001b[0m\u001b[0;34m.\u001b[0m\u001b[0m_get_values_for_loc\u001b[0m\u001b[0;34m(\u001b[0m\u001b[0mself\u001b[0m\u001b[0;34m,\u001b[0m \u001b[0mloc\u001b[0m\u001b[0;34m,\u001b[0m \u001b[0mlabel\u001b[0m\u001b[0;34m)\u001b[0m\u001b[0;34m\u001b[0m\u001b[0;34m\u001b[0m\u001b[0m\n\u001b[1;32m   1053\u001b[0m \u001b[0;34m\u001b[0m\u001b[0m\n",
            "\u001b[0;32m/usr/local/lib/python3.7/dist-packages/pandas/core/indexes/range.py\u001b[0m in \u001b[0;36mget_loc\u001b[0;34m(self, key, method, tolerance)\u001b[0m\n\u001b[1;32m    386\u001b[0m                 \u001b[0;32mexcept\u001b[0m \u001b[0mValueError\u001b[0m \u001b[0;32mas\u001b[0m \u001b[0merr\u001b[0m\u001b[0;34m:\u001b[0m\u001b[0;34m\u001b[0m\u001b[0;34m\u001b[0m\u001b[0m\n\u001b[1;32m    387\u001b[0m                     \u001b[0;32mraise\u001b[0m \u001b[0mKeyError\u001b[0m\u001b[0;34m(\u001b[0m\u001b[0mkey\u001b[0m\u001b[0;34m)\u001b[0m \u001b[0;32mfrom\u001b[0m \u001b[0merr\u001b[0m\u001b[0;34m\u001b[0m\u001b[0;34m\u001b[0m\u001b[0m\n\u001b[0;32m--> 388\u001b[0;31m             \u001b[0;32mraise\u001b[0m \u001b[0mKeyError\u001b[0m\u001b[0;34m(\u001b[0m\u001b[0mkey\u001b[0m\u001b[0;34m)\u001b[0m\u001b[0;34m\u001b[0m\u001b[0;34m\u001b[0m\u001b[0m\n\u001b[0m\u001b[1;32m    389\u001b[0m         \u001b[0;32mreturn\u001b[0m \u001b[0msuper\u001b[0m\u001b[0;34m(\u001b[0m\u001b[0;34m)\u001b[0m\u001b[0;34m.\u001b[0m\u001b[0mget_loc\u001b[0m\u001b[0;34m(\u001b[0m\u001b[0mkey\u001b[0m\u001b[0;34m,\u001b[0m \u001b[0mmethod\u001b[0m\u001b[0;34m=\u001b[0m\u001b[0mmethod\u001b[0m\u001b[0;34m,\u001b[0m \u001b[0mtolerance\u001b[0m\u001b[0;34m=\u001b[0m\u001b[0mtolerance\u001b[0m\u001b[0;34m)\u001b[0m\u001b[0;34m\u001b[0m\u001b[0;34m\u001b[0m\u001b[0m\n\u001b[1;32m    390\u001b[0m \u001b[0;34m\u001b[0m\u001b[0m\n",
            "\u001b[0;31mKeyError\u001b[0m: 'fornecedor'"
          ]
        }
      ]
    }
  ]
}